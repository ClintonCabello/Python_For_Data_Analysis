{
  "cells": [
    {
      "cell_type": "markdown",
      "metadata": {
        "id": "PPvJYUsI_Lzb"
      },
      "source": [
        "# Álgebra lineal"
      ]
    },
    {
      "cell_type": "markdown",
      "metadata": {
        "id": "qx0sjw4H_Lzd"
      },
      "source": [
        "Hasta el momento hemos visto cómo aplicar funciones \"elemento a elemento\" a matrices multidimensionales pero, en ningún caso, hemos aplicado funciones de cálculo matricial sobre las mismas. NumPy ofrece un amplio conjunto de funciones que permiten realizar multitud de tratamientos/operaciones matriciales. Todas estas funciones están disponibles a través del submódulo <b>linalg</b>."
      ]
    },
    {
      "cell_type": "code",
      "execution_count": 1,
      "metadata": {
        "id": "g-wZwz5A_Lzd"
      },
      "outputs": [],
      "source": [
        "import numpy as np\n",
        "import numpy.linalg as linalg"
      ]
    },
    {
      "cell_type": "markdown",
      "metadata": {
        "id": "jKq5Z9yj_Lze"
      },
      "source": [
        "Algunas de las más comunes son:<br/>\n",
        "<ul>\n",
        "<li><b>diag:</b> Recupera la diagonal principal del ndarray pasado como parámetro.</li>\n",
        "<li><b>dot:</b> Realiza el producto escalar de dos ndarray.</li>\n",
        "<li><b>trace:</b> Calcula la suma de los elementos de la diagonal principal.</li>\n",
        "<li><b>det:</b> Calcula el determinante de un ndarray.</li>\n",
        "<li><b>eig:</b> Calcula los autovalores y autovectores de un ndarray.</li>\n",
        "<li><b>inv:</b> Calcula la inversa de una matriz.</li>\n",
        "<li><b>qr:</b> Calcula la descomposición QR de una matriz.</li>\n",
        "<li><b>svd:</b> Calcula la descomposición de valores singulares (Singular Value Decomposition) de una matriz.</li>\n",
        "<li><b>solve:</b> Calcula el resultado del sistema lineal Ax = B donde A y B son las matrices de entrada y x la salida.</li>\n",
        "<li><b>lstsq:</b> Calcula la solución de mínimos cuadrados a y = Xb, donde y y b son los parámetros de entrada y X la salida.</li>\n",
        "</ul>"
      ]
    },
    {
      "cell_type": "code",
      "execution_count": 2,
      "metadata": {
        "colab": {
          "base_uri": "https://localhost:8080/"
        },
        "id": "juDREUGo_Lzf",
        "outputId": "9d629e15-ad5a-4b36-fe16-bcac98256fb7"
      },
      "outputs": [
        {
          "output_type": "execute_result",
          "data": {
            "text/plain": [
              "array([[ 1.45984894, -0.99510754,  1.71450986],\n",
              "       [ 0.01979765, -0.97796586,  0.42703974],\n",
              "       [-0.58123901, -0.8488042 ,  0.36825343]])"
            ]
          },
          "metadata": {},
          "execution_count": 2
        }
      ],
      "source": [
        "array1 = np.random.randn(3, 3)\n",
        "array1"
      ]
    },
    {
      "cell_type": "code",
      "execution_count": 3,
      "metadata": {
        "colab": {
          "base_uri": "https://localhost:8080/"
        },
        "id": "1xFR7ko3_Lzf",
        "outputId": "de1f805e-c693-484f-a357-21b7d918f64c"
      },
      "outputs": [
        {
          "output_type": "execute_result",
          "data": {
            "text/plain": [
              "array([ 1.45984894, -0.97796586,  0.36825343])"
            ]
          },
          "metadata": {},
          "execution_count": 3
        }
      ],
      "source": [
        "np.diag(array1)"
      ]
    },
    {
      "cell_type": "code",
      "execution_count": 4,
      "metadata": {
        "colab": {
          "base_uri": "https://localhost:8080/"
        },
        "id": "OHQcG6zr_Lzf",
        "outputId": "543fe366-8138-4697-948a-aef8475d9d5b"
      },
      "outputs": [
        {
          "output_type": "execute_result",
          "data": {
            "text/plain": [
              "array([[0, 1, 2],\n",
              "       [3, 4, 5],\n",
              "       [6, 7, 8]])"
            ]
          },
          "metadata": {},
          "execution_count": 4
        }
      ],
      "source": [
        "array = np.arange(9).reshape(3,3)\n",
        "array"
      ]
    },
    {
      "cell_type": "code",
      "execution_count": 5,
      "metadata": {
        "colab": {
          "base_uri": "https://localhost:8080/"
        },
        "id": "nKOfFmby_Lzf",
        "outputId": "acb7b136-ffa2-45fb-bafc-66b773f26a62"
      },
      "outputs": [
        {
          "output_type": "execute_result",
          "data": {
            "text/plain": [
              "array([[ 15,  18,  21],\n",
              "       [ 42,  54,  66],\n",
              "       [ 69,  90, 111]])"
            ]
          },
          "metadata": {},
          "execution_count": 5
        }
      ],
      "source": [
        "np.dot(array, array)"
      ]
    },
    {
      "cell_type": "code",
      "execution_count": 6,
      "metadata": {
        "colab": {
          "base_uri": "https://localhost:8080/"
        },
        "id": "9H1h82Mj_Lzf",
        "outputId": "7d49b64b-b784-4f1d-d61b-92933d8886fa"
      },
      "outputs": [
        {
          "output_type": "execute_result",
          "data": {
            "text/plain": [
              "array([[-0.00312959,  1.46008101, -1.678591  ],\n",
              "       [ 0.34261929, -2.05721516,  0.79045692],\n",
              "       [ 0.78477926, -2.43722602,  1.88804918]])"
            ]
          },
          "metadata": {},
          "execution_count": 6
        }
      ],
      "source": [
        "linalg.inv(array1)"
      ]
    },
    {
      "cell_type": "code",
      "execution_count": 7,
      "metadata": {
        "colab": {
          "base_uri": "https://localhost:8080/"
        },
        "id": "SJGSbags_Lzf",
        "outputId": "429e9a29-dfa9-4720-dda1-19e2c95a9606"
      },
      "outputs": [
        {
          "output_type": "execute_result",
          "data": {
            "text/plain": [
              "array([[-5.691303  , -5.91294259, -6.13458218],\n",
              "       [-1.42890396, -2.35304291, -3.27718186],\n",
              "       [ 4.01661705,  4.25221948,  4.4878219 ]])"
            ]
          },
          "metadata": {},
          "execution_count": 7
        }
      ],
      "source": [
        "linalg.solve(array1,array)"
      ]
    },
    {
      "cell_type": "code",
      "execution_count": 8,
      "metadata": {
        "colab": {
          "base_uri": "https://localhost:8080/"
        },
        "id": "hwHloY93_Lzg",
        "outputId": "b982bd0a-3003-4e76-b5a8-230f7a214aae"
      },
      "outputs": [
        {
          "output_type": "stream",
          "name": "stdout",
          "text": [
            "q:\n",
            "[[ 0.          0.91287093  0.40824829]\n",
            " [-0.4472136   0.36514837 -0.81649658]\n",
            " [-0.89442719 -0.18257419  0.40824829]]\n",
            "r:\n",
            "[[-6.70820393e+00 -8.04984472e+00 -9.39148551e+00]\n",
            " [ 0.00000000e+00  1.09544512e+00  2.19089023e+00]\n",
            " [ 0.00000000e+00  0.00000000e+00 -8.88178420e-16]]\n"
          ]
        }
      ],
      "source": [
        "q,r = linalg.qr(array)\n",
        "print(\"q:\")\n",
        "print(q)\n",
        "print(\"r:\")\n",
        "print(r)"
      ]
    }
  ],
  "metadata": {
    "anaconda-cloud": {},
    "kernelspec": {
      "display_name": "Python 3",
      "language": "python",
      "name": "python3"
    },
    "language_info": {
      "codemirror_mode": {
        "name": "ipython",
        "version": 3
      },
      "file_extension": ".py",
      "mimetype": "text/x-python",
      "name": "python",
      "nbconvert_exporter": "python",
      "pygments_lexer": "ipython3",
      "version": "3.8.8"
    },
    "colab": {
      "provenance": []
    }
  },
  "nbformat": 4,
  "nbformat_minor": 0
}