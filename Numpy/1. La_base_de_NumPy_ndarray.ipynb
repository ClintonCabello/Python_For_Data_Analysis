{
  "cells": [
    {
      "cell_type": "markdown",
      "metadata": {
        "id": "7JwXza6Z_Ks0"
      },
      "source": [
        "# La base de NumPy - ndarray"
      ]
    },
    {
      "cell_type": "markdown",
      "metadata": {
        "id": "Ptms71td_Ks2"
      },
      "source": [
        "Toda la libería de NumPy se articula alrededor de una única estructura de datos: la matriz multidimensional o ndarray (N-dimensional array).<br/>"
      ]
    },
    {
      "cell_type": "markdown",
      "metadata": {
        "id": "tgb2O5Rd_Ks2"
      },
      "source": [
        "### Características básicas de ndarray"
      ]
    },
    {
      "cell_type": "markdown",
      "metadata": {
        "id": "BI9sicBA_Ks2"
      },
      "source": [
        "<ul>\n",
        "<li>Un ndarray puede contener elementos de <b>CUALQUIER TIPO</b></li>\n",
        "<li>Todos los elementos de un ndarray deben tener <b>EL MISMO TIPO</b>.</li>\n",
        "<li>El tamaño de un ndarray (número de elementos) se define en el momento de la creación y no puede modificarse.</li>\n",
        "<li>Pero la organización de esos elementos entre diferentes dimensiones sí puede modificarse</li>\n",
        "</ul>"
      ]
    },
    {
      "cell_type": "markdown",
      "metadata": {
        "id": "_TE8qqah_Ks2"
      },
      "source": [
        "### Uso básico de cualquier elemento de NumPy"
      ]
    },
    {
      "cell_type": "markdown",
      "metadata": {
        "id": "oyyt3q_5_Ks2"
      },
      "source": [
        "Hay que recordar que NumPy no es un módulo del core de Python por lo que SIEMPRE habrá que importarlo de forma completa o componente a componente."
      ]
    },
    {
      "cell_type": "code",
      "execution_count": 1,
      "metadata": {
        "id": "y6hBqTg-_Ks3"
      },
      "outputs": [],
      "source": [
        "import numpy as np"
      ]
    },
    {
      "cell_type": "markdown",
      "metadata": {
        "id": "aPEKjD9T_Ks3"
      },
      "source": [
        "### Creación básica de ndarrays"
      ]
    },
    {
      "cell_type": "markdown",
      "metadata": {
        "id": "h7NhiCxH_Ks3"
      },
      "source": [
        "Existen varias formas de crear un ndarray en NumPy. Vamos a ver las más relevantes."
      ]
    },
    {
      "cell_type": "markdown",
      "metadata": {
        "id": "2xXgwNbC_Ks3"
      },
      "source": [
        "#### Creación de un ndarray cuyos elementos son una secuencia numérica"
      ]
    },
    {
      "cell_type": "code",
      "execution_count": 2,
      "metadata": {
        "colab": {
          "base_uri": "https://localhost:8080/"
        },
        "id": "xUKweigA_Ks3",
        "outputId": "d8ade5d5-1b3c-44b2-c94a-282f82f4b241"
      },
      "outputs": [
        {
          "output_type": "execute_result",
          "data": {
            "text/plain": [
              "array([0, 1, 2, 3, 4, 5, 6, 7, 8, 9])"
            ]
          },
          "metadata": {},
          "execution_count": 2
        }
      ],
      "source": [
        "# Un parámetro: desde 0 (incluido) hasta el valor indicado (no incluido)\n",
        "array_secuencia_1 = np.arange(10)\n",
        "array_secuencia_1"
      ]
    },
    {
      "cell_type": "code",
      "execution_count": 3,
      "metadata": {
        "colab": {
          "base_uri": "https://localhost:8080/"
        },
        "id": "OUKj14zt_Ks3",
        "outputId": "b384521b-5af6-413f-c90a-f2fbf2196129"
      },
      "outputs": [
        {
          "output_type": "execute_result",
          "data": {
            "text/plain": [
              "array([5, 6, 7, 8, 9])"
            ]
          },
          "metadata": {},
          "execution_count": 3
        }
      ],
      "source": [
        "# Dos parámetros: desde el primer valor (incluido) hasta el segundo valor (no incluido)\n",
        "array_secuencia_2 = np.arange(5, 10)\n",
        "array_secuencia_2"
      ]
    },
    {
      "cell_type": "code",
      "execution_count": 4,
      "metadata": {
        "colab": {
          "base_uri": "https://localhost:8080/"
        },
        "id": "yWvHmljP_Ks4",
        "outputId": "134ef2da-a755-4ce2-9b2d-cb5255e72bbe"
      },
      "outputs": [
        {
          "output_type": "execute_result",
          "data": {
            "text/plain": [
              "array([ 5,  7,  9, 11, 13, 15, 17, 19])"
            ]
          },
          "metadata": {},
          "execution_count": 4
        }
      ],
      "source": [
        "# Tres parámetros: desde el primer valor (incluido) hasta el segundo (no incluido) con saltos del tercer valor\n",
        "array_secuencia_3 = np.arange(5, 20, 2)\n",
        "array_secuencia_3"
      ]
    },
    {
      "cell_type": "markdown",
      "metadata": {
        "id": "RHJ26K8g_Ks4"
      },
      "source": [
        "#### Creación de un ndarray a partir de una secuencia básica de Python"
      ]
    },
    {
      "cell_type": "code",
      "execution_count": 5,
      "metadata": {
        "colab": {
          "base_uri": "https://localhost:8080/"
        },
        "id": "F47noqoC_Ks4",
        "outputId": "4a110462-11a6-4a59-ac14-4b7ce1529fd6"
      },
      "outputs": [
        {
          "output_type": "execute_result",
          "data": {
            "text/plain": [
              "numpy.ndarray"
            ]
          },
          "metadata": {},
          "execution_count": 5
        }
      ],
      "source": [
        "# Unidimensional\n",
        "array_basico = np.array([1, 2, 3, 4, 5])\n",
        "type(array_basico)"
      ]
    },
    {
      "cell_type": "code",
      "execution_count": 6,
      "metadata": {
        "colab": {
          "base_uri": "https://localhost:8080/"
        },
        "id": "4IabKkci_Ks4",
        "outputId": "b8d685be-bfd7-4ab9-f355-f00202a93da3"
      },
      "outputs": [
        {
          "output_type": "execute_result",
          "data": {
            "text/plain": [
              "array([[1, 2, 3, 4],\n",
              "       [5, 6, 7, 8]])"
            ]
          },
          "metadata": {},
          "execution_count": 6
        }
      ],
      "source": [
        "# Multidimensional\n",
        "array_basico_multidimensional = np.array([[1, 2, 3, 4], [5, 6, 7, 8]])\n",
        "array_basico_multidimensional"
      ]
    },
    {
      "cell_type": "markdown",
      "metadata": {
        "id": "ja-jONk1_Ks4"
      },
      "source": [
        "### Consulta de la composición de un ndarray"
      ]
    },
    {
      "cell_type": "markdown",
      "metadata": {
        "id": "gVa2u0JM_Ks4"
      },
      "source": [
        "<ul>\n",
        "<li><b>dtype</b>: Tipo del contenido del ndarray.</li>\n",
        "<li><b>ndim</b>: Número de dimensiones/ejes del ndarray.</li>\n",
        "<li><b>shape</b>: Estructura/forma del ndarray, es decir, número de elementos en cada uno de los ejes/dimensiones.</li>\n",
        "<li><b>size</b>: Número total de elementos en el ndarray.</li>\n",
        "</ul>"
      ]
    },
    {
      "cell_type": "code",
      "execution_count": 7,
      "metadata": {
        "colab": {
          "base_uri": "https://localhost:8080/"
        },
        "id": "8sUCE44R_Ks4",
        "outputId": "a4ad730f-8c97-4c4e-909b-09a8ad119c76"
      },
      "outputs": [
        {
          "output_type": "execute_result",
          "data": {
            "text/plain": [
              "array([[ 1,  2,  3,  4],\n",
              "       [ 5,  6,  7,  8],\n",
              "       [ 9, 10, 11, 12]])"
            ]
          },
          "metadata": {},
          "execution_count": 7
        }
      ],
      "source": [
        "array = np.array([[1, 2, 3, 4], [5, 6, 7, 8], [9, 10, 11, 12]])\n",
        "array"
      ]
    },
    {
      "cell_type": "code",
      "execution_count": 8,
      "metadata": {
        "colab": {
          "base_uri": "https://localhost:8080/"
        },
        "id": "vAPLlw4Q_Ks4",
        "outputId": "70179e7a-d60d-44e2-bc32-91732972b77c"
      },
      "outputs": [
        {
          "output_type": "execute_result",
          "data": {
            "text/plain": [
              "dtype('int64')"
            ]
          },
          "metadata": {},
          "execution_count": 8
        }
      ],
      "source": [
        "# Tipo de dato (único)\n",
        "array.dtype"
      ]
    },
    {
      "cell_type": "code",
      "execution_count": 9,
      "metadata": {
        "colab": {
          "base_uri": "https://localhost:8080/"
        },
        "id": "qsIyW94Q_Ks4",
        "outputId": "50a16f28-b3a4-45da-babf-ec936228cd2d"
      },
      "outputs": [
        {
          "output_type": "execute_result",
          "data": {
            "text/plain": [
              "2"
            ]
          },
          "metadata": {},
          "execution_count": 9
        }
      ],
      "source": [
        "# Número de dimensiones\n",
        "array.ndim"
      ]
    },
    {
      "cell_type": "code",
      "execution_count": 10,
      "metadata": {
        "colab": {
          "base_uri": "https://localhost:8080/"
        },
        "id": "ovFBcE_E_Ks4",
        "outputId": "a4f1875c-ad2a-405c-df29-e7400ecd5470"
      },
      "outputs": [
        {
          "output_type": "execute_result",
          "data": {
            "text/plain": [
              "(3, 4)"
            ]
          },
          "metadata": {},
          "execution_count": 10
        }
      ],
      "source": [
        "# Forma/Dimensiones\n",
        "array.shape"
      ]
    },
    {
      "cell_type": "code",
      "execution_count": 11,
      "metadata": {
        "colab": {
          "base_uri": "https://localhost:8080/"
        },
        "id": "K5g1GfHW_Ks5",
        "outputId": "37a33148-e3eb-4df9-d3a9-71cf2de00aa4"
      },
      "outputs": [
        {
          "output_type": "execute_result",
          "data": {
            "text/plain": [
              "12"
            ]
          },
          "metadata": {},
          "execution_count": 11
        }
      ],
      "source": [
        "# Número total de elementos\n",
        "array.size"
      ]
    },
    {
      "cell_type": "markdown",
      "metadata": {
        "id": "6g37SuBu_Ks5"
      },
      "source": [
        "### Operaciones aritméticas entre ndarrays y escalares"
      ]
    },
    {
      "cell_type": "code",
      "execution_count": 12,
      "metadata": {
        "colab": {
          "base_uri": "https://localhost:8080/"
        },
        "id": "3h4pX6_l_Ks5",
        "outputId": "6f52d650-5951-494a-bbc5-33d237faeb05"
      },
      "outputs": [
        {
          "output_type": "execute_result",
          "data": {
            "text/plain": [
              "array([1., 2., 3., 4., 5., 6.])"
            ]
          },
          "metadata": {},
          "execution_count": 12
        }
      ],
      "source": [
        "array = np.array([1, 2, 3, 4, 5, 6], dtype=np.float64)\n",
        "array"
      ]
    },
    {
      "cell_type": "code",
      "execution_count": 13,
      "metadata": {
        "colab": {
          "base_uri": "https://localhost:8080/"
        },
        "id": "8vETR3uX_Ks5",
        "outputId": "334125ca-1ed0-4cb6-e00b-a65198ad4a12"
      },
      "outputs": [
        {
          "output_type": "execute_result",
          "data": {
            "text/plain": [
              "array([ 6.,  7.,  8.,  9., 10., 11.])"
            ]
          },
          "metadata": {},
          "execution_count": 13
        }
      ],
      "source": [
        "# Suma\n",
        "array + 5"
      ]
    },
    {
      "cell_type": "code",
      "execution_count": 14,
      "metadata": {
        "colab": {
          "base_uri": "https://localhost:8080/"
        },
        "id": "jm-9K2uL_Ks5",
        "outputId": "065b8ad4-8969-449f-86d9-6bce6d6a91e1"
      },
      "outputs": [
        {
          "output_type": "execute_result",
          "data": {
            "text/plain": [
              "array([-1.,  0.,  1.,  2.,  3.,  4.])"
            ]
          },
          "metadata": {},
          "execution_count": 14
        }
      ],
      "source": [
        "# Resta\n",
        "array - 2"
      ]
    },
    {
      "cell_type": "code",
      "execution_count": 15,
      "metadata": {
        "colab": {
          "base_uri": "https://localhost:8080/"
        },
        "id": "dkcniPFa_Ks5",
        "outputId": "0ce52a05-d244-4a2c-a420-04890407ba04"
      },
      "outputs": [
        {
          "output_type": "execute_result",
          "data": {
            "text/plain": [
              "array([ 3.,  6.,  9., 12., 15., 18.])"
            ]
          },
          "metadata": {},
          "execution_count": 15
        }
      ],
      "source": [
        "# Multiplicación\n",
        "array * 3"
      ]
    },
    {
      "cell_type": "code",
      "execution_count": 16,
      "metadata": {
        "colab": {
          "base_uri": "https://localhost:8080/"
        },
        "id": "fKVlK6Nr_Ks5",
        "outputId": "2749ec6a-0a6d-44ea-d960-bd0504d09351"
      },
      "outputs": [
        {
          "output_type": "execute_result",
          "data": {
            "text/plain": [
              "array([1.        , 0.5       , 0.33333333, 0.25      , 0.2       ,\n",
              "       0.16666667])"
            ]
          },
          "metadata": {},
          "execution_count": 16
        }
      ],
      "source": [
        "# División\n",
        "1 / array"
      ]
    },
    {
      "cell_type": "code",
      "execution_count": 17,
      "metadata": {
        "colab": {
          "base_uri": "https://localhost:8080/"
        },
        "id": "pzbAd4zE_Ks5",
        "outputId": "46dd0540-7d25-4c49-db05-b7e30df84abc"
      },
      "outputs": [
        {
          "output_type": "execute_result",
          "data": {
            "text/plain": [
              "array([0., 1., 1., 2., 2., 3.])"
            ]
          },
          "metadata": {},
          "execution_count": 17
        }
      ],
      "source": [
        "# División entera\n",
        "array // 2"
      ]
    },
    {
      "cell_type": "code",
      "execution_count": 18,
      "metadata": {
        "colab": {
          "base_uri": "https://localhost:8080/"
        },
        "id": "P8sNyiaA_Ks5",
        "outputId": "47c2ee8a-aada-48ff-f4ac-1adca0089b5e"
      },
      "outputs": [
        {
          "output_type": "execute_result",
          "data": {
            "text/plain": [
              "array([ 1.,  4.,  9., 16., 25., 36.])"
            ]
          },
          "metadata": {},
          "execution_count": 18
        }
      ],
      "source": [
        "# Potencia\n",
        "array ** 2"
      ]
    },
    {
      "cell_type": "code",
      "execution_count": 19,
      "metadata": {
        "colab": {
          "base_uri": "https://localhost:8080/"
        },
        "id": "B28IoFG__Ks5",
        "outputId": "c976235e-c554-4688-9d79-681e106c92a6"
      },
      "outputs": [
        {
          "output_type": "stream",
          "name": "stdout",
          "text": [
            "[1. 2. 3. 4. 5. 6.]\n",
            "[2. 3. 4. 5. 6. 7.]\n"
          ]
        }
      ],
      "source": [
        "# Asignación con operador\n",
        "print(array)\n",
        "array += 1\n",
        "print(array)"
      ]
    },
    {
      "cell_type": "markdown",
      "metadata": {
        "id": "PP49b3pI_Ks5"
      },
      "source": [
        "### Operaciones aritméticas entre ndarrays"
      ]
    },
    {
      "cell_type": "markdown",
      "metadata": {
        "id": "wlG32PTR_Ks5"
      },
      "source": [
        "<b>IMPORTANTE:</b> Los dos términos de la operación tienen que ser ndarrays de las mismas dimensiones y forma. Se aplica la operación elemento a elemento."
      ]
    },
    {
      "cell_type": "code",
      "execution_count": 20,
      "metadata": {
        "id": "zp-S6479_Ks6"
      },
      "outputs": [],
      "source": [
        "array = np.array([1, 2, 3, 4, 5, 6], dtype=np.float64)\n",
        "array2 = np.array([10, 20, 30, 40, 50, 60], dtype=np.float64)"
      ]
    },
    {
      "cell_type": "code",
      "execution_count": 21,
      "metadata": {
        "colab": {
          "base_uri": "https://localhost:8080/"
        },
        "id": "il81_mhX_Ks6",
        "outputId": "41ad4b31-fc79-43ae-ba27-6921591974ed"
      },
      "outputs": [
        {
          "output_type": "stream",
          "name": "stdout",
          "text": [
            "[1. 2. 3. 4. 5. 6.]\n",
            "[10. 20. 30. 40. 50. 60.]\n"
          ]
        }
      ],
      "source": [
        "print(array)\n",
        "print(array2)"
      ]
    },
    {
      "cell_type": "code",
      "execution_count": 22,
      "metadata": {
        "colab": {
          "base_uri": "https://localhost:8080/"
        },
        "id": "cOAAW-Id_Ks6",
        "outputId": "6db88946-0099-45fe-d9d6-a7b94faf907d"
      },
      "outputs": [
        {
          "output_type": "execute_result",
          "data": {
            "text/plain": [
              "array([11., 22., 33., 44., 55., 66.])"
            ]
          },
          "metadata": {},
          "execution_count": 22
        }
      ],
      "source": [
        "# Suma (elemento a elmento)\n",
        "array + array2"
      ]
    },
    {
      "cell_type": "code",
      "execution_count": 23,
      "metadata": {
        "colab": {
          "base_uri": "https://localhost:8080/"
        },
        "id": "GWDdN79-_Ks6",
        "outputId": "a99059f9-475f-4cb7-e406-2861d46cd38b"
      },
      "outputs": [
        {
          "output_type": "execute_result",
          "data": {
            "text/plain": [
              "array([ -9., -18., -27., -36., -45., -54.])"
            ]
          },
          "metadata": {},
          "execution_count": 23
        }
      ],
      "source": [
        "# Resta (elemento a elmento)\n",
        "array - array2"
      ]
    },
    {
      "cell_type": "code",
      "execution_count": 24,
      "metadata": {
        "colab": {
          "base_uri": "https://localhost:8080/"
        },
        "id": "kRFR76rn_Ks6",
        "outputId": "c211031f-4cc8-4b55-bf2c-52ec7d44e6a4"
      },
      "outputs": [
        {
          "output_type": "execute_result",
          "data": {
            "text/plain": [
              "array([ 10.,  40.,  90., 160., 250., 360.])"
            ]
          },
          "metadata": {},
          "execution_count": 24
        }
      ],
      "source": [
        "# Multiplicación (elemento a elmento)\n",
        "array * array2"
      ]
    },
    {
      "cell_type": "code",
      "execution_count": 25,
      "metadata": {
        "colab": {
          "base_uri": "https://localhost:8080/"
        },
        "id": "VHQarjqj_Ks9",
        "outputId": "c628066b-2b1a-4cac-c4ca-a7176288a8bd"
      },
      "outputs": [
        {
          "output_type": "execute_result",
          "data": {
            "text/plain": [
              "array([0.1, 0.1, 0.1, 0.1, 0.1, 0.1])"
            ]
          },
          "metadata": {},
          "execution_count": 25
        }
      ],
      "source": [
        "# División (elemento a elmento)\n",
        "array / array2"
      ]
    },
    {
      "cell_type": "code",
      "execution_count": 26,
      "metadata": {
        "colab": {
          "base_uri": "https://localhost:8080/"
        },
        "id": "1eunzpW1_Ks9",
        "outputId": "9b35965e-37fd-41d4-fb0b-35cbde13cd10"
      },
      "outputs": [
        {
          "output_type": "execute_result",
          "data": {
            "text/plain": [
              "array([11., 22., 33., 44., 55., 66.])"
            ]
          },
          "metadata": {},
          "execution_count": 26
        }
      ],
      "source": [
        "# Asignación con operador\n",
        "array += array2\n",
        "array"
      ]
    },
    {
      "cell_type": "markdown",
      "metadata": {
        "id": "YYGYO2es_Ks9"
      },
      "source": [
        "### Indexación y slicing básico"
      ]
    },
    {
      "cell_type": "markdown",
      "metadata": {
        "id": "jPOBqYFq_Ks9"
      },
      "source": [
        "En ndarrays unidimensionales el funcionamiento es idéntico al que se tiene en secuencias básicas de Python. Es decir, se utiliza la indexación [a:b:c]."
      ]
    },
    {
      "cell_type": "code",
      "execution_count": 27,
      "metadata": {
        "id": "gdYlAx8f_Ks9"
      },
      "outputs": [],
      "source": [
        "array = np.arange(1, 11)"
      ]
    },
    {
      "cell_type": "code",
      "execution_count": 28,
      "metadata": {
        "colab": {
          "base_uri": "https://localhost:8080/"
        },
        "id": "BM9OxFXv_Ks9",
        "outputId": "4e88c689-9cc8-46e8-9fd4-a2215c60bbeb"
      },
      "outputs": [
        {
          "output_type": "execute_result",
          "data": {
            "text/plain": [
              "3"
            ]
          },
          "metadata": {},
          "execution_count": 28
        }
      ],
      "source": [
        "# Indexación con primer parámetro\n",
        "array[2]"
      ]
    },
    {
      "cell_type": "code",
      "execution_count": 29,
      "metadata": {
        "colab": {
          "base_uri": "https://localhost:8080/"
        },
        "id": "LpoOuNj-_Ks-",
        "outputId": "d86d183c-bb69-4329-e0cf-ea173224fd5a"
      },
      "outputs": [
        {
          "output_type": "execute_result",
          "data": {
            "text/plain": [
              "array([3, 4, 5])"
            ]
          },
          "metadata": {},
          "execution_count": 29
        }
      ],
      "source": [
        "# Indexación con primer y segundo parámetro\n",
        "array[2:5]"
      ]
    },
    {
      "cell_type": "code",
      "execution_count": 30,
      "metadata": {
        "colab": {
          "base_uri": "https://localhost:8080/"
        },
        "id": "VjCNMymY_Ks-",
        "outputId": "63ec28d8-9976-4988-9093-cacaa541aa87"
      },
      "outputs": [
        {
          "output_type": "execute_result",
          "data": {
            "text/plain": [
              "array([1, 3, 5, 7, 9])"
            ]
          },
          "metadata": {},
          "execution_count": 30
        }
      ],
      "source": [
        "# Indexación con tercer parámetro\n",
        "array[::2]"
      ]
    },
    {
      "cell_type": "code",
      "execution_count": 31,
      "metadata": {
        "colab": {
          "base_uri": "https://localhost:8080/"
        },
        "id": "79Uv9OOg_Ks-",
        "outputId": "f69b3da4-9a54-431d-c3f0-e934c60db47c"
      },
      "outputs": [
        {
          "output_type": "execute_result",
          "data": {
            "text/plain": [
              "array([10,  9,  8,  7,  6,  5,  4,  3,  2,  1])"
            ]
          },
          "metadata": {},
          "execution_count": 31
        }
      ],
      "source": [
        "# Indexación con negativos\n",
        "array[::-1]"
      ]
    },
    {
      "cell_type": "markdown",
      "metadata": {
        "id": "vUHiDX2H_Ks-"
      },
      "source": [
        "En ndarrays multidimensionales, existen dos posibles formas de realizar el acceso:<br/>\n",
        "<ul>\n",
        "<li><b>Mediante indexación recursiva:</b> array[a:b:c en dim_1][a:b:c en dim_2]...[a:b:c en dim_n]</li>\n",
        "<li><b>Mediante indexación con comas:</b> array[a:b:c en dim_1, a:b:c en dim_2, ...a:b:c en dim_n]</li>\n",
        "</ul>"
      ]
    },
    {
      "cell_type": "code",
      "execution_count": 32,
      "metadata": {
        "colab": {
          "base_uri": "https://localhost:8080/"
        },
        "id": "FGkQhIZB_Ks-",
        "outputId": "85831a60-59e5-4795-bab5-71ca00e98eb9"
      },
      "outputs": [
        {
          "output_type": "execute_result",
          "data": {
            "text/plain": [
              "array([[[ 1,  2,  3,  4],\n",
              "        [ 5,  6,  7,  8]],\n",
              "\n",
              "       [[ 9, 10, 11, 12],\n",
              "        [13, 14, 15, 16]]])"
            ]
          },
          "metadata": {},
          "execution_count": 32
        }
      ],
      "source": [
        "array = np.array([[[1, 2, 3, 4], [5, 6, 7, 8]], [[9, 10, 11, 12], [13, 14, 15, 16]]])\n",
        "array"
      ]
    },
    {
      "cell_type": "code",
      "execution_count": 33,
      "metadata": {
        "colab": {
          "base_uri": "https://localhost:8080/"
        },
        "id": "HdEoGV_7_Ks-",
        "outputId": "172fd237-3e8a-4cb7-f7f7-fcc8b3939fe0"
      },
      "outputs": [
        {
          "output_type": "execute_result",
          "data": {
            "text/plain": [
              "(2, 2, 4)"
            ]
          },
          "metadata": {},
          "execution_count": 33
        }
      ],
      "source": [
        "# Forma de la matriz\n",
        "array.shape"
      ]
    },
    {
      "cell_type": "code",
      "execution_count": 34,
      "metadata": {
        "colab": {
          "base_uri": "https://localhost:8080/"
        },
        "id": "aculjtCU_Ks-",
        "outputId": "945284f6-d27d-41a5-e87d-80a67f747714"
      },
      "outputs": [
        {
          "output_type": "execute_result",
          "data": {
            "text/plain": [
              "array([[ 9, 10, 11, 12],\n",
              "       [13, 14, 15, 16]])"
            ]
          },
          "metadata": {},
          "execution_count": 34
        }
      ],
      "source": [
        "# Indexación recursiva primer nivel\n",
        "array[1]"
      ]
    },
    {
      "cell_type": "code",
      "execution_count": 35,
      "metadata": {
        "colab": {
          "base_uri": "https://localhost:8080/"
        },
        "id": "cjk6cHJ3_Ks-",
        "outputId": "b82df6b4-f681-43be-ac07-be2aa7d9138a"
      },
      "outputs": [
        {
          "output_type": "execute_result",
          "data": {
            "text/plain": [
              "array([ 9, 10, 11, 12])"
            ]
          },
          "metadata": {},
          "execution_count": 35
        }
      ],
      "source": [
        "# Indexación recursiva segundo nivel\n",
        "array[1][0]"
      ]
    },
    {
      "cell_type": "code",
      "execution_count": 36,
      "metadata": {
        "colab": {
          "base_uri": "https://localhost:8080/"
        },
        "id": "v1RNyYCr_Ks_",
        "outputId": "0ab45f8d-6324-4da7-f98c-bf988ed106f8"
      },
      "outputs": [
        {
          "output_type": "execute_result",
          "data": {
            "text/plain": [
              "12"
            ]
          },
          "metadata": {},
          "execution_count": 36
        }
      ],
      "source": [
        "# Indexación recursiva tercer nivel\n",
        "array[1][0][3]"
      ]
    },
    {
      "cell_type": "code",
      "execution_count": 37,
      "metadata": {
        "colab": {
          "base_uri": "https://localhost:8080/"
        },
        "id": "kV0zVEJv_Ks_",
        "outputId": "99b904b5-50fa-4ae2-b369-cf913131c519"
      },
      "outputs": [
        {
          "output_type": "execute_result",
          "data": {
            "text/plain": [
              "array([ 9, 10, 11, 12])"
            ]
          },
          "metadata": {},
          "execution_count": 37
        }
      ],
      "source": [
        "# Indexación con comas segundo nivel\n",
        "array[1, 0]"
      ]
    },
    {
      "cell_type": "code",
      "execution_count": 38,
      "metadata": {
        "colab": {
          "base_uri": "https://localhost:8080/"
        },
        "id": "SuCm7SN1_KtA",
        "outputId": "b31b0642-502e-4c8c-a7bc-7ca018d49be8"
      },
      "outputs": [
        {
          "output_type": "execute_result",
          "data": {
            "text/plain": [
              "12"
            ]
          },
          "metadata": {},
          "execution_count": 38
        }
      ],
      "source": [
        "# Indexación con comas tercer nivel\n",
        "array[1, 0, 3]"
      ]
    },
    {
      "cell_type": "code",
      "execution_count": 39,
      "metadata": {
        "colab": {
          "base_uri": "https://localhost:8080/"
        },
        "id": "pWDvi8wU_KtA",
        "outputId": "b67b0f31-3d61-4b9e-da1b-91c73f6bbf98"
      },
      "outputs": [
        {
          "output_type": "execute_result",
          "data": {
            "text/plain": [
              "array([1, 2])"
            ]
          },
          "metadata": {},
          "execution_count": 39
        }
      ],
      "source": [
        "# Indexación recursiva tercer nivel con slice\n",
        "array[0][0][:2]"
      ]
    },
    {
      "cell_type": "code",
      "execution_count": 40,
      "metadata": {
        "colab": {
          "base_uri": "https://localhost:8080/"
        },
        "id": "4x2mDmHG_KtA",
        "outputId": "7dd3c079-2521-49b1-c90e-ddfdd31fb6ca"
      },
      "outputs": [
        {
          "output_type": "execute_result",
          "data": {
            "text/plain": [
              "array([12, 11, 10,  9])"
            ]
          },
          "metadata": {},
          "execution_count": 40
        }
      ],
      "source": [
        "# Indexación recursiva tercer nivel con slice de índice negativo\n",
        "array[1][0][::-1]"
      ]
    },
    {
      "cell_type": "markdown",
      "metadata": {
        "id": "S3NxNFAx_KtA"
      },
      "source": [
        "Del mismo modo a como ocurre en Python básico, se puede utilizar la indexación/slicing para modificar secciones del contenido de un ndarray."
      ]
    },
    {
      "cell_type": "code",
      "execution_count": 41,
      "metadata": {
        "id": "VsnzKt-h_KtA"
      },
      "outputs": [],
      "source": [
        "array = np.array([[1, 2, 3, 4],[5, 6, 7, 8]])"
      ]
    },
    {
      "cell_type": "code",
      "execution_count": 42,
      "metadata": {
        "colab": {
          "base_uri": "https://localhost:8080/"
        },
        "id": "bs1Ga5j2_KtA",
        "outputId": "fe2a5afa-8f0a-49b6-f074-02b0400de3d8"
      },
      "outputs": [
        {
          "output_type": "execute_result",
          "data": {
            "text/plain": [
              "array([[ 1, 50,  3,  4],\n",
              "       [ 5,  6,  7,  8]])"
            ]
          },
          "metadata": {},
          "execution_count": 42
        }
      ],
      "source": [
        "# Modificación de una posición\n",
        "array[0][1] = 50\n",
        "array"
      ]
    },
    {
      "cell_type": "code",
      "execution_count": 43,
      "metadata": {
        "colab": {
          "base_uri": "https://localhost:8080/"
        },
        "id": "e-mjQjbn_KtA",
        "outputId": "a375e481-1963-4a88-c362-eb23b7a7885f"
      },
      "outputs": [
        {
          "output_type": "execute_result",
          "data": {
            "text/plain": [
              "array([[30, 50, 30,  4],\n",
              "       [ 5,  6,  7,  8]])"
            ]
          },
          "metadata": {},
          "execution_count": 43
        }
      ],
      "source": [
        "# Modificación de un slice\n",
        "array[0][::2] = 30\n",
        "array"
      ]
    },
    {
      "cell_type": "markdown",
      "metadata": {
        "id": "c2MuP46H_KtA"
      },
      "source": [
        "### Indexación y slicing booleano"
      ]
    },
    {
      "cell_type": "code",
      "execution_count": 44,
      "metadata": {
        "colab": {
          "base_uri": "https://localhost:8080/"
        },
        "id": "bFrcP4nI_KtA",
        "outputId": "bf513b7d-6e6f-468f-ec93-fc46700d62f7"
      },
      "outputs": [
        {
          "output_type": "execute_result",
          "data": {
            "text/plain": [
              "array(['Miguel', 'Pedro', 'Juan', 'Miguel'], dtype='<U6')"
            ]
          },
          "metadata": {},
          "execution_count": 44
        }
      ],
      "source": [
        "personas = np.array(['Miguel', 'Pedro', 'Juan', 'Miguel'])\n",
        "personas"
      ]
    },
    {
      "cell_type": "code",
      "execution_count": 45,
      "metadata": {
        "colab": {
          "base_uri": "https://localhost:8080/"
        },
        "id": "Sc2n-scj_KtA",
        "outputId": "7223002b-41fb-404d-f5ab-98db98701822"
      },
      "outputs": [
        {
          "output_type": "execute_result",
          "data": {
            "text/plain": [
              "array([[ 1,  2,  3,  4],\n",
              "       [ 5,  6,  7,  8],\n",
              "       [-5, -6, -7, -8],\n",
              "       [-1, -2, -3, -4]])"
            ]
          },
          "metadata": {},
          "execution_count": 45
        }
      ],
      "source": [
        "datos = np.array([[1, 2, 3, 4],[5, 6, 7, 8],[-5, -6, -7, -8],[-1, -2, -3, -4]])\n",
        "datos"
      ]
    },
    {
      "cell_type": "code",
      "execution_count": 46,
      "metadata": {
        "colab": {
          "base_uri": "https://localhost:8080/"
        },
        "id": "z7oKt4MM_KtB",
        "outputId": "9827a0d6-da03-4a24-cd5c-7db7ae365b47"
      },
      "outputs": [
        {
          "output_type": "execute_result",
          "data": {
            "text/plain": [
              "array([-5, -6, -7, -8, -1, -2, -3, -4])"
            ]
          },
          "metadata": {},
          "execution_count": 46
        }
      ],
      "source": [
        "# Indexación/slicing booleano sobre valores\n",
        "datos[datos < 0]"
      ]
    },
    {
      "cell_type": "code",
      "execution_count": 47,
      "metadata": {
        "colab": {
          "base_uri": "https://localhost:8080/"
        },
        "id": "xnEvsvID_KtB",
        "outputId": "1e1fff2a-ba4e-4198-fca7-9f524320971a"
      },
      "outputs": [
        {
          "output_type": "execute_result",
          "data": {
            "text/plain": [
              "array([ True, False, False,  True])"
            ]
          },
          "metadata": {},
          "execution_count": 47
        }
      ],
      "source": [
        "# Máscara booleana\n",
        "personas == 'Miguel'"
      ]
    },
    {
      "cell_type": "code",
      "execution_count": 48,
      "metadata": {
        "colab": {
          "base_uri": "https://localhost:8080/"
        },
        "id": "YzonntfD_KtB",
        "outputId": "4e36a7bf-bc3c-4bd9-f057-aafc01ffaba5"
      },
      "outputs": [
        {
          "output_type": "execute_result",
          "data": {
            "text/plain": [
              "array([[ 1,  2,  3,  4],\n",
              "       [-1, -2, -3, -4]])"
            ]
          },
          "metadata": {},
          "execution_count": 48
        }
      ],
      "source": [
        "# Indexación/slicing mediante máscara\n",
        "datos[personas == 'Miguel']"
      ]
    },
    {
      "cell_type": "code",
      "execution_count": 49,
      "metadata": {
        "colab": {
          "base_uri": "https://localhost:8080/"
        },
        "id": "E4VXe1yq_KtB",
        "outputId": "59717554-1629-4c0f-cc4a-40fc0674de4d"
      },
      "outputs": [
        {
          "output_type": "execute_result",
          "data": {
            "text/plain": [
              "array([[ 1,  2,  3],\n",
              "       [-1, -2, -3]])"
            ]
          },
          "metadata": {},
          "execution_count": 49
        }
      ],
      "source": [
        "# Indexación/slicing mediante máscara y básico combinado\n",
        "datos[personas == 'Miguel', :3]"
      ]
    },
    {
      "cell_type": "code",
      "execution_count": 50,
      "metadata": {
        "colab": {
          "base_uri": "https://localhost:8080/"
        },
        "id": "5b2glvbX_KtB",
        "outputId": "fbf958e9-fc2b-412d-8a3a-2047e037392c"
      },
      "outputs": [
        {
          "output_type": "execute_result",
          "data": {
            "text/plain": [
              "array([[ 5,  6,  7,  8],\n",
              "       [-5, -6, -7, -8]])"
            ]
          },
          "metadata": {},
          "execution_count": 50
        }
      ],
      "source": [
        "# Indexación/slicing mediante máscara negativo por operador\n",
        "datos[personas != 'Miguel']"
      ]
    },
    {
      "cell_type": "code",
      "execution_count": 51,
      "metadata": {
        "colab": {
          "base_uri": "https://localhost:8080/"
        },
        "id": "_LPwASqe_KtB",
        "outputId": "d03278fa-adde-4c55-8f66-626634e84ef9"
      },
      "outputs": [
        {
          "output_type": "execute_result",
          "data": {
            "text/plain": [
              "array([[ 5,  6,  7,  8],\n",
              "       [-5, -6, -7, -8]])"
            ]
          },
          "metadata": {},
          "execution_count": 51
        }
      ],
      "source": [
        "# Indexación/slicing mediante máscara negativa por signo\n",
        "datos[~(personas == 'Miguel')]"
      ]
    },
    {
      "cell_type": "markdown",
      "metadata": {
        "id": "iIrsbeii_KtB"
      },
      "source": [
        "De nuevo, podemos utilizar indexación/slicing booleano para realizar modificaciones sobre el contenido de un ndarray."
      ]
    },
    {
      "cell_type": "code",
      "execution_count": 52,
      "metadata": {
        "colab": {
          "base_uri": "https://localhost:8080/",
          "height": 388
        },
        "id": "32buapry_KtB",
        "outputId": "4b84e821-a654-475d-cc43-c13092b86edf"
      },
      "outputs": [
        {
          "output_type": "stream",
          "name": "stdout",
          "text": [
            "Antes:\n",
            "[[ 1  2  3  4]\n",
            " [ 5  6  7  8]\n",
            " [-5 -6 -7 -8]\n",
            " [-1 -2 -3 -4]]\n",
            "\n",
            "\n",
            "Elementos que vamos a poner a 0:\n",
            "[-5 -6 -7 -8 -1 -2 -3 -4]\n"
          ]
        },
        {
          "output_type": "error",
          "ename": "IndexError",
          "evalue": "boolean index did not match indexed array along dimension 0; dimension is 2 but corresponding boolean dimension is 4",
          "traceback": [
            "\u001b[0;31m---------------------------------------------------------------------------\u001b[0m",
            "\u001b[0;31mIndexError\u001b[0m                                Traceback (most recent call last)",
            "\u001b[0;32m<ipython-input-52-c5cb841e8c8d>\u001b[0m in \u001b[0;36m<cell line: 7>\u001b[0;34m()\u001b[0m\n\u001b[1;32m      5\u001b[0m \u001b[0mprint\u001b[0m\u001b[0;34m(\u001b[0m\u001b[0;34m\"Elementos que vamos a poner a 0:\"\u001b[0m\u001b[0;34m)\u001b[0m\u001b[0;34m\u001b[0m\u001b[0;34m\u001b[0m\u001b[0m\n\u001b[1;32m      6\u001b[0m \u001b[0mprint\u001b[0m\u001b[0;34m(\u001b[0m\u001b[0mdatos\u001b[0m\u001b[0;34m[\u001b[0m\u001b[0mdatos\u001b[0m \u001b[0;34m<\u001b[0m \u001b[0;36m0\u001b[0m\u001b[0;34m]\u001b[0m\u001b[0;34m)\u001b[0m\u001b[0;34m\u001b[0m\u001b[0;34m\u001b[0m\u001b[0m\n\u001b[0;32m----> 7\u001b[0;31m \u001b[0marray\u001b[0m\u001b[0;34m[\u001b[0m\u001b[0mdatos\u001b[0m \u001b[0;34m<\u001b[0m \u001b[0;36m0\u001b[0m\u001b[0;34m]\u001b[0m \u001b[0;34m=\u001b[0m \u001b[0;36m0\u001b[0m\u001b[0;34m\u001b[0m\u001b[0;34m\u001b[0m\u001b[0m\n\u001b[0m\u001b[1;32m      8\u001b[0m \u001b[0mprint\u001b[0m\u001b[0;34m(\u001b[0m\u001b[0;34m\"\\n\"\u001b[0m\u001b[0;34m)\u001b[0m\u001b[0;34m\u001b[0m\u001b[0;34m\u001b[0m\u001b[0m\n\u001b[1;32m      9\u001b[0m \u001b[0mprint\u001b[0m\u001b[0;34m(\u001b[0m\u001b[0;34m\"Despues:\"\u001b[0m\u001b[0;34m)\u001b[0m\u001b[0;34m\u001b[0m\u001b[0;34m\u001b[0m\u001b[0m\n",
            "\u001b[0;31mIndexError\u001b[0m: boolean index did not match indexed array along dimension 0; dimension is 2 but corresponding boolean dimension is 4"
          ]
        }
      ],
      "source": [
        "# Eliminación de valores negativos mediante slicing\n",
        "print(\"Antes:\")\n",
        "print(datos)\n",
        "print(\"\\n\")\n",
        "print(\"Elementos que vamos a poner a 0:\")\n",
        "print(datos[datos < 0])\n",
        "array[datos < 0] = 0\n",
        "print(\"\\n\")\n",
        "print(\"Despues:\")\n",
        "print(array)"
      ]
    },
    {
      "cell_type": "markdown",
      "metadata": {
        "id": "IPOZIqYy_KtB"
      },
      "source": [
        "### Indexación y slicing basado en secuencias de enteros - Fancy indexing"
      ]
    },
    {
      "cell_type": "code",
      "execution_count": 53,
      "metadata": {
        "colab": {
          "base_uri": "https://localhost:8080/"
        },
        "id": "9LCTF9nU_KtB",
        "outputId": "12949bfb-0918-40df-b79b-35ac4f32a531"
      },
      "outputs": [
        {
          "output_type": "execute_result",
          "data": {
            "text/plain": [
              "array([[0., 0., 0., 0.],\n",
              "       [1., 1., 1., 1.],\n",
              "       [2., 2., 2., 2.],\n",
              "       [3., 3., 3., 3.],\n",
              "       [4., 4., 4., 4.],\n",
              "       [5., 5., 5., 5.],\n",
              "       [6., 6., 6., 6.],\n",
              "       [7., 7., 7., 7.]])"
            ]
          },
          "metadata": {},
          "execution_count": 53
        }
      ],
      "source": [
        "array = np.empty((8, 4))\n",
        "for i in range(8):\n",
        "    array[i] = i\n",
        "array"
      ]
    },
    {
      "cell_type": "code",
      "execution_count": 54,
      "metadata": {
        "colab": {
          "base_uri": "https://localhost:8080/"
        },
        "id": "LbCwgzry_KtC",
        "outputId": "63638d11-a8b2-4e6e-9eb5-e0db315f64a6"
      },
      "outputs": [
        {
          "output_type": "execute_result",
          "data": {
            "text/plain": [
              "array([[2., 2., 2., 2.],\n",
              "       [5., 5., 5., 5.]])"
            ]
          },
          "metadata": {},
          "execution_count": 54
        }
      ],
      "source": [
        "# Indexación/slicing de un conjunto (arbitrario) de elementos\n",
        "array[[2, 5]]"
      ]
    },
    {
      "cell_type": "code",
      "execution_count": 55,
      "metadata": {
        "colab": {
          "base_uri": "https://localhost:8080/"
        },
        "id": "kUHTX_qN_KtC",
        "outputId": "16d788c4-713c-4426-8032-8a4a6c6061a0"
      },
      "outputs": [
        {
          "output_type": "execute_result",
          "data": {
            "text/plain": [
              "array([[6., 6., 6., 6.],\n",
              "       [3., 3., 3., 3.]])"
            ]
          },
          "metadata": {},
          "execution_count": 55
        }
      ],
      "source": [
        "# Indexación/slicing de un conjunto (arbitrario) de elementos (índices negativos)\n",
        "array[[-2, -5]]"
      ]
    },
    {
      "cell_type": "markdown",
      "metadata": {
        "id": "Jzbiebyt_KtC"
      },
      "source": [
        "También podemos indexar de manera arbitraria en múltiples dimensiones, utilizando para ello, una secuencia de enteros por cada dimensión. El resultado será la combinación de secuencias."
      ]
    },
    {
      "cell_type": "code",
      "execution_count": 56,
      "metadata": {
        "colab": {
          "base_uri": "https://localhost:8080/"
        },
        "id": "hS5XRNGX_KtC",
        "outputId": "16cc68f0-3a0c-4b12-b455-e16caa1102e8"
      },
      "outputs": [
        {
          "output_type": "execute_result",
          "data": {
            "text/plain": [
              "array([[ 0,  1,  2,  3],\n",
              "       [ 4,  5,  6,  7],\n",
              "       [ 8,  9, 10, 11],\n",
              "       [12, 13, 14, 15],\n",
              "       [16, 17, 18, 19],\n",
              "       [20, 21, 22, 23],\n",
              "       [24, 25, 26, 27],\n",
              "       [28, 29, 30, 31]])"
            ]
          },
          "metadata": {},
          "execution_count": 56
        }
      ],
      "source": [
        "array = np.arange(32).reshape((8, 4))\n",
        "array"
      ]
    },
    {
      "cell_type": "code",
      "execution_count": 57,
      "metadata": {
        "colab": {
          "base_uri": "https://localhost:8080/"
        },
        "id": "QCv97u2w_KtC",
        "outputId": "e3d4f5ec-29a8-47bb-fa78-29829ded09c5"
      },
      "outputs": [
        {
          "output_type": "execute_result",
          "data": {
            "text/plain": [
              "array([ 4, 23, 29, 10])"
            ]
          },
          "metadata": {},
          "execution_count": 57
        }
      ],
      "source": [
        "# Indexación/slicing con una secuencia de varios niveles (elemento a elemento)\n",
        "array[[1, 5, 7, 2], [0, 3, 1, 2]]"
      ]
    },
    {
      "cell_type": "code",
      "execution_count": 58,
      "metadata": {
        "colab": {
          "base_uri": "https://localhost:8080/"
        },
        "id": "K4KdbekA_KtC",
        "outputId": "32064cf4-947b-4dc3-915d-bbcc8c5fdbcb"
      },
      "outputs": [
        {
          "output_type": "execute_result",
          "data": {
            "text/plain": [
              "array([[ 4,  7,  5,  6],\n",
              "       [20, 23, 21, 22],\n",
              "       [28, 31, 29, 30],\n",
              "       [ 8, 11,  9, 10]])"
            ]
          },
          "metadata": {},
          "execution_count": 58
        }
      ],
      "source": [
        "# Indexación/slicing con una secuencia de varios niveles (región resultante)\n",
        "array[[1, 5, 7, 2]][:, [0, 3, 1, 2]]"
      ]
    },
    {
      "cell_type": "markdown",
      "metadata": {
        "id": "bbKFpZpP_KtC"
      },
      "source": [
        "### Trasposición y modificación de ejes/dimensiones"
      ]
    },
    {
      "cell_type": "code",
      "execution_count": 59,
      "metadata": {
        "colab": {
          "base_uri": "https://localhost:8080/"
        },
        "id": "RaI0zO2M_KtC",
        "outputId": "3a1807aa-0c0d-4cad-9c3c-3ff2f9f55e76"
      },
      "outputs": [
        {
          "output_type": "execute_result",
          "data": {
            "text/plain": [
              "array([ 0,  1,  2,  3,  4,  5,  6,  7,  8,  9, 10, 11, 12, 13, 14])"
            ]
          },
          "metadata": {},
          "execution_count": 59
        }
      ],
      "source": [
        "array = np.arange(15)\n",
        "array"
      ]
    },
    {
      "cell_type": "code",
      "execution_count": 60,
      "metadata": {
        "colab": {
          "base_uri": "https://localhost:8080/"
        },
        "id": "NBtFz7pA_KtC",
        "outputId": "64779b37-4350-4e62-f552-bcc774e623d9"
      },
      "outputs": [
        {
          "output_type": "execute_result",
          "data": {
            "text/plain": [
              "array([[ 0,  1,  2,  3,  4],\n",
              "       [ 5,  6,  7,  8,  9],\n",
              "       [10, 11, 12, 13, 14]])"
            ]
          },
          "metadata": {},
          "execution_count": 60
        }
      ],
      "source": [
        "# Modificación de ejes/dimensiones\n",
        "array2 = array.reshape(3, 5)\n",
        "array2"
      ]
    },
    {
      "cell_type": "code",
      "execution_count": 61,
      "metadata": {
        "colab": {
          "base_uri": "https://localhost:8080/"
        },
        "id": "NMhmtsp4_KtC",
        "outputId": "f18c3cd0-7a11-4c9f-8cc6-f0974492f3f4"
      },
      "outputs": [
        {
          "output_type": "execute_result",
          "data": {
            "text/plain": [
              "array([[ 0,  5, 10],\n",
              "       [ 1,  6, 11],\n",
              "       [ 2,  7, 12],\n",
              "       [ 3,  8, 13],\n",
              "       [ 4,  9, 14]])"
            ]
          },
          "metadata": {},
          "execution_count": 61
        }
      ],
      "source": [
        "# Trasposición de ejes/dimensiones\"\n",
        "array2.T\n"
      ]
    },
    {
      "cell_type": "markdown",
      "metadata": {
        "id": "y0SmGb46_KtD"
      },
      "source": [
        "**Axis**\n",
        "\n",
        "Valor 0: Aplicará la función por filas\n",
        "\n",
        "\n",
        "Valor 1: Aplicará la función por columnas"
      ]
    },
    {
      "cell_type": "code",
      "execution_count": 62,
      "metadata": {
        "colab": {
          "base_uri": "https://localhost:8080/"
        },
        "id": "W76AeKHv_KtD",
        "outputId": "851dbe21-935b-4728-b0bc-8ae77503381b"
      },
      "outputs": [
        {
          "output_type": "execute_result",
          "data": {
            "text/plain": [
              "array([[ 0,  1,  2,  3,  4],\n",
              "       [ 5,  6,  7,  8,  9],\n",
              "       [10, 11, 12, 13, 14]])"
            ]
          },
          "metadata": {},
          "execution_count": 62
        }
      ],
      "source": [
        "array2"
      ]
    },
    {
      "cell_type": "code",
      "execution_count": 63,
      "metadata": {
        "colab": {
          "base_uri": "https://localhost:8080/"
        },
        "id": "gDxv6-uv_KtD",
        "outputId": "1f9f0345-52c0-4ba5-8822-1ef01355d6d4"
      },
      "outputs": [
        {
          "output_type": "execute_result",
          "data": {
            "text/plain": [
              "105"
            ]
          },
          "metadata": {},
          "execution_count": 63
        }
      ],
      "source": [
        "array2.sum()"
      ]
    },
    {
      "cell_type": "code",
      "execution_count": 66,
      "metadata": {
        "colab": {
          "base_uri": "https://localhost:8080/"
        },
        "id": "ct5LmKIh_KtD",
        "outputId": "90267568-d401-4706-882b-23615b2d84a8"
      },
      "outputs": [
        {
          "output_type": "execute_result",
          "data": {
            "text/plain": [
              "array([10, 35, 60])"
            ]
          },
          "metadata": {},
          "execution_count": 66
        }
      ],
      "source": [
        "array2.sum(axis = 1)"
      ]
    },
    {
      "cell_type": "code",
      "execution_count": 65,
      "metadata": {
        "colab": {
          "base_uri": "https://localhost:8080/"
        },
        "id": "oNFBjrBK_KtD",
        "outputId": "6a57fbac-6765-4874-8ec0-8f42f77cb2b5"
      },
      "outputs": [
        {
          "output_type": "execute_result",
          "data": {
            "text/plain": [
              "array([15, 18, 21, 24, 27])"
            ]
          },
          "metadata": {},
          "execution_count": 65
        }
      ],
      "source": [
        "array2.sum(axis = 0)"
      ]
    }
  ],
  "metadata": {
    "anaconda-cloud": {},
    "kernelspec": {
      "display_name": "Python 3",
      "language": "python",
      "name": "python3"
    },
    "language_info": {
      "codemirror_mode": {
        "name": "ipython",
        "version": 3
      },
      "file_extension": ".py",
      "mimetype": "text/x-python",
      "name": "python",
      "nbconvert_exporter": "python",
      "pygments_lexer": "ipython3",
      "version": "3.8.8"
    },
    "colab": {
      "provenance": []
    }
  },
  "nbformat": 4,
  "nbformat_minor": 0
}