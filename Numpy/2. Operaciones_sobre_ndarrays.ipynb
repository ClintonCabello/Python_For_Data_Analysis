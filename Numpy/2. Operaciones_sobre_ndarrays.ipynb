{
  "cells": [
    {
      "cell_type": "markdown",
      "metadata": {
        "id": "rIh04wdQ_LLZ"
      },
      "source": [
        "# Operaciones sobre ndarrays"
      ]
    },
    {
      "cell_type": "markdown",
      "metadata": {
        "id": "c8Y1mbyn_LLb"
      },
      "source": [
        "NumPy pone a nuestra disposición un amplio conjunto de funciones optimizadas para aplicar sobre ndarrays de forma global evitando así la necesidad de utilizar bucles (mucho más costosos)."
      ]
    },
    {
      "cell_type": "code",
      "execution_count": 1,
      "metadata": {
        "id": "q4WmaKwJ_LLb"
      },
      "outputs": [],
      "source": [
        "import numpy as np"
      ]
    },
    {
      "cell_type": "markdown",
      "metadata": {
        "id": "aqzwwfZP_LLc"
      },
      "source": [
        "### Generación de números aleatorios"
      ]
    },
    {
      "cell_type": "markdown",
      "metadata": {
        "id": "QCMqVz72_LLc"
      },
      "source": [
        "Aunque el core de Pyhton incluye un modulo <b>random</b> para llevar a cabo la generación de números aleatorios, NumPy ofrece una mejora sobre el mismo permitiendo generar directamente ndarrays de valores aleatorios en base a diversas distribuciones. Todas estas funciones están disponibles a través del submódulo <b>random</b>.<br/>"
      ]
    },
    {
      "cell_type": "code",
      "execution_count": 2,
      "metadata": {
        "id": "tWO2EQH__LLc"
      },
      "outputs": [],
      "source": [
        "import numpy as np\n",
        "import numpy.random as random"
      ]
    },
    {
      "cell_type": "markdown",
      "metadata": {
        "id": "0EsPx-ww_LLc"
      },
      "source": [
        "Algunas de las más comunes son:\n",
        "<ul>\n",
        "<li><b>seed:</b> Establecimiento de semilla del generador de números aleatorios.</li>\n",
        "<li><b>permutation:</b> Devuelve una permutación aleatoria de una secuencia de entrada (por copia).</li>\n",
        "<li><b>shuffle:</b> Aplica una permutación aleatoria sobre los elementos de la secuencia de entrada (sin copia).</li>\n",
        "<li><b>rand:</b> Genera una muestra de números aleatorios utilizando una distribución uniforme.</li>\n",
        "<li><b>randint:</b> Genera una muestra de números aleatorios enteros dentro de un rango definido.</li>\n",
        "<li><b>randn:</b> Genera una muestra de números aleatorios utilizando una distribución normal de media 0 y desviación 1.</li>\n",
        "<li><b>binomial:</b> Genera una muestra de números aleatorios utilizando una distribución binomial.</li>\n",
        "<li><b>normal:</b> Genera una muestra de números aleatorios utilizando una distribución normal.</li>\n",
        "<li><b>beta:</b> Genera una muestra de números aleatorios utilizando una distribución beta.</li>\n",
        "<li><b>chisquare:</b> Genera una muestra de números aleatorios utilizando una distribución chi cuadrado.</li>\n",
        "<li><b>gamma:</b> Genera una muestra de números aleatorios utilizando una distribución gamma.</li>\n",
        "<li><b>uniform:</b> Genera una muestra de números aleatorios utilizando una distribución uniforme [0, 1).</li>\n",
        "\n",
        "\n",
        "</ul>"
      ]
    },
    {
      "cell_type": "code",
      "execution_count": 3,
      "metadata": {
        "id": "BzLlMMpU_LLd"
      },
      "outputs": [],
      "source": [
        "random.seed(42)"
      ]
    },
    {
      "cell_type": "code",
      "execution_count": 4,
      "metadata": {
        "colab": {
          "base_uri": "https://localhost:8080/"
        },
        "id": "8aMY0aqx_LLd",
        "outputId": "f5e96eaa-b0ae-4939-9a00-21fba14d7ce4"
      },
      "outputs": [
        {
          "output_type": "execute_result",
          "data": {
            "text/plain": [
              "0.3745401188473625"
            ]
          },
          "metadata": {},
          "execution_count": 4
        }
      ],
      "source": [
        "random.rand()"
      ]
    },
    {
      "cell_type": "code",
      "execution_count": 5,
      "metadata": {
        "colab": {
          "base_uri": "https://localhost:8080/"
        },
        "id": "pUQVc5yg_LLd",
        "outputId": "d5c24d08-c110-4552-8ce8-d053fee38f6a"
      },
      "outputs": [
        {
          "output_type": "execute_result",
          "data": {
            "text/plain": [
              "array([-1.11188012,  0.31890218,  0.27904129,  1.01051528, -0.58087813])"
            ]
          },
          "metadata": {},
          "execution_count": 5
        }
      ],
      "source": [
        "random.randn(5)"
      ]
    },
    {
      "cell_type": "code",
      "execution_count": 6,
      "metadata": {
        "colab": {
          "base_uri": "https://localhost:8080/"
        },
        "id": "RRha2c4x_LLd",
        "outputId": "fecf96f5-9794-43f2-f338-c6b59688301e"
      },
      "outputs": [
        {
          "output_type": "execute_result",
          "data": {
            "text/plain": [
              "array([0, 0, 1, 0, 0, 1, 0, 0, 0, 0])"
            ]
          },
          "metadata": {},
          "execution_count": 6
        }
      ],
      "source": [
        "random.binomial(1, 0.5, 10)"
      ]
    },
    {
      "cell_type": "code",
      "execution_count": 7,
      "metadata": {
        "colab": {
          "base_uri": "https://localhost:8080/"
        },
        "id": "mq2uVrop_LLd",
        "outputId": "8958b9b1-e276-40d6-d719-2913b5b68ed3"
      },
      "outputs": [
        {
          "output_type": "execute_result",
          "data": {
            "text/plain": [
              "array([1, 5, 4, 8, 0, 7, 6, 3, 2])"
            ]
          },
          "metadata": {},
          "execution_count": 7
        }
      ],
      "source": [
        "array_per = np.arange(9)\n",
        "random.permutation(array_per)"
      ]
    },
    {
      "cell_type": "code",
      "execution_count": 8,
      "metadata": {
        "colab": {
          "base_uri": "https://localhost:8080/"
        },
        "id": "ytrVZi7k_LLe",
        "outputId": "0b8bb917-bf71-47d5-ed3a-af7dd583f8ca"
      },
      "outputs": [
        {
          "output_type": "execute_result",
          "data": {
            "text/plain": [
              "array([0, 1, 2, 3, 4, 5, 6, 7, 8])"
            ]
          },
          "metadata": {},
          "execution_count": 8
        }
      ],
      "source": [
        "array_per"
      ]
    },
    {
      "cell_type": "code",
      "execution_count": 9,
      "metadata": {
        "id": "ydZQAoeB_LLe"
      },
      "outputs": [],
      "source": [
        "random.shuffle(array_per)"
      ]
    },
    {
      "cell_type": "code",
      "execution_count": 10,
      "metadata": {
        "colab": {
          "base_uri": "https://localhost:8080/"
        },
        "id": "jyHyevgF_LLe",
        "outputId": "5bb082b9-30ef-4866-ceba-2d61e8ddfe23"
      },
      "outputs": [
        {
          "output_type": "execute_result",
          "data": {
            "text/plain": [
              "array([7, 2, 5, 8, 3, 1, 0, 4, 6])"
            ]
          },
          "metadata": {},
          "execution_count": 10
        }
      ],
      "source": [
        "array_per"
      ]
    },
    {
      "cell_type": "markdown",
      "metadata": {
        "id": "05_x4yai_LLe"
      },
      "source": [
        "### Operaciones elemento a elemento - Universal functions"
      ]
    },
    {
      "cell_type": "markdown",
      "metadata": {
        "id": "TtQmRAGJ_LLe"
      },
      "source": [
        "El primero de los conjuntos de funciones ofrecido por NumPy son las llamadas \"funciones universales\" (o ufuncs) que permiten la realización de operaciones elemento a elemento de un array. En función del número de parámetros encontramos dos tipos de funciones universales."
      ]
    },
    {
      "cell_type": "markdown",
      "metadata": {
        "id": "W8xpKXhI_LLe"
      },
      "source": [
        "#### Funciones unarias"
      ]
    },
    {
      "cell_type": "markdown",
      "metadata": {
        "id": "TJnMmIOD_LLe"
      },
      "source": [
        "Son aquellas funciones que reciben como parámetro un único ndarray.<br/>\n",
        "<ul>\n",
        "<li><b>abs, fabs:</b> Valor absoluto.</li>\n",
        "<li><b>sqrt:</b> Raíz cuadrada (equivalente a array \\*\\* 0.5).</li>\n",
        "<li><b>square:</b> Potencia al cuadrado (equivalente a array ** 2).</li>\n",
        "<li><b>exp:</b> Potencia de e.</li>\n",
        "<li><b>log, log10, log2, log1p:</b> Logaritmos en distintas bases.</li>\n",
        "<li><b>sign:</b> Signo (+ = 1 / - = -1 / 0 = 0).</li>\n",
        "<li><b>ceil:</b> Techo.</li>\n",
        "<li><b>floor:</b> Suelo.</li>\n",
        "<li><b>rint:</b> Redondeo al entero más cercano.</li>\n",
        "<li><b>modf:</b> Devuelve dos arrays uno con la parte fraccionaria y otro con la parte entera.</li>\n",
        "<li><b>isnan:</b> Devuelve un array booleano indicando si el valor es NaN o no.</li>\n",
        "<li><b>isfinite, isinf:</b> Devuelve un array booleano indicando si el valor es finito o infinito.</li>\n",
        "<li><b>cos, cosh, sin, sinh, tan, tanh:</b> Funciones trigonométricas.</li>\n",
        "<li><b>arccos, arccosh, arcsin, arcsinh, arctan, arctanh:</b> Funciones trigonométricas inversas.</li>\n",
        "<li><b>logical_not:</b> Inverso booleano de todos los valores del array (equivalente a ~(array)).</li>\n",
        "</ul>"
      ]
    },
    {
      "cell_type": "code",
      "execution_count": 11,
      "metadata": {
        "colab": {
          "base_uri": "https://localhost:8080/"
        },
        "id": "0NlZPZoy_LLe",
        "outputId": "e7fe2b44-f2b0-4799-a5e9-7d29a22c4b54"
      },
      "outputs": [
        {
          "output_type": "execute_result",
          "data": {
            "text/plain": [
              "array([1, 2, 3, 4, 5])"
            ]
          },
          "metadata": {},
          "execution_count": 11
        }
      ],
      "source": [
        "array = np.array([1,-2,3,-4,5])\n",
        "np.abs(array)"
      ]
    },
    {
      "cell_type": "code",
      "execution_count": 12,
      "metadata": {
        "colab": {
          "base_uri": "https://localhost:8080/"
        },
        "id": "DWpuY7gH_LLe",
        "outputId": "c55f247b-29a0-4585-a74d-9d6a71d158d3"
      },
      "outputs": [
        {
          "output_type": "execute_result",
          "data": {
            "text/plain": [
              "array([ 1, -1,  1, -1,  1])"
            ]
          },
          "metadata": {},
          "execution_count": 12
        }
      ],
      "source": [
        "np.sign(array)"
      ]
    },
    {
      "cell_type": "code",
      "execution_count": 13,
      "metadata": {
        "colab": {
          "base_uri": "https://localhost:8080/"
        },
        "id": "DbwCdpiz_LLf",
        "outputId": "69696554-f063-483e-85fd-ef8c1f2a1dbe"
      },
      "outputs": [
        {
          "output_type": "execute_result",
          "data": {
            "text/plain": [
              "array([ 2.,  3.,  1., -1.])"
            ]
          },
          "metadata": {},
          "execution_count": 13
        }
      ],
      "source": [
        "array2 = np.array([1.5, 2.4, 0.5, -1.4])\n",
        "np.ceil(array2)"
      ]
    },
    {
      "cell_type": "markdown",
      "metadata": {
        "id": "1-mGpYH-_LLf"
      },
      "source": [
        "#### Funciones binarias"
      ]
    },
    {
      "cell_type": "markdown",
      "metadata": {
        "id": "4XVgp9Ju_LLf"
      },
      "source": [
        "Son aquellas funciones que reciben como parámetro dos arrays.\n",
        "<ul>\n",
        "<li><b>add:</b> Adición de los elementos de los dos arrays (equivalente a array1 + array2).</li>\n",
        "<li><b>subtract:</b> Resta de los elementos de los dos arrays (equivalente a array1 - array2).</li>\n",
        "<li><b>multiply:</b> Multiplica los elementos de los dos arrays (equivalente a array1 \\* array2).</li>\n",
        "<li><b>divide, floor_divide:</b> Divide los elementos de los dos arrays (equivalente a array1 / (o //) array2).</li>\n",
        "<li><b>power:</b> Eleva los elementos del primer array a las potencias del segundo (equivalente a array1 ** array2).</li>\n",
        "<li><b>maximum, fmax:</b> Calcula el máximo de los dos arrays (elemento a elemento). fmax ignora NaN.</li>\n",
        "<li><b>minimum, fmin:</b> Calcula el mínimo de los dos arrays (elemento a elemento). fmax ignora NaN.</li>\n",
        "<li><b>mod:</b> Calcula el resto de la división de los dos arrays (equivalente a array1 % array2).</li>\n",
        "<li><b>greater, greater_equal, less, less_equal, equal, not_equal:</b> Comparativas sobre los elementos de ambos ndarrays (elemento a elemento).</li>\n",
        "<li><b>logical_and, logical_or, logical_xor:</b> Operaciones booleanas sobre los elementos de ambos ndarrays (elemento a elemento).</li>\n",
        "</ul>"
      ]
    },
    {
      "cell_type": "code",
      "execution_count": 14,
      "metadata": {
        "colab": {
          "base_uri": "https://localhost:8080/"
        },
        "id": "-Nd3UQkm_LLf",
        "outputId": "f095bf06-0c40-42c2-fcd6-0c1d380f9544"
      },
      "outputs": [
        {
          "output_type": "execute_result",
          "data": {
            "text/plain": [
              "array([[-0.52516981, -0.1402185 , -0.0331934 , -0.74907652, -0.77838201],\n",
              "       [ 0.94884286,  1.58085059, -0.36817094,  0.37556463, -1.19315823],\n",
              "       [-0.4090519 , -0.44674147,  1.52424163,  0.3229998 , -1.39341694],\n",
              "       [-2.17833425, -1.04389641,  0.17269371,  0.32419877,  0.74585954],\n",
              "       [-1.83658324,  0.56446424,  0.02550067,  0.47319325,  0.6591906 ]])"
            ]
          },
          "metadata": {},
          "execution_count": 14
        }
      ],
      "source": [
        "array1 = np.random.randn(5, 5)\n",
        "array1"
      ]
    },
    {
      "cell_type": "code",
      "execution_count": 15,
      "metadata": {
        "colab": {
          "base_uri": "https://localhost:8080/"
        },
        "id": "FLIS2V8Q_LLf",
        "outputId": "0be5a153-3256-46fa-8a0a-fc6ab1e46072"
      },
      "outputs": [
        {
          "output_type": "execute_result",
          "data": {
            "text/plain": [
              "array([[ 2.34074633,  1.07098519,  0.09641648,  0.41910211, -0.95302779],\n",
              "       [-1.0478706 , -1.87567677, -1.36678214,  0.63630511, -0.90672067],\n",
              "       [ 0.47604259,  1.30366127,  0.21158701,  0.59704465, -0.89633518],\n",
              "       [-0.11198782,  1.46894129, -1.12389833,  0.9500054 ,  1.72651647],\n",
              "       [ 0.45788508, -1.68428738,  0.32684522, -0.08111895,  0.46779475]])"
            ]
          },
          "metadata": {},
          "execution_count": 15
        }
      ],
      "source": [
        "array2 = np.random.randn(5, 5)\n",
        "array2"
      ]
    },
    {
      "cell_type": "code",
      "execution_count": 16,
      "metadata": {
        "colab": {
          "base_uri": "https://localhost:8080/"
        },
        "id": "jM_QKreE_LLf",
        "outputId": "98672842-fa5b-49da-d1ea-5d6d7d6aee9a"
      },
      "outputs": [
        {
          "output_type": "execute_result",
          "data": {
            "text/plain": [
              "array([[-0.52516981, -0.1402185 , -0.0331934 , -0.74907652, -0.95302779],\n",
              "       [-1.0478706 , -1.87567677, -1.36678214,  0.37556463, -1.19315823],\n",
              "       [-0.4090519 , -0.44674147,  0.21158701,  0.3229998 , -1.39341694],\n",
              "       [-2.17833425, -1.04389641, -1.12389833,  0.32419877,  0.74585954],\n",
              "       [-1.83658324, -1.68428738,  0.02550067, -0.08111895,  0.46779475]])"
            ]
          },
          "metadata": {},
          "execution_count": 16
        }
      ],
      "source": [
        "np.minimum(array1, array2)"
      ]
    },
    {
      "cell_type": "code",
      "execution_count": 17,
      "metadata": {
        "colab": {
          "base_uri": "https://localhost:8080/"
        },
        "id": "QxBXEFhr_LLf",
        "outputId": "1d169300-6f96-400f-9cd8-49899734e36c"
      },
      "outputs": [
        {
          "output_type": "execute_result",
          "data": {
            "text/plain": [
              "array([[-0.22435998, -0.13092478, -0.34427103, -1.78733658,  0.81674639],\n",
              "       [-0.90549621, -0.8428161 ,  0.26937061,  0.59022728,  1.31590496],\n",
              "       [-0.85927586, -0.34268217,  7.20385252,  0.54099773,  1.55457129],\n",
              "       [19.45152818, -0.71064543, -0.15365599,  0.34125992,  0.43200256],\n",
              "       [-4.01101353, -0.33513535,  0.07802062, -5.83332532,  1.40914492]])"
            ]
          },
          "metadata": {},
          "execution_count": 17
        }
      ],
      "source": [
        "np.divide(array1,array2)"
      ]
    },
    {
      "cell_type": "code",
      "execution_count": 18,
      "metadata": {
        "colab": {
          "base_uri": "https://localhost:8080/"
        },
        "id": "vFxLe-Pd_LLf",
        "outputId": "54c466db-cb87-477c-ff81-f8a9f78a7870"
      },
      "outputs": [
        {
          "output_type": "execute_result",
          "data": {
            "text/plain": [
              "array([[-1., -1., -1., -2.,  0.],\n",
              "       [-1., -1.,  0.,  0.,  1.],\n",
              "       [-1., -1.,  7.,  0.,  1.],\n",
              "       [19., -1., -1.,  0.,  0.],\n",
              "       [-5., -1.,  0., -6.,  1.]])"
            ]
          },
          "metadata": {},
          "execution_count": 18
        }
      ],
      "source": [
        "np.floor_divide(array1,array2)"
      ]
    },
    {
      "cell_type": "markdown",
      "metadata": {
        "id": "thkr9AjA_LLf"
      },
      "source": [
        "### Selección de elementos de ndarrays en función de una condición. `.where`"
      ]
    },
    {
      "cell_type": "markdown",
      "metadata": {
        "id": "kmaGyryb_LLf"
      },
      "source": [
        "NumPy pone a nuestra disposición, a través de la función <b>np.where</b> la posibilidad de generar un array de salida a partir de dos de entrada, estableciendo una máscara booleana que indique si (elemento a elemento) debemos enviar a la salida el elemento del primer ndarray (valor True) o del segundo (valor False)."
      ]
    },
    {
      "cell_type": "code",
      "execution_count": 19,
      "metadata": {
        "colab": {
          "base_uri": "https://localhost:8080/"
        },
        "id": "rRQ2RaSb_LLg",
        "outputId": "3fa05d57-f40c-4003-d622-427a3daaf3af"
      },
      "outputs": [
        {
          "output_type": "execute_result",
          "data": {
            "text/plain": [
              "array([[ 0.73612235, -0.77970188, -0.84389636, -0.15053386, -0.96555767],\n",
              "       [ 0.15048908, -0.11342125,  2.63352822, -1.02509089, -0.78204783],\n",
              "       [ 0.42394307,  0.8727051 ,  2.28722598,  1.6229205 ,  0.82373308],\n",
              "       [ 0.29305925,  0.89663038, -0.61032202, -0.3161659 , -1.48242425],\n",
              "       [-0.22884752,  0.96264129, -0.20969244, -0.77404293, -0.35977815]])"
            ]
          },
          "metadata": {},
          "execution_count": 19
        }
      ],
      "source": [
        "array1 = np.random.randn(5, 5)\n",
        "array1"
      ]
    },
    {
      "cell_type": "code",
      "execution_count": 20,
      "metadata": {
        "colab": {
          "base_uri": "https://localhost:8080/"
        },
        "id": "_a7OwJ2l_LLg",
        "outputId": "4e4d5ec5-54e1-4ed3-e488-4f5a763d0f1d"
      },
      "outputs": [
        {
          "output_type": "execute_result",
          "data": {
            "text/plain": [
              "array([[ 0.72408325, -0.25576464,  0.8499212 , -1.31132423, -0.87030495],\n",
              "       [-0.50664322, -1.30995069,  2.94366342, -1.0962658 ,  0.91488432],\n",
              "       [-0.66606062, -0.51378749,  0.3013228 , -1.45851692, -0.66273831],\n",
              "       [-0.14647281, -0.84601702, -0.82248937,  1.08672702,  1.00498688],\n",
              "       [-0.44176602, -0.08416509,  1.23701607, -1.42647888,  0.33802266]])"
            ]
          },
          "metadata": {},
          "execution_count": 20
        }
      ],
      "source": [
        "array2 = np.random.randn(5, 5)\n",
        "array2"
      ]
    },
    {
      "cell_type": "code",
      "execution_count": 21,
      "metadata": {
        "colab": {
          "base_uri": "https://localhost:8080/"
        },
        "id": "4CE7MTN1_LLg",
        "outputId": "dc70e949-2acd-4e83-854b-3308fbffafbe"
      },
      "outputs": [
        {
          "output_type": "execute_result",
          "data": {
            "text/plain": [
              "array([[ 0.72408325, -0.77970188, -0.84389636, -1.31132423, -0.96555767],\n",
              "       [-0.50664322, -1.30995069,  2.63352822, -1.0962658 , -0.78204783],\n",
              "       [-0.66606062, -0.51378749,  0.3013228 , -1.45851692, -0.66273831],\n",
              "       [-0.14647281, -0.84601702, -0.82248937, -0.3161659 , -1.48242425],\n",
              "       [-0.44176602, -0.08416509, -0.20969244, -1.42647888, -0.35977815]])"
            ]
          },
          "metadata": {},
          "execution_count": 21
        }
      ],
      "source": [
        "# Fusión condicional\n",
        "np.where(array1 < array2, array1, array2)"
      ]
    },
    {
      "cell_type": "code",
      "execution_count": 22,
      "metadata": {
        "colab": {
          "base_uri": "https://localhost:8080/"
        },
        "id": "doiMMFHP_LLg",
        "outputId": "f8d0abf0-9603-496e-d8bf-91d8354d57ae"
      },
      "outputs": [
        {
          "output_type": "execute_result",
          "data": {
            "text/plain": [
              "array([[ 0.72408325,  0.        ,  0.        , -1.31132423,  0.        ],\n",
              "       [-0.50664322, -1.30995069,  2.63352822, -1.0962658 ,  0.        ],\n",
              "       [-0.66606062, -0.51378749,  0.3013228 , -1.45851692, -0.66273831],\n",
              "       [-0.14647281, -0.84601702, -0.82248937,  0.        ,  0.        ],\n",
              "       [-0.44176602, -0.08416509,  0.        , -1.42647888,  0.        ]])"
            ]
          },
          "metadata": {},
          "execution_count": 22
        }
      ],
      "source": [
        "# Anidación de condiciones\n",
        "np.where(array1 < array2, np.where(array1 < 0, 0, array1), array2)"
      ]
    },
    {
      "cell_type": "markdown",
      "metadata": {
        "id": "eF-0WSAd_LLg"
      },
      "source": [
        "### Funciones matemáticas y estadísticas"
      ]
    },
    {
      "cell_type": "markdown",
      "metadata": {
        "id": "AlFvn9q5_LLg"
      },
      "source": [
        "NumPy ofrece un amplio conjunto de funciones matemáticas y estadísticas que se pueden aplicar sobre ndarrays. A continuación se pueden encontrar los ejemplos más típicos (hay algunas más que pueden consultarse en la documentación oficial de NumPy).<br/>\n",
        "<ul>\n",
        "<li><b>sum:</b> Suma de elementos.</li>\n",
        "<li><b>mean:</b> Media aritmética de los elementos.</li>\n",
        "<li><b>median:</b> Mediana de los elementos.</li>\n",
        "<li><b>std:</b> Desviación estándar de los elementos.</li>\n",
        "<li><b>var:</b> Varianza de los elementos.</li>\n",
        "<li><b>min:</b> Valor mínimo de los elementos.</li>\n",
        "<li><b>max:</b> Valor máximo de los elementos.</li>\n",
        "<li><b>argmin:</b> Índice del valor mínimo.</li>\n",
        "<li><b>argmax:</b> Índice del valor máximo.</li>\n",
        "<li><b>cumsum:</b> Suma acumulada de los elementos.</li>\n",
        "<li><b>cumprod:</b> Producto acumulado de los elementos.</li>\n",
        "</ul>\n",
        "\n",
        "Todas estas funciones pueden recibir, además del ndarray sobre el que se aplicarán, un segundo parámetro llamado <b>axis</b>. Si no se recibe este parámetro las funciones se aplicarán sobre el conjunto global de los elementos del ndarray, pero si se incluye, podrá tomar dos valores:\n",
        "<ul>\n",
        "<li>Valor 0: Aplicará la función por filas</li>\n",
        "<li>Valor 1: Aplicará la función por columnas</li>"
      ]
    },
    {
      "cell_type": "code",
      "execution_count": 23,
      "metadata": {
        "colab": {
          "base_uri": "https://localhost:8080/"
        },
        "id": "TJH255lH_LLg",
        "outputId": "a7080032-54e0-4866-9a04-31af32ecd925"
      },
      "outputs": [
        {
          "output_type": "execute_result",
          "data": {
            "text/plain": [
              "array([[ 1.9745712 ,  1.96503476, -1.93991122, -0.76262696],\n",
              "       [ 0.16865939, -1.32187695, -0.6682467 , -0.137291  ],\n",
              "       [ 1.40132156, -0.04540266,  0.21693673,  0.51242373],\n",
              "       [ 0.54348869,  0.02809946, -1.19708706,  0.7896728 ],\n",
              "       [ 0.43148946, -1.0967523 , -0.68230156,  0.88751161]])"
            ]
          },
          "metadata": {},
          "execution_count": 23
        }
      ],
      "source": [
        "array = np.random.randn(5, 4)\n",
        "array"
      ]
    },
    {
      "cell_type": "code",
      "execution_count": 24,
      "metadata": {
        "colab": {
          "base_uri": "https://localhost:8080/"
        },
        "id": "odzmoNUk_LLg",
        "outputId": "7acb66f9-73b3-4b4e-8fd6-67497340154b"
      },
      "outputs": [
        {
          "output_type": "execute_result",
          "data": {
            "text/plain": [
              "1.0677129909343195"
            ]
          },
          "metadata": {},
          "execution_count": 24
        }
      ],
      "source": [
        "# Operación global\n",
        "np.sum(array)"
      ]
    },
    {
      "cell_type": "code",
      "execution_count": 25,
      "metadata": {
        "colab": {
          "base_uri": "https://localhost:8080/"
        },
        "id": "q12AVhxU_LLh",
        "outputId": "b66c83fc-3e63-45bb-f79b-df11b6047e3f"
      },
      "outputs": [
        {
          "output_type": "execute_result",
          "data": {
            "text/plain": [
              "array([ 4.5195303 , -0.47089768, -4.27060982,  1.28969018])"
            ]
          },
          "metadata": {},
          "execution_count": 25
        }
      ],
      "source": [
        "# Operación por filas\n",
        "np.sum(array, axis=0)"
      ]
    },
    {
      "cell_type": "code",
      "execution_count": 26,
      "metadata": {
        "scrolled": true,
        "colab": {
          "base_uri": "https://localhost:8080/"
        },
        "id": "LqTISvvH_LLh",
        "outputId": "bf6b1c5a-c76c-499e-800a-f193a8b3ea4f"
      },
      "outputs": [
        {
          "output_type": "execute_result",
          "data": {
            "text/plain": [
              "array([ 1.23706778, -1.95875527,  2.08527937,  0.1641739 , -0.46005278])"
            ]
          },
          "metadata": {},
          "execution_count": 26
        }
      ],
      "source": [
        "# Operación por columnas\n",
        "np.sum(array, axis=1)"
      ]
    },
    {
      "cell_type": "markdown",
      "metadata": {
        "id": "m-rACllD_LLh"
      },
      "source": [
        "Adicionalmente algunas de estas funciones pueden ser utilizadas como \"métodos\" de los ndarray y no sólo como funciones sobre los mismos. En este caso la sintáxis cambiará y se utilizará la notación \"ndarray.funcion()\""
      ]
    },
    {
      "cell_type": "code",
      "execution_count": 27,
      "metadata": {
        "colab": {
          "base_uri": "https://localhost:8080/"
        },
        "id": "RVqPoJhP_LLh",
        "outputId": "f77da80f-7c68-4f8e-f153-2ee12b56ea3f"
      },
      "outputs": [
        {
          "output_type": "execute_result",
          "data": {
            "text/plain": [
              "1.0677129909343195"
            ]
          },
          "metadata": {},
          "execution_count": 27
        }
      ],
      "source": [
        "array.sum()"
      ]
    },
    {
      "cell_type": "code",
      "execution_count": 28,
      "metadata": {
        "colab": {
          "base_uri": "https://localhost:8080/"
        },
        "id": "-IyrjQqc_LLh",
        "outputId": "9e4e27d2-2752-4c76-ed18-d62017d6be5f"
      },
      "outputs": [
        {
          "output_type": "execute_result",
          "data": {
            "text/plain": [
              "0"
            ]
          },
          "metadata": {},
          "execution_count": 28
        }
      ],
      "source": [
        "np.argmax(array)"
      ]
    },
    {
      "cell_type": "code",
      "execution_count": 29,
      "metadata": {
        "colab": {
          "base_uri": "https://localhost:8080/"
        },
        "id": "cI_8MRL9_LLh",
        "outputId": "88e3e0f4-5352-4bea-967d-07749280aaf1"
      },
      "outputs": [
        {
          "output_type": "execute_result",
          "data": {
            "text/plain": [
              "2"
            ]
          },
          "metadata": {},
          "execution_count": 29
        }
      ],
      "source": [
        "np.argmin(array)"
      ]
    },
    {
      "cell_type": "code",
      "execution_count": 30,
      "metadata": {
        "colab": {
          "base_uri": "https://localhost:8080/"
        },
        "id": "23pxvX9q_LLh",
        "outputId": "81fe4c10-b66f-4ca9-8029-7490e897436c"
      },
      "outputs": [
        {
          "output_type": "execute_result",
          "data": {
            "text/plain": [
              "array([ 1.9745712 ,  3.93960596,  1.99969474,  1.23706778,  1.40572717,\n",
              "        0.08385021, -0.58439648, -0.72168749,  0.67963408,  0.63423142,\n",
              "        0.85116815,  1.36359188,  1.90708057,  1.93518003,  0.73809297,\n",
              "        1.52776578,  1.95925524,  0.86250294,  0.18020138,  1.06771299])"
            ]
          },
          "metadata": {},
          "execution_count": 30
        }
      ],
      "source": [
        "np.cumsum(array)"
      ]
    },
    {
      "cell_type": "code",
      "execution_count": 31,
      "metadata": {
        "colab": {
          "base_uri": "https://localhost:8080/"
        },
        "id": "F5kFpFo4_LLh",
        "outputId": "dd6fd283-09bb-4069-f661-7d7f8ea7c71d"
      },
      "outputs": [
        {
          "output_type": "execute_result",
          "data": {
            "text/plain": [
              "array([ 1.97457120e+00,  3.88010105e+00, -7.52705155e+00,  5.74033247e+00,\n",
              "        9.68160957e-01, -1.27978965e+00,  8.55215212e-01, -1.17413355e-01,\n",
              "       -1.64533866e-01,  7.47027440e-03,  1.62057687e-03,  8.30422049e-04,\n",
              "        4.51324993e-04,  1.26819901e-05, -1.51814463e-05, -1.19883753e-05,\n",
              "       -5.17285761e-06,  5.67334347e-06, -3.87093112e-06, -3.43549633e-06])"
            ]
          },
          "metadata": {},
          "execution_count": 31
        }
      ],
      "source": [
        "np.cumprod(array)"
      ]
    },
    {
      "cell_type": "markdown",
      "metadata": {
        "id": "3PZ2Pe20_LLi"
      },
      "source": [
        "### Operaciones sobre ndarrays booleanos"
      ]
    },
    {
      "cell_type": "markdown",
      "metadata": {
        "id": "ARMEiW7m_LLi"
      },
      "source": [
        "Dado que, internamente, Python trata los valores booleanos True como 1 y los False como 0, es muy sencillo realizar operaciones matemáticas sobre estos valores booleanos de forma que se puedan hacer diferentes chequeos. Por ejemplo..."
      ]
    },
    {
      "cell_type": "code",
      "execution_count": 32,
      "metadata": {
        "colab": {
          "base_uri": "https://localhost:8080/"
        },
        "id": "0WWlE9-a_LLi",
        "outputId": "97c39855-3fde-474b-fc59-577f7871cc5b"
      },
      "outputs": [
        {
          "output_type": "execute_result",
          "data": {
            "text/plain": [
              "array([[ 0.60548313, -0.72029799, -0.26993377, -0.14346223,  0.61700378],\n",
              "       [ 1.2489407 ,  0.06564916,  1.16920765,  0.87331697,  0.20565013],\n",
              "       [-1.44348335, -1.02771086,  0.74124064, -1.71052958,  0.11897849],\n",
              "       [ 1.00048561,  0.15242086, -0.60139725, -0.84661436,  0.81615272],\n",
              "       [ 0.47170729, -0.2854893 ,  1.06529247,  0.85399779,  1.78859386]])"
            ]
          },
          "metadata": {},
          "execution_count": 32
        }
      ],
      "source": [
        "array = np.random.randn(5, 5)\n",
        "array"
      ]
    },
    {
      "cell_type": "code",
      "execution_count": 33,
      "metadata": {
        "colab": {
          "base_uri": "https://localhost:8080/"
        },
        "id": "b2PSlQYd_LLi",
        "outputId": "48bf79ad-effd-467e-919b-5bac8519d26e"
      },
      "outputs": [
        {
          "output_type": "execute_result",
          "data": {
            "text/plain": [
              "array([[ True, False, False, False,  True],\n",
              "       [ True,  True,  True,  True,  True],\n",
              "       [False, False,  True, False,  True],\n",
              "       [ True,  True, False, False,  True],\n",
              "       [ True, False,  True,  True,  True]])"
            ]
          },
          "metadata": {},
          "execution_count": 33
        }
      ],
      "source": [
        "array > 0"
      ]
    },
    {
      "cell_type": "code",
      "execution_count": 34,
      "metadata": {
        "colab": {
          "base_uri": "https://localhost:8080/"
        },
        "id": "afh-r77d_LLi",
        "outputId": "3baac928-4c09-4e5e-df4f-a024f6a3f730"
      },
      "outputs": [
        {
          "output_type": "execute_result",
          "data": {
            "text/plain": [
              "16"
            ]
          },
          "metadata": {},
          "execution_count": 34
        }
      ],
      "source": [
        "# Elementos mayores que 0\n",
        "(array > 0).sum()"
      ]
    },
    {
      "cell_type": "code",
      "execution_count": 35,
      "metadata": {
        "colab": {
          "base_uri": "https://localhost:8080/"
        },
        "id": "lzT-WwbW_LLi",
        "outputId": "962c0e45-03dc-493b-e67f-734e374047bd"
      },
      "outputs": [
        {
          "output_type": "execute_result",
          "data": {
            "text/plain": [
              "12"
            ]
          },
          "metadata": {},
          "execution_count": 35
        }
      ],
      "source": [
        "# Elementos menores que la media\n",
        "(array < array.mean()).sum()"
      ]
    },
    {
      "cell_type": "markdown",
      "metadata": {
        "id": "1w4-nZIE_LLi"
      },
      "source": [
        "NumPy también pone a nuestra disposición dos funciones de chequeo predefinidas sobre ndarrays booleanos:<br/>\n",
        "<ul>\n",
        "<li><b>any:</b> Para comprobar si alguno de los elementos es True.</li>\n",
        "<li><b>all:</b> Para comprobar si todos los elementos son True.</li>\n",
        "</ul>"
      ]
    },
    {
      "cell_type": "code",
      "execution_count": 36,
      "metadata": {
        "colab": {
          "base_uri": "https://localhost:8080/"
        },
        "id": "ZFAQDsvu_LLi",
        "outputId": "da89ae58-ca5b-4523-be4a-752e50fa9f3e"
      },
      "outputs": [
        {
          "output_type": "execute_result",
          "data": {
            "text/plain": [
              "array([[ 0.        , -0.72029799, -0.26993377, -0.14346223,  0.61700378],\n",
              "       [ 1.2489407 ,  0.06564916,  1.16920765,  0.87331697,  0.20565013],\n",
              "       [-1.44348335, -1.02771086,  0.74124064, -1.71052958,  0.11897849],\n",
              "       [ 1.00048561,  0.15242086, -0.60139725, -0.84661436,  0.81615272],\n",
              "       [ 0.47170729, -0.2854893 ,  1.06529247,  0.85399779,  1.78859386]])"
            ]
          },
          "metadata": {},
          "execution_count": 36
        }
      ],
      "source": [
        "array[0][0] = 0\n",
        "array"
      ]
    },
    {
      "cell_type": "code",
      "execution_count": 37,
      "metadata": {
        "colab": {
          "base_uri": "https://localhost:8080/"
        },
        "id": "b1IhqVVO_LLi",
        "outputId": "61f3ce84-b862-449b-de62-d79a35e6335b"
      },
      "outputs": [
        {
          "output_type": "execute_result",
          "data": {
            "text/plain": [
              "True"
            ]
          },
          "metadata": {},
          "execution_count": 37
        }
      ],
      "source": [
        "# Alguno de los elementos cumple la condición\n",
        "(array == 0).any()"
      ]
    },
    {
      "cell_type": "code",
      "execution_count": 38,
      "metadata": {
        "colab": {
          "base_uri": "https://localhost:8080/"
        },
        "id": "GWh8DlTU_LLi",
        "outputId": "032706c0-3e45-41f1-e4dc-432df752a4ce"
      },
      "outputs": [
        {
          "output_type": "execute_result",
          "data": {
            "text/plain": [
              "True"
            ]
          },
          "metadata": {},
          "execution_count": 38
        }
      ],
      "source": [
        "# Todos los elementos cumplen la condición\n",
        "((array >= -2) & (array <= 2)).all()"
      ]
    },
    {
      "cell_type": "markdown",
      "metadata": {
        "id": "vYuvI3Az_LLi"
      },
      "source": [
        "### Ordenación de ndarrays"
      ]
    },
    {
      "cell_type": "code",
      "execution_count": 39,
      "metadata": {
        "colab": {
          "base_uri": "https://localhost:8080/"
        },
        "id": "_4QcmxKo_LLj",
        "outputId": "8a4a96c1-d1f8-4ab0-e8ee-082f98369f90"
      },
      "outputs": [
        {
          "output_type": "execute_result",
          "data": {
            "text/plain": [
              "array([[ 0.56689407, -0.16450043, -0.14299093, -1.9345702 ,  0.15065904],\n",
              "       [-0.01571494, -1.33007407, -0.02528763,  1.34316821, -0.73454765],\n",
              "       [-0.95989463,  1.10492822,  0.6342403 ,  3.06109521, -1.31857016],\n",
              "       [ 0.72038724,  0.31589091,  0.05928128,  0.91051222, -0.02972536],\n",
              "       [-1.93637621, -0.84735753,  1.36443345,  1.1720289 , -0.37311919]])"
            ]
          },
          "metadata": {},
          "execution_count": 39
        }
      ],
      "source": [
        "array = np.random.randn(5, 5)\n",
        "array"
      ]
    },
    {
      "cell_type": "code",
      "execution_count": 40,
      "metadata": {
        "colab": {
          "base_uri": "https://localhost:8080/"
        },
        "id": "ud-ZHapj_LLj",
        "outputId": "16e09635-a15d-451b-9faf-d78727b55d5d"
      },
      "outputs": [
        {
          "output_type": "execute_result",
          "data": {
            "text/plain": [
              "array([[-1.9345702 , -0.16450043, -0.14299093,  0.15065904,  0.56689407],\n",
              "       [-1.33007407, -0.73454765, -0.02528763, -0.01571494,  1.34316821],\n",
              "       [-1.31857016, -0.95989463,  0.6342403 ,  1.10492822,  3.06109521],\n",
              "       [-0.02972536,  0.05928128,  0.31589091,  0.72038724,  0.91051222],\n",
              "       [-1.93637621, -0.84735753, -0.37311919,  1.1720289 ,  1.36443345]])"
            ]
          },
          "metadata": {},
          "execution_count": 40
        }
      ],
      "source": [
        "# Datos ordenados\n",
        "np.sort(array)"
      ]
    },
    {
      "cell_type": "code",
      "execution_count": 41,
      "metadata": {
        "colab": {
          "base_uri": "https://localhost:8080/"
        },
        "id": "Tn3OUMRW_LLj",
        "outputId": "f109025f-2047-4cef-aa70-5909099a596a"
      },
      "outputs": [
        {
          "output_type": "execute_result",
          "data": {
            "text/plain": [
              "array([[-1.93637621, -1.33007407, -0.14299093, -1.9345702 , -1.31857016],\n",
              "       [-0.95989463, -0.84735753, -0.02528763,  0.91051222, -0.73454765],\n",
              "       [-0.01571494, -0.16450043,  0.05928128,  1.1720289 , -0.37311919],\n",
              "       [ 0.56689407,  0.31589091,  0.6342403 ,  1.34316821, -0.02972536],\n",
              "       [ 0.72038724,  1.10492822,  1.36443345,  3.06109521,  0.15065904]])"
            ]
          },
          "metadata": {},
          "execution_count": 41
        }
      ],
      "source": [
        "# Datos ordenados según el primer eje\n",
        "np.sort(array, axis=0)"
      ]
    },
    {
      "cell_type": "markdown",
      "metadata": {
        "id": "TH4aTE3n_LLj"
      },
      "source": [
        "### Funciones de conjunto"
      ]
    },
    {
      "cell_type": "markdown",
      "metadata": {
        "id": "h6ijMlSi_LLj"
      },
      "source": [
        "NumPy permite realizar tratamientos sobre un ndarray asumiendo que el total de los elementos del mismo forman un conjunto.<br/>\n",
        "<ul>\n",
        "<li><b>unique:</b> Calcula el conjunto único de elementos sin duplicados.</li>\n",
        "<li><b>intersect1d:</b> Calcula la intersección de los elementos de dos arrays.</li>\n",
        "<li><b>union1d:</b> Calcula la unión de los elementos de dos arays.</li>\n",
        "<li><b>in1d:</b> Calcula un array booleano que indica si cada elemento del primer array está contenido en el segundo.</li>\n",
        "<li><b>setdiff1d:</b> Calcula la diferencia entre ambos conjuntos.</li>\n",
        "<li><b>setxor1d:</b> Calcula la diferencia simétrica entre ambos conjuntos.</li>\n",
        "</ul>"
      ]
    },
    {
      "cell_type": "code",
      "execution_count": 42,
      "metadata": {
        "colab": {
          "base_uri": "https://localhost:8080/"
        },
        "id": "bLOfVRgu_LLj",
        "outputId": "cf193ea1-d703-40f9-d379-d766004c17b4"
      },
      "outputs": [
        {
          "output_type": "execute_result",
          "data": {
            "text/plain": [
              "array([6, 0, 0, 0, 3, 2, 5, 6])"
            ]
          },
          "metadata": {},
          "execution_count": 42
        }
      ],
      "source": [
        "array1 = np.array([6, 0, 0, 0, 3, 2, 5, 6])\n",
        "array1"
      ]
    },
    {
      "cell_type": "code",
      "execution_count": 43,
      "metadata": {
        "colab": {
          "base_uri": "https://localhost:8080/"
        },
        "id": "6SR7UR7-_LLj",
        "outputId": "e57488dd-3be4-4066-dcfa-59a8ac536658"
      },
      "outputs": [
        {
          "output_type": "execute_result",
          "data": {
            "text/plain": [
              "array([7, 4, 3, 1, 2, 6, 5])"
            ]
          },
          "metadata": {},
          "execution_count": 43
        }
      ],
      "source": [
        "array2 = np.array([7, 4, 3, 1, 2, 6, 5])\n",
        "array2"
      ]
    },
    {
      "cell_type": "code",
      "execution_count": 44,
      "metadata": {
        "colab": {
          "base_uri": "https://localhost:8080/"
        },
        "id": "rcsbJ7II_LLj",
        "outputId": "1375c242-5933-4d0b-9e57-1ad37f50dd4c"
      },
      "outputs": [
        {
          "output_type": "execute_result",
          "data": {
            "text/plain": [
              "array([0, 2, 3, 5, 6])"
            ]
          },
          "metadata": {},
          "execution_count": 44
        }
      ],
      "source": [
        "np.unique(array1)"
      ]
    },
    {
      "cell_type": "code",
      "execution_count": 45,
      "metadata": {
        "colab": {
          "base_uri": "https://localhost:8080/"
        },
        "id": "26pVp5k2_LLj",
        "outputId": "05eb9597-fc35-4702-b9e7-86b96668ebe4"
      },
      "outputs": [
        {
          "output_type": "execute_result",
          "data": {
            "text/plain": [
              "array([0, 1, 2, 3, 4, 5, 6, 7])"
            ]
          },
          "metadata": {},
          "execution_count": 45
        }
      ],
      "source": [
        "np.union1d(array1, array2)"
      ]
    },
    {
      "cell_type": "code",
      "execution_count": 46,
      "metadata": {
        "colab": {
          "base_uri": "https://localhost:8080/"
        },
        "id": "rAuhJM3h_LLj",
        "outputId": "1385d89c-34a5-41b3-92e7-e03472c49e2e"
      },
      "outputs": [
        {
          "output_type": "execute_result",
          "data": {
            "text/plain": [
              "array([ True, False, False, False,  True,  True,  True,  True])"
            ]
          },
          "metadata": {},
          "execution_count": 46
        }
      ],
      "source": [
        "np.in1d(array1, array2)"
      ]
    }
  ],
  "metadata": {
    "kernelspec": {
      "display_name": "Python 3",
      "language": "python",
      "name": "python3"
    },
    "language_info": {
      "codemirror_mode": {
        "name": "ipython",
        "version": 3
      },
      "file_extension": ".py",
      "mimetype": "text/x-python",
      "name": "python",
      "nbconvert_exporter": "python",
      "pygments_lexer": "ipython3",
      "version": "3.8.8"
    },
    "colab": {
      "provenance": []
    }
  },
  "nbformat": 4,
  "nbformat_minor": 0
}