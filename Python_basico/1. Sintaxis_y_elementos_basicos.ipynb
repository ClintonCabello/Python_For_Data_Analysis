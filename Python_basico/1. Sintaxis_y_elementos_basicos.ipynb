{
  "cells": [
    {
      "cell_type": "markdown",
      "metadata": {
        "id": "5jBqPgXF8V-e"
      },
      "source": [
        "# Introducción a Python - Sintaxis y operadores básicos"
      ]
    },
    {
      "cell_type": "markdown",
      "metadata": {
        "id": "egyhr0hN8V-h"
      },
      "source": [
        "En este apartado del curso, se van a repasar conceptos básicos sobre la sintáxis de Python. Para ello, vamos a empezar con un ejemplo de código Python. ¿Qué imprimirá si lo ejecutamos?"
      ]
    },
    {
      "cell_type": "code",
      "execution_count": 1,
      "metadata": {
        "colab": {
          "base_uri": "https://localhost:8080/"
        },
        "id": "4PDMF_iz8V-i",
        "outputId": "4547ac81-5be0-444e-b9fb-9251b1b23acc"
      },
      "outputs": [
        {
          "output_type": "stream",
          "name": "stdout",
          "text": [
            "12\n",
            "Hola Mundo\n"
          ]
        }
      ],
      "source": [
        "entero = 34 - 23 # Un comentario\n",
        "cadena = \"Hola\" # Otro comentario\n",
        "decimal = 3.45\n",
        "if decimal == 3.45 or cadena == \"Hola\":\n",
        "    entero = entero + 1\n",
        "    cadena = cadena + \" Mundo\" # Concatenación de cadenas de caracteres\n",
        "print(entero)\n",
        "print(cadena)"
      ]
    },
    {
      "cell_type": "markdown",
      "metadata": {
        "id": "UHSauZxp8V-j"
      },
      "source": [
        "Para comprender bien el script, vamos a cubrir los elementos más básicos de la sintaxis de Python."
      ]
    },
    {
      "cell_type": "markdown",
      "metadata": {
        "id": "kspKRuEi8V-k"
      },
      "source": [
        "## Sintaxis"
      ]
    },
    {
      "cell_type": "markdown",
      "metadata": {
        "id": "C5FLxtgZ8V-k"
      },
      "source": [
        "### Asignaciones"
      ]
    },
    {
      "cell_type": "markdown",
      "metadata": {
        "id": "xYXqhStq8V-k"
      },
      "source": [
        "<ul>\n",
        "<li>Una asignación es el establecimiento de un nombre a una referencia a un objeto/valor</li>\n",
        "<li>La asignación se realiza mediante el operador \"=\"</li>\n",
        "<li>Las variables se crean en la primera asignación de valor. No es necesario declararlas de forma previa como ocurre en lenguajes como Java, C, etc.</li>\n",
        "<li>Python infiere el tipo de las variables a partir del valor de la primera asignación.</li>\n",
        "<li>Se puede hacer asignación múltiple en una misma sentencia.</li>\n",
        "<li>Si intentamos utilizar una variable no creada anteriormente obtendremos un error</li>\n",
        "</ul>"
      ]
    },
    {
      "cell_type": "code",
      "execution_count": 2,
      "metadata": {
        "id": "B8ISYCPw8V-k"
      },
      "outputs": [],
      "source": [
        "cod_contrato = \"1234567890000000000\"             # Creación de una variable cod_contrato de tipo cadena de caracteres\n",
        "num_hijos = 5                                    # Creación de una variable num_hijos de tipo entero\n",
        "saldo = 12345.67                                 # Creación de una variable saldo de tipo decimal\n",
        "cod_contrato_2 = cod_contrato                    # Creación de una variable cod_contrato_2 con el mismo valor y tipo que cod_contrato\n",
        "cod_titular_1, cod_titular_2 = \"Pepe\", \"María\"   # Creación múltiple de variables en una única sentencia"
      ]
    },
    {
      "cell_type": "markdown",
      "metadata": {
        "id": "Fjz76UEN8V-k"
      },
      "source": [
        "Podemos ver a continuación con el comando `%whos` las variables que hemos creado"
      ]
    },
    {
      "cell_type": "code",
      "execution_count": 3,
      "metadata": {
        "colab": {
          "base_uri": "https://localhost:8080/"
        },
        "id": "kzF47gWU8V-k",
        "outputId": "ff427afa-8a44-41b2-e607-86e278e15c08"
      },
      "outputs": [
        {
          "output_type": "stream",
          "name": "stdout",
          "text": [
            "Variable         Type     Data/Info\n",
            "-----------------------------------\n",
            "cadena           str      Hola Mundo\n",
            "cod_contrato     str      1234567890000000000\n",
            "cod_contrato_2   str      1234567890000000000\n",
            "cod_titular_1    str      Pepe\n",
            "cod_titular_2    str      María\n",
            "decimal          float    3.45\n",
            "entero           int      12\n",
            "num_hijos        int      5\n",
            "saldo            float    12345.67\n"
          ]
        }
      ],
      "source": [
        "%whos"
      ]
    },
    {
      "cell_type": "markdown",
      "metadata": {
        "id": "sLVeRzVr8V-l"
      },
      "source": [
        "### Variables"
      ]
    },
    {
      "cell_type": "markdown",
      "metadata": {
        "id": "x1oc23a38V-l"
      },
      "source": [
        "<ul>\n",
        "<li>Pueden verse como un nombre dado a una referencia a un objeto/valor.</li>\n",
        "<li>Su nombre puede contener:\n",
        "<ul>\n",
        "<li>Carácteres alfanuméricos: a-z, A-Z, 0-9</li>\n",
        "<li>Guión bajo: _</li>\n",
        "</ul>\n",
        "</li>\n",
        "<li>No se pueden usar ciertas palabras reservadas:\n",
        "<ul>\n",
        "<li>and, as, assert, break, class, continue, def, del, elif, else, except,\n",
        "  exec, finally, for, from, global, if, import, in, is, lambda, not, or,\n",
        "  pass, print, raise, return, try, while, with, yield</li>\n",
        "</ul>\n",
        "</li>\n",
        "<li>Aunque no hay normas, las \"buenas prácticas\" dicen que los nombres de variables deben:\n",
        "<ul>\n",
        "<li>Empezar con minúscula: el inicio con mayúsculas se reserva para la declaración de clases (programación orientada a objetos).\n",
        "<li>Autoexplicativos: nombres como cod_contrato, cod_persona, saldo, ingresos_acumulados frente a x, y z.</li>\n",
        "</ul>"
      ]
    },
    {
      "cell_type": "code",
      "execution_count": 4,
      "metadata": {
        "id": "1Zdaq-TJ8V-l"
      },
      "outputs": [],
      "source": [
        "cod_contrato = \"12345678890000000000\"   # Asignación correcta\n",
        "Persona = \"99999999-Q\"                  # Asignación válida aunque en contra de buenas prácticas\n",
        "x = 3.45                                # Asignación válida aunque en contra de buenas prácticas"
      ]
    },
    {
      "cell_type": "markdown",
      "metadata": {
        "id": "c_vx5SbU8V-l"
      },
      "source": [
        "### Salida estándar en celdas de Jupyter Notebook"
      ]
    },
    {
      "cell_type": "markdown",
      "metadata": {
        "id": "6KPgeD3G8V-l"
      },
      "source": [
        "* Para imprimir cualquier valor o cualquier variable por pantalla se utiliza la función de Python **print**\n",
        "* Podemos imprimir en una celda tantos valores como queramos"
      ]
    },
    {
      "cell_type": "code",
      "execution_count": 5,
      "metadata": {
        "scrolled": true,
        "colab": {
          "base_uri": "https://localhost:8080/"
        },
        "id": "Fs_F1dF-8V-l",
        "outputId": "9f3f3940-298b-44c7-900e-80e68b6f1372"
      },
      "outputs": [
        {
          "output_type": "stream",
          "name": "stdout",
          "text": [
            "Esto es una prueba\n",
            "1234567890000000000\n",
            "6\n"
          ]
        }
      ],
      "source": [
        "print(\"Esto es una prueba\")\n",
        "cod_contrato = \"1234567890000000000\"\n",
        "print(cod_contrato)\n",
        "print(2*3)"
      ]
    },
    {
      "cell_type": "markdown",
      "metadata": {
        "id": "PElnCdtH8V-m"
      },
      "source": [
        "* Si no utilizamos la función de Python **print**, la celda no devuelve ningún valor, pero eso no significa que no se haya ejecutado correctamente"
      ]
    },
    {
      "cell_type": "code",
      "execution_count": 6,
      "metadata": {
        "id": "zRobkzw88V-m"
      },
      "outputs": [],
      "source": [
        "prueba = 2*3"
      ]
    },
    {
      "cell_type": "markdown",
      "metadata": {
        "id": "F6gdzqSx8V-m"
      },
      "source": [
        "* Igualmente, podemos visualizar el valor en otra celda haciendo referencia a la variable que hemos creado"
      ]
    },
    {
      "cell_type": "code",
      "execution_count": 7,
      "metadata": {
        "colab": {
          "base_uri": "https://localhost:8080/"
        },
        "id": "jE2DMZ3D8V-m",
        "outputId": "b68e18b3-74e8-4f42-9d47-0957397ec3e8"
      },
      "outputs": [
        {
          "output_type": "stream",
          "name": "stdout",
          "text": [
            "6\n"
          ]
        }
      ],
      "source": [
        "print(prueba)"
      ]
    },
    {
      "cell_type": "markdown",
      "metadata": {
        "id": "5nqRVXSr8V-m"
      },
      "source": [
        "* Aunque no es recomendable, también podemos ver el valor resultante la última operación siempre y cuando ésta no es una asignación"
      ]
    },
    {
      "cell_type": "code",
      "execution_count": 8,
      "metadata": {
        "colab": {
          "base_uri": "https://localhost:8080/"
        },
        "id": "Hd5XKQeR8V-m",
        "outputId": "52348e7a-e17d-4d50-f2a5-2f91ce027655"
      },
      "outputs": [
        {
          "output_type": "execute_result",
          "data": {
            "text/plain": [
              "6"
            ]
          },
          "metadata": {},
          "execution_count": 8
        }
      ],
      "source": [
        "2*3"
      ]
    },
    {
      "cell_type": "markdown",
      "metadata": {
        "id": "cLc7Lozo8V-m"
      },
      "source": [
        "### Comentarios"
      ]
    },
    {
      "cell_type": "markdown",
      "metadata": {
        "id": "57larskj8V-m"
      },
      "source": [
        "<ul>\n",
        "<li>Para introducir un comentario en el código de Python se debe preceder el mismo del carácter \"#\".</li>\n",
        "<li>Se pueden comentar líneas completas (carácter \"#\" al principio de la línea) o líneas parciales (caracter \"#\" detrás de un fragmento de código).</li>\n",
        "<li>Una vez introducido el carácter \"#\" el comentario llegará hasta el final de la línea.</li>\n",
        "</ul>"
      ]
    },
    {
      "cell_type": "code",
      "execution_count": 9,
      "metadata": {
        "id": "fxT0Z3_K8V-m"
      },
      "outputs": [],
      "source": [
        "# Esto es un comentario que no se evaluará\n",
        "x = 15  # Esto es otro comentario que tampoco se evaluará"
      ]
    },
    {
      "cell_type": "markdown",
      "metadata": {
        "id": "lxPHYgfK8V-m"
      },
      "source": [
        "### Espacios en blanco"
      ]
    },
    {
      "cell_type": "markdown",
      "metadata": {
        "id": "rSaUemob8V-n"
      },
      "source": [
        "<ul>\n",
        "<li>Los espacios en blanco y los saltos de línea <b>tienen significado</b> en Python.</li>\n",
        "<li>Un salto de línea marca el final de una sentencia. No se usa \";\" al final de las líneas (como en Java o C).</li>\n",
        "<li>Se usa \"\\\" para indicar que una sentencia ocupará varias líneas (aunque no es buena costumbre).</li>"
      ]
    },
    {
      "cell_type": "code",
      "execution_count": 10,
      "metadata": {
        "id": "GLBmQ2B88V-n"
      },
      "outputs": [],
      "source": [
        "variable_1 = 10                          # Un salto de linea especifica el final de sentencia\n",
        "variable_2 = \"Soy una asignación\" + \\\n",
        "             \" muy larga\"                # Un \\ indica que la sentencia continúa en la siguiente linea (mala práctica)"
      ]
    },
    {
      "cell_type": "markdown",
      "metadata": {
        "id": "wDseKckh8V-n"
      },
      "source": [
        "### Tipos de dato"
      ]
    },
    {
      "cell_type": "markdown",
      "metadata": {
        "id": "uWu83zx88V-o"
      },
      "source": [
        "<ul>\n",
        "<li>Cuatro tipos básicos:\n",
        "<ul>\n",
        "<li>Cadenas de caracteres o <i>str</i>: Se especifican entre comillas simples, dobles o triples</li>\n",
        "<li>Valores numéricos enteros o <i>int</i>: No incluyen punto decimal</li>\n",
        "<li>Valores numéricos decimales o <i>float</i>: Incluyen punto decimal</li>\n",
        "<li>Valores booleanos o <i>bool</i>: True / False (case sensitive)</li>\n",
        "</ul>\n",
        "<li>Para conocer el tipo de una variable se puede usar la función de Python <b>type</b>.</li>\n",
        "</ul>"
      ]
    },
    {
      "cell_type": "code",
      "execution_count": 11,
      "metadata": {
        "colab": {
          "base_uri": "https://localhost:8080/"
        },
        "id": "_8W0x6Kv8V-o",
        "outputId": "37fa9c9d-f78d-4058-8947-ba359f2e0175"
      },
      "outputs": [
        {
          "output_type": "stream",
          "name": "stdout",
          "text": [
            "<class 'str'>\n",
            "<class 'int'>\n",
            "<class 'float'>\n",
            "<class 'bool'>\n"
          ]
        }
      ],
      "source": [
        "cadena = \"Esto es una cadena\"\n",
        "cadena = 'Esto también es una cadena'\n",
        "cadena = \"\"\"Incluso esto es\n",
        "una cadena\"\"\"\n",
        "entero = 10\n",
        "decimal = 10.1\n",
        "booleano = True\n",
        "\n",
        "print (type(cadena))\n",
        "print (type(entero))\n",
        "print (type(decimal))\n",
        "print (type(booleano))"
      ]
    },
    {
      "cell_type": "markdown",
      "metadata": {
        "id": "8QZTcl0a8V-o"
      },
      "source": [
        "### Casting o modificación manual de tipos"
      ]
    },
    {
      "cell_type": "markdown",
      "metadata": {
        "id": "qbWy1Nrx8V-o"
      },
      "source": [
        "<ul>\n",
        "<li>Se puede modificar explícitamente el tipo de dato de una variable.</li>\n",
        "<li>Para ello se utilizan las funciones de Python: <b>str</b>, <b>int</b>, <b>float</b> y <b>bool</b>.</li>\n",
        "<li>CUIDADO: Hay castings que no tienen sentido</li>\n",
        "</ul>"
      ]
    },
    {
      "cell_type": "code",
      "execution_count": 12,
      "metadata": {
        "colab": {
          "base_uri": "https://localhost:8080/"
        },
        "id": "ikMhKTva8V-o",
        "outputId": "f87b2f42-8be9-4920-cc45-e2d7dace1e9d"
      },
      "outputs": [
        {
          "output_type": "stream",
          "name": "stdout",
          "text": [
            "Casting de int a str\n",
            "10\n",
            "10\n",
            "----------------------\n",
            "Casting de float a int\n",
            "10.1\n",
            "10\n",
            "----------------------\n",
            "Casting de bool a float\n",
            "True\n",
            "1.0\n",
            "----------------------\n",
            "Casting de str a float. No funciona\n",
            "Incluso esto es\n",
            "una cadena\n"
          ]
        }
      ],
      "source": [
        "print(\"Casting de int a str\")\n",
        "print(entero)\n",
        "print (str(entero))         # Conversión del valor 10 a la cadena \"10\"\n",
        "print(\"----------------------\")\n",
        "print(\"Casting de float a int\")\n",
        "print(decimal)\n",
        "print (int(decimal))        # Conversión de float a int, con truncado de decimales\n",
        "print(\"----------------------\")\n",
        "print(\"Casting de bool a float\")\n",
        "print(booleano)\n",
        "print (float(booleano))     # Conversión de booleanos a valores numéricos 0 y 1\n",
        "print(\"----------------------\")\n",
        "print(\"Casting de str a float. No funciona\")\n",
        "print(cadena)\n"
      ]
    },
    {
      "cell_type": "markdown",
      "metadata": {
        "id": "Y44EzSqG8V-o"
      },
      "source": [
        "### None - Valor nulo"
      ]
    },
    {
      "cell_type": "markdown",
      "metadata": {
        "id": "nV9D4xIO8V-o"
      },
      "source": [
        "<ul>\n",
        "<li>Para crear una variable \"vacía\", es decir, sin valor se le asigna la palabra reservada <b>None</b>.</li>\n",
        "<li>Útil para eliminar referencias y que el <i>garbage collector</i> libere memoria, pero no suele ser necesario</li>\n",
        "</ul>"
      ]
    },
    {
      "cell_type": "code",
      "execution_count": 13,
      "metadata": {
        "colab": {
          "base_uri": "https://localhost:8080/"
        },
        "id": "Ay3HUYKF8V-p",
        "outputId": "16e86743-0400-4a92-b876-7cb5805e5e9c"
      },
      "outputs": [
        {
          "output_type": "stream",
          "name": "stdout",
          "text": [
            "None\n",
            "<class 'NoneType'>\n"
          ]
        }
      ],
      "source": [
        "vacio = None\n",
        "print (vacio)\n",
        "print (type(vacio))"
      ]
    },
    {
      "cell_type": "markdown",
      "metadata": {
        "id": "HYKe1BVI8V-p"
      },
      "source": [
        "### Lectura de la entrada estándar. Interacción con el usuario."
      ]
    },
    {
      "cell_type": "markdown",
      "metadata": {
        "id": "D4MrweFG8V-p"
      },
      "source": [
        "<ul>\n",
        "<li>Para leer cualquier valor del teclado se utiliza la función de Python <b>input</b>. El valor introducido se convierte automáticamente en <b>str</b>.</li>\n",
        "</ul>"
      ]
    },
    {
      "cell_type": "code",
      "execution_count": 14,
      "metadata": {
        "colab": {
          "base_uri": "https://localhost:8080/"
        },
        "id": "dFw407QJ8V--",
        "outputId": "1af425cc-569f-422a-9997-ad2eb3891dca"
      },
      "outputs": [
        {
          "output_type": "stream",
          "name": "stdout",
          "text": [
            "--> 4\n",
            "Has escrito: 4\n",
            "<class 'str'>\n"
          ]
        }
      ],
      "source": [
        "entrada = input(\"--> \")\n",
        "print(\"Has escrito: \" + entrada)\n",
        "print(type(entrada))"
      ]
    },
    {
      "cell_type": "markdown",
      "metadata": {
        "id": "pzNoVBLH8V-_"
      },
      "source": [
        "## Operadores básicos"
      ]
    },
    {
      "cell_type": "markdown",
      "metadata": {
        "id": "o6i4JaMg8V-_"
      },
      "source": [
        "<ul>\n",
        "<li>Al igual que en otros lenguajes de programación tenemos un conjunto diverso de operadores para aplicar a variables y valores:\n",
        "<ul>\n",
        "<li>Aritméticos: +, -, \\*, /, \\*\\*, %, //</li>\n",
        "<li>Lógicos: and, or, not</li>\n",
        "<li>Comparativos: ==, !=, <>, >, <, >=, <=</li>\n",
        "<li>Asignación: =, +=, -=. \\*=, /=, \\*\\*=, %=, //=</li>\n",
        "</ul>"
      ]
    },
    {
      "cell_type": "markdown",
      "metadata": {
        "id": "O89soVRc8V_A"
      },
      "source": [
        "### Aritméticos"
      ]
    },
    {
      "cell_type": "code",
      "execution_count": 15,
      "metadata": {
        "colab": {
          "base_uri": "https://localhost:8080/"
        },
        "id": "z9TKJTil8V_A",
        "outputId": "bff073db-887d-4c36-aff9-cd2fd9bde226"
      },
      "outputs": [
        {
          "output_type": "stream",
          "name": "stdout",
          "text": [
            "10\n",
            "8\n",
            "1.25\n",
            "2\n",
            "1\n"
          ]
        }
      ],
      "source": [
        "a = 2 * 5\n",
        "b = 2**3\n",
        "c = a / b\n",
        "d = a % b\n",
        "e = a//b\n",
        "print(a)\n",
        "print(b)\n",
        "print(c)\n",
        "print(d)\n",
        "print(e)"
      ]
    },
    {
      "cell_type": "markdown",
      "metadata": {
        "id": "BfplRQVi8V_A"
      },
      "source": [
        "### Comparativos"
      ]
    },
    {
      "cell_type": "code",
      "execution_count": 16,
      "metadata": {
        "colab": {
          "base_uri": "https://localhost:8080/"
        },
        "id": "J-I3LSdF8V_B",
        "outputId": "a73c9eb7-8b8c-4ace-9cf2-b5c418e9e9be"
      },
      "outputs": [
        {
          "output_type": "stream",
          "name": "stdout",
          "text": [
            "False\n",
            "True\n",
            "True\n"
          ]
        }
      ],
      "source": [
        "b = 4\n",
        "print (a == b)\n",
        "print (a != b)\n",
        "print (a > b)"
      ]
    },
    {
      "cell_type": "markdown",
      "metadata": {
        "id": "S597ww9m8V_B"
      },
      "source": [
        "### Lógicos"
      ]
    },
    {
      "cell_type": "code",
      "execution_count": 17,
      "metadata": {
        "colab": {
          "base_uri": "https://localhost:8080/"
        },
        "id": "7AOlblUK8V_B",
        "outputId": "42d6ac05-7bbe-4be0-fb7b-476292d2fe7f"
      },
      "outputs": [
        {
          "output_type": "execute_result",
          "data": {
            "text/plain": [
              "False"
            ]
          },
          "metadata": {},
          "execution_count": 17
        }
      ],
      "source": [
        "a = 3\n",
        "a > 2 and a < 0"
      ]
    },
    {
      "cell_type": "code",
      "execution_count": 18,
      "metadata": {
        "scrolled": true,
        "colab": {
          "base_uri": "https://localhost:8080/"
        },
        "id": "FlFhEsDO8V_C",
        "outputId": "da6fdf96-2298-4cea-a866-ef6cb13962fc"
      },
      "outputs": [
        {
          "output_type": "execute_result",
          "data": {
            "text/plain": [
              "True"
            ]
          },
          "metadata": {},
          "execution_count": 18
        }
      ],
      "source": [
        "a > 2 or a < 0"
      ]
    },
    {
      "cell_type": "code",
      "execution_count": 19,
      "metadata": {
        "colab": {
          "base_uri": "https://localhost:8080/"
        },
        "id": "cVjDdRra8V_C",
        "outputId": "fa57b448-7140-4401-ae15-283db9f0b471"
      },
      "outputs": [
        {
          "output_type": "execute_result",
          "data": {
            "text/plain": [
              "False"
            ]
          },
          "metadata": {},
          "execution_count": 19
        }
      ],
      "source": [
        "not a > 2"
      ]
    },
    {
      "cell_type": "markdown",
      "metadata": {
        "id": "Kzpx6adG8V_C"
      },
      "source": [
        "### Asignación aritmética"
      ]
    },
    {
      "cell_type": "code",
      "execution_count": 20,
      "metadata": {
        "colab": {
          "base_uri": "https://localhost:8080/"
        },
        "id": "gSusFDqr8V_C",
        "outputId": "cc5bd352-ccb2-4857-c669-cdea5e5e7890"
      },
      "outputs": [
        {
          "output_type": "execute_result",
          "data": {
            "text/plain": [
              "11"
            ]
          },
          "metadata": {},
          "execution_count": 20
        }
      ],
      "source": [
        "a += 8\n",
        "a"
      ]
    },
    {
      "cell_type": "code",
      "execution_count": 21,
      "metadata": {
        "colab": {
          "base_uri": "https://localhost:8080/"
        },
        "id": "q90-7yzM8V_D",
        "outputId": "101059f8-10dc-4016-b6c3-cc0e1e097e6b"
      },
      "outputs": [
        {
          "output_type": "execute_result",
          "data": {
            "text/plain": [
              "1"
            ]
          },
          "metadata": {},
          "execution_count": 21
        }
      ],
      "source": [
        "a %= 5\n",
        "a"
      ]
    }
  ],
  "metadata": {
    "kernelspec": {
      "display_name": "Python 3",
      "language": "python",
      "name": "python3"
    },
    "language_info": {
      "codemirror_mode": {
        "name": "ipython",
        "version": 3
      },
      "file_extension": ".py",
      "mimetype": "text/x-python",
      "name": "python",
      "nbconvert_exporter": "python",
      "pygments_lexer": "ipython3",
      "version": "3.8.8"
    },
    "colab": {
      "provenance": []
    }
  },
  "nbformat": 4,
  "nbformat_minor": 0
}