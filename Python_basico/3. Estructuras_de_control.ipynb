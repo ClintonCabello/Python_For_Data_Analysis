{
  "cells": [
    {
      "cell_type": "markdown",
      "metadata": {
        "id": "v3-SJcD88xMA"
      },
      "source": [
        "# Introducción a Python - Estructuras de control"
      ]
    },
    {
      "cell_type": "markdown",
      "metadata": {
        "id": "KvpEMN0R8xMB"
      },
      "source": [
        "En este apartado revisaremos las diferentes estructuras de control de flujo que nos permitirán (realmente) la construcción de programas. Estas estructuras son idénticas en funcionamiento al resto de lenguajes de programación, aunque variará ligeramente la sintáxis de las mismas.\n",
        "\n",
        "Tienen en común que siempre se empieza con una sentencia (ya sea `if`, `for`,...) con un **`:`** al final de esa misma línea. A continuación aparece el bloque de código que querramos de manera **indentada** y, para saber que estamos fuera de la estructura de control de flujo, basta con no indentar el nuevo código.\n",
        "\n",
        "Las estructuras de control que se verán son:\n",
        "* **Condicionales**: `if`, `elif`,`else`.\n",
        "* **Bucles**: `for`,`while`.\n",
        "* **Control de errores**: `try`,`except`."
      ]
    },
    {
      "cell_type": "markdown",
      "metadata": {
        "id": "H4OZsQ8f8xMC"
      },
      "source": [
        "### Condicionales (if, elif, else)"
      ]
    },
    {
      "cell_type": "markdown",
      "metadata": {
        "id": "bt6YuS5t8xMC"
      },
      "source": [
        "Esta estructura de control nos permitirá elegir, en base a una condición dada, la ejecución de diferentes bloques de código."
      ]
    },
    {
      "cell_type": "code",
      "execution_count": 1,
      "metadata": {
        "id": "67d9zl2e8xMC"
      },
      "outputs": [],
      "source": [
        "precio_taxi = 10.00\n",
        "precio_bus = 2.50"
      ]
    },
    {
      "cell_type": "markdown",
      "metadata": {
        "id": "O8Y0-cCV8xMC"
      },
      "source": [
        "Queremos saber si podemos irnos en taxi, para ello preguntamos si el dinero disponible es mayor que el precio del taxi. Para ello utilizamos **`if`**."
      ]
    },
    {
      "cell_type": "code",
      "execution_count": 2,
      "metadata": {
        "colab": {
          "base_uri": "https://localhost:8080/"
        },
        "id": "8auhaWiQ8xMC",
        "outputId": "a5ea3065-88b2-4257-b022-7b6f8ea7a9bd"
      },
      "outputs": [
        {
          "output_type": "stream",
          "name": "stdout",
          "text": [
            "¿Cuánto dinero tengo? 34\n",
            "Me voy en taxi\n"
          ]
        }
      ],
      "source": [
        "dinero_disponible = input(\"¿Cuánto dinero tengo? \")\n",
        "\n",
        "if int(dinero_disponible) >= 10:\n",
        "    print(\"Me voy en taxi\")"
      ]
    },
    {
      "cell_type": "markdown",
      "metadata": {
        "id": "BSxvgjEi8xMC"
      },
      "source": [
        "¿Qué sucede si no tenemos dinero para ir en taxi? Podemos seguir preguntando si tenemos dinero para irnos en autobus"
      ]
    },
    {
      "cell_type": "code",
      "execution_count": 3,
      "metadata": {
        "colab": {
          "base_uri": "https://localhost:8080/"
        },
        "id": "xsiM1b9q8xMC",
        "outputId": "824bc2c6-a9e7-4475-c170-d6a6162f86a5"
      },
      "outputs": [
        {
          "output_type": "stream",
          "name": "stdout",
          "text": [
            "Me voy en bus\n"
          ]
        }
      ],
      "source": [
        "dinero_disponible = 8\n",
        "\n",
        "if int(dinero_disponible) >= precio_taxi:\n",
        "    print(\"Me voy en taxi\")\n",
        "\n",
        "if int(dinero_disponible) >= precio_bus:\n",
        "    print(\"Me voy en bus\")"
      ]
    },
    {
      "cell_type": "markdown",
      "metadata": {
        "id": "pkJrUrSS8xMC"
      },
      "source": [
        "Realmente el código anterior no funciona correctamente en caso de tener suficiente dinero como para ir en ambos transportes, por lo que para arreglarlo tenemos que añadir una condición al segundo bloque"
      ]
    },
    {
      "cell_type": "code",
      "execution_count": 4,
      "metadata": {
        "colab": {
          "base_uri": "https://localhost:8080/"
        },
        "id": "DKRkRSTs8xMD",
        "outputId": "bee76c12-05db-4162-a908-b663f327014b"
      },
      "outputs": [
        {
          "output_type": "stream",
          "name": "stdout",
          "text": [
            "Me voy en taxi\n"
          ]
        }
      ],
      "source": [
        "dinero_disponible = 15\n",
        "\n",
        "if dinero_disponible >= precio_taxi:\n",
        "    print(\"Me voy en taxi\")\n",
        "\n",
        "if dinero_disponible >= precio_bus and dinero_disponible < precio_taxi:\n",
        "    print(\"Me voy en bus\")"
      ]
    },
    {
      "cell_type": "markdown",
      "metadata": {
        "id": "umk-2HGe8xMD"
      },
      "source": [
        "Esta forma de realizar expresiones condicionales es muy redundante y obliga a la utilización de condiciones demasiado complejas. Se podría reescribir el mismo programa utilizando la sentencia **`else`**."
      ]
    },
    {
      "cell_type": "code",
      "execution_count": 5,
      "metadata": {
        "colab": {
          "base_uri": "https://localhost:8080/"
        },
        "id": "S4PDKPJ48xMD",
        "outputId": "02763859-d616-4c2a-a845-cc2827e9a41c"
      },
      "outputs": [
        {
          "output_type": "stream",
          "name": "stdout",
          "text": [
            "Me voy en taxi\n"
          ]
        }
      ],
      "source": [
        "dinero_disponible = 15\n",
        "\n",
        "if precio_taxi < dinero_disponible:\n",
        "    print ('Me voy en taxi')\n",
        "else:\n",
        "    print ('Me voy en bus')"
      ]
    },
    {
      "cell_type": "markdown",
      "metadata": {
        "id": "Ppcpom4o8xMD"
      },
      "source": [
        "Adicionalmente, podemos poner distinos condicionales que se pueden ir comproando en caso de que la condición anterior no se haya cumplido.\n",
        "\n",
        "De manera que:\n",
        "* **Si** (`if`) tengo dinero para el taxi, me voy en taxi,\n",
        "* **Si no tengo dinero para el taxi, pero sí** (`elif`) tengo dinero para el bus, me voy en bus,\n",
        "* **Si no se cumple ninguna** (`else`), me voy andando"
      ]
    },
    {
      "cell_type": "code",
      "execution_count": 6,
      "metadata": {
        "colab": {
          "base_uri": "https://localhost:8080/"
        },
        "id": "Z7olBT2g8xMD",
        "outputId": "b5e847f0-39b1-4f9b-9a47-f52d2de0002f"
      },
      "outputs": [
        {
          "output_type": "stream",
          "name": "stdout",
          "text": [
            "¿Cuanto dinero tengo? 45\n",
            "Me voy en taxi\n"
          ]
        }
      ],
      "source": [
        "dinero_disponible = int(input(\"¿Cuanto dinero tengo? \"))\n",
        "\n",
        "if precio_taxi < dinero_disponible:\n",
        "    print ('Me voy en taxi')\n",
        "elif precio_bus < dinero_disponible:\n",
        "    print ('Me voy en bus')\n",
        "else:\n",
        "    print ('Me voy andando')"
      ]
    },
    {
      "cell_type": "markdown",
      "metadata": {
        "id": "EJkTc3cH8xMD"
      },
      "source": [
        "### Bucle - for"
      ]
    },
    {
      "cell_type": "markdown",
      "metadata": {
        "id": "LDRTBzzI8xMD"
      },
      "source": [
        "Esta estructura de control nos permitirá llevar a cabo la ejecución de un bloque de código para todos los elementos contenidos en una secuencia (que pueden estar involucrados o no en el bloque de código)."
      ]
    },
    {
      "cell_type": "code",
      "execution_count": 7,
      "metadata": {
        "colab": {
          "base_uri": "https://localhost:8080/"
        },
        "id": "MF1BXFPX8xMD",
        "outputId": "4cd70dfe-1002-4ee0-90e8-952f87d081da"
      },
      "outputs": [
        {
          "output_type": "stream",
          "name": "stdout",
          "text": [
            "Hola mundo\n",
            "Hola mundo\n",
            "Hola mundo\n",
            "Hola mundo\n",
            "Hola mundo\n",
            "Hola mundo\n",
            "Hola mundo\n",
            "Hola mundo\n",
            "Hola mundo\n",
            "Hola mundo\n"
          ]
        }
      ],
      "source": [
        "for i in range(0, 10):\n",
        "    print (\"Hola mundo\")"
      ]
    },
    {
      "cell_type": "code",
      "execution_count": 8,
      "metadata": {
        "colab": {
          "base_uri": "https://localhost:8080/"
        },
        "id": "qosbqrKx8xMD",
        "outputId": "4b090442-fd1a-408f-a8ac-dac35e8b2f25"
      },
      "outputs": [
        {
          "output_type": "stream",
          "name": "stdout",
          "text": [
            "[0, 1, 2, 3, 4, 5, 6, 7, 8, 9]\n",
            "0\n",
            "Hola mundo: 0\n",
            "1\n",
            "Hola mundo: 1\n",
            "2\n",
            "Hola mundo: 2\n",
            "3\n",
            "Hola mundo: 3\n",
            "4\n",
            "Hola mundo: 4\n",
            "5\n",
            "Hola mundo: 5\n",
            "6\n",
            "Hola mundo: 6\n",
            "7\n",
            "Hola mundo: 7\n",
            "8\n",
            "Hola mundo: 8\n",
            "9\n",
            "Hola mundo: 9\n",
            "--------------\n",
            "Proceso finalizado\n"
          ]
        }
      ],
      "source": [
        "print(list(range(0,10)))\n",
        "for i in range(0, 10):\n",
        "    print(i)\n",
        "    print (\"Hola mundo: \" + str(i))\n",
        "\n",
        "print(\"--------------\")\n",
        "print(\"Proceso finalizado\")"
      ]
    },
    {
      "cell_type": "code",
      "execution_count": 9,
      "metadata": {
        "colab": {
          "base_uri": "https://localhost:8080/"
        },
        "id": "Kd_FSQuM8xMD",
        "outputId": "1e49600c-ef33-40d8-d69e-b703feab17b2"
      },
      "outputs": [
        {
          "output_type": "stream",
          "name": "stdout",
          "text": [
            "uno\n",
            "dos\n",
            "tres\n",
            "cuatro\n",
            "cinco\n"
          ]
        }
      ],
      "source": [
        "list_1 = [\"uno\", \"dos\", \"tres\", \"cuatro\", \"cinco\"]\n",
        "for element in list_1:\n",
        "    print (element)"
      ]
    },
    {
      "cell_type": "markdown",
      "metadata": {
        "id": "cqaWDFmH8xME"
      },
      "source": [
        "Podemos jugar con listas de tuplas para poder disponer de 2 valores a la vez sobre los que iterar. \\\n",
        "En este primer ejemplo, utilizaremos cada elemento de la lista para sacarlo por pantalla."
      ]
    },
    {
      "cell_type": "code",
      "execution_count": 10,
      "metadata": {
        "scrolled": true,
        "colab": {
          "base_uri": "https://localhost:8080/"
        },
        "id": "0MgPXxoU8xME",
        "outputId": "6b78d57f-0cfd-470e-db25-a569d35c7a76"
      },
      "outputs": [
        {
          "output_type": "stream",
          "name": "stdout",
          "text": [
            "(1, 2)\n",
            "(3, 4)\n"
          ]
        }
      ],
      "source": [
        "list_1 = [(1,2),(3,4)]\n",
        "for tupla in list_1:\n",
        "    print(tupla)"
      ]
    },
    {
      "cell_type": "markdown",
      "metadata": {
        "id": "CX-fyZ4M8xME"
      },
      "source": [
        "En este segundo ejemplo, **iteramos** sobre cada una de las tuplas que hay en la lista de la siguiente manera."
      ]
    },
    {
      "cell_type": "code",
      "execution_count": 11,
      "metadata": {
        "colab": {
          "base_uri": "https://localhost:8080/"
        },
        "id": "5wXjO9908xME",
        "outputId": "d44a87c6-14b9-4b8d-9f2c-cf276ad676f6"
      },
      "outputs": [
        {
          "output_type": "stream",
          "name": "stdout",
          "text": [
            "3\n",
            "7\n"
          ]
        }
      ],
      "source": [
        "list_1 = [(1,2),(3,4)]\n",
        "for a,b in list_1:\n",
        "    # Ahora tenemos en cada iteración 2 variables \"a\" y \"b\" con las que podemos jugar\n",
        "    print(a + b)"
      ]
    },
    {
      "cell_type": "markdown",
      "metadata": {
        "id": "Q7fAHvy78xME"
      },
      "source": [
        "A veces es muy cómodo el disponer al mismo tiempo del elemento sobre el que se itera y del índice que ocupa dentro del bucle. Para ello podemos utilizar la función `enumerate`."
      ]
    },
    {
      "cell_type": "code",
      "execution_count": 12,
      "metadata": {
        "colab": {
          "base_uri": "https://localhost:8080/"
        },
        "id": "Z2TXgPZN8xME",
        "outputId": "2bc1b319-62b8-4f8e-999b-e3306aae80cc"
      },
      "outputs": [
        {
          "output_type": "execute_result",
          "data": {
            "text/plain": [
              "[(0, 'uno'), (1, 'dos'), (2, 'tres'), (3, 'cuatro'), (4, 'cinco')]"
            ]
          },
          "metadata": {},
          "execution_count": 12
        }
      ],
      "source": [
        "list_1 = [\"uno\", \"dos\", \"tres\", \"cuatro\", \"cinco\"]\n",
        "list(enumerate(list_1))"
      ]
    },
    {
      "cell_type": "markdown",
      "metadata": {
        "id": "XG9cxDib8xME"
      },
      "source": [
        "Veamos cómo aprovecharlo."
      ]
    },
    {
      "cell_type": "code",
      "execution_count": 13,
      "metadata": {
        "colab": {
          "base_uri": "https://localhost:8080/"
        },
        "id": "V8FkhgNw8xME",
        "outputId": "3984ba16-e91b-4732-80b8-dce52cc9f165"
      },
      "outputs": [
        {
          "output_type": "stream",
          "name": "stdout",
          "text": [
            "Elemento en índice 0: uno\n",
            "Elemento en índice 1: dos\n",
            "Elemento en índice 2: tres\n",
            "Elemento en índice 3: cuatro\n",
            "Elemento en índice 4: cinco\n"
          ]
        }
      ],
      "source": [
        "for index, element in enumerate(list_1):\n",
        "    print (\"Elemento en índice \" + str(index) + \": \" + element)"
      ]
    },
    {
      "cell_type": "markdown",
      "metadata": {
        "id": "gVfCcfpR8xME"
      },
      "source": [
        "### Bucle - while"
      ]
    },
    {
      "cell_type": "markdown",
      "metadata": {
        "id": "exj8dTHe8xME"
      },
      "source": [
        "Esta estructura de control nos permitirá llevar a cabo la ejecución de un bloque de código mientras se cumpla una condición dada."
      ]
    },
    {
      "cell_type": "code",
      "execution_count": 14,
      "metadata": {
        "colab": {
          "base_uri": "https://localhost:8080/"
        },
        "id": "09SD8x8w8xME",
        "outputId": "3c3358e9-8602-4958-dc4b-8a697679e30d"
      },
      "outputs": [
        {
          "output_type": "stream",
          "name": "stdout",
          "text": [
            "0\n",
            "1\n",
            "2\n",
            "3\n",
            "4\n",
            "5\n",
            "6\n",
            "7\n",
            "8\n",
            "9\n"
          ]
        }
      ],
      "source": [
        "i = 0\n",
        "while i < 10:\n",
        "    print (i)\n",
        "    i += 1"
      ]
    },
    {
      "cell_type": "markdown",
      "metadata": {
        "id": "7y8c8c0l8xMF"
      },
      "source": [
        "### Interrupción de bucles - break y continue"
      ]
    },
    {
      "cell_type": "markdown",
      "metadata": {
        "id": "qo2g8MGv8xMF"
      },
      "source": [
        "Las sentencias break y continue permiten alterar el flujo normal de ejecución de un bucle. Más concretamente:\n",
        "\n",
        "<ul>\n",
        "<li>break: Corta completamente el flujo de ejecución del bucle y pasa el control a la sentencia posterior al bucle.</li>\n",
        "<li>continue: Corta la ejecución de la iteración actual y pasa el control a la siguiente iteración del bucle.</li>\n",
        "</ul>"
      ]
    },
    {
      "cell_type": "code",
      "execution_count": 15,
      "metadata": {
        "colab": {
          "base_uri": "https://localhost:8080/"
        },
        "id": "1Skh97ex8xMF",
        "outputId": "378a34a0-b370-4468-fffe-f9eae68d65c6"
      },
      "outputs": [
        {
          "output_type": "stream",
          "name": "stdout",
          "text": [
            "uno\n",
            "dos\n",
            "tres\n"
          ]
        }
      ],
      "source": [
        "list_1 = [\"uno\", \"dos\", \"tres\", \"cuatro\", \"cinco\"]\n",
        "for element in list_1:\n",
        "    if element == \"cuatro\":\n",
        "        break\n",
        "    print (element)"
      ]
    },
    {
      "cell_type": "code",
      "execution_count": 16,
      "metadata": {
        "colab": {
          "base_uri": "https://localhost:8080/"
        },
        "id": "DoweGezL8xMF",
        "outputId": "94bd6b8d-332b-4b26-b7a1-f28e4f7d5f02"
      },
      "outputs": [
        {
          "output_type": "stream",
          "name": "stdout",
          "text": [
            "uno\n",
            "dos\n",
            "tres\n",
            "cinco\n"
          ]
        }
      ],
      "source": [
        "list_1 = [\"uno\", \"dos\", \"tres\", \"cuatro\", \"cinco\"]\n",
        "for element in list_1:\n",
        "    if element == \"cuatro\":\n",
        "        continue\n",
        "    print (element)"
      ]
    },
    {
      "cell_type": "markdown",
      "metadata": {
        "id": "wuAs-d9T8xMF"
      },
      "source": [
        "### Comprensiones de lista"
      ]
    },
    {
      "cell_type": "markdown",
      "metadata": {
        "id": "maMPAGKk8xMF"
      },
      "source": [
        "Dada la filosofía de Python de hacer el código más conciso, tenemos a nuestra disposición una estructura especial de control (semejante a los bucles) que facilita mucho la escritura de código. Imáginemos el siguiente bucle."
      ]
    },
    {
      "cell_type": "code",
      "execution_count": 17,
      "metadata": {
        "colab": {
          "base_uri": "https://localhost:8080/"
        },
        "id": "p87SaxMd8xMF",
        "outputId": "2c548bff-2808-4cbc-9b5e-28f454afa354"
      },
      "outputs": [
        {
          "output_type": "stream",
          "name": "stdout",
          "text": [
            "['MIGUEL', 'MARIA', 'MANUEL']\n"
          ]
        }
      ],
      "source": [
        "list_1 = [\"Miguel\", \"Juan\", \"Maria\", \"Manuel\", \"Rodrigo\"]\n",
        "list_M = []\n",
        "for element in list_1:\n",
        "    if element[0] == \"M\":\n",
        "        list_M.append(element.upper())\n",
        "print (list_M)"
      ]
    },
    {
      "cell_type": "markdown",
      "metadata": {
        "id": "Kp_HzvHP8xMF"
      },
      "source": [
        "Podemos conseguir el mismo resultado con un código mucho más conciso."
      ]
    },
    {
      "cell_type": "code",
      "execution_count": 18,
      "metadata": {
        "colab": {
          "base_uri": "https://localhost:8080/"
        },
        "id": "xP45H7Kv8xML",
        "outputId": "e212a7bf-8764-49a6-a124-5a820ba38be2"
      },
      "outputs": [
        {
          "output_type": "stream",
          "name": "stdout",
          "text": [
            "['MIGUEL', 'MARIA', 'MANUEL']\n"
          ]
        }
      ],
      "source": [
        "list_1 = [\"Miguel\", \"Juan\", \"Maria\", \"Manuel\", \"Rodrigo\"]\n",
        "list_M = [element.upper() for element in list_1 if element[0] == \"M\"]\n",
        "print (list_M)"
      ]
    },
    {
      "cell_type": "markdown",
      "metadata": {
        "id": "9UckhEiB8xML"
      },
      "source": [
        "### Otras comprensiones"
      ]
    },
    {
      "cell_type": "markdown",
      "metadata": {
        "id": "hAgIBg9w8xML"
      },
      "source": [
        "Del mismo modo, se puede utilizar la sintáxis de las comprensiones de lista para crear otras estructuras como diccionarios y conjuntos."
      ]
    },
    {
      "cell_type": "code",
      "execution_count": 19,
      "metadata": {
        "colab": {
          "base_uri": "https://localhost:8080/"
        },
        "id": "kPG_KWCi8xMM",
        "outputId": "0db1ee93-faa9-4d9a-bd5e-5301ecf5354e"
      },
      "outputs": [
        {
          "output_type": "execute_result",
          "data": {
            "text/plain": [
              "{'MIGUEL': True,\n",
              " 'JUAN': False,\n",
              " 'MARIA': True,\n",
              " 'MANUEL': True,\n",
              " 'RODRIGO': False}"
            ]
          },
          "metadata": {},
          "execution_count": 19
        }
      ],
      "source": [
        "{ element.upper(): element[0] == 'M' for element in list_1 }"
      ]
    },
    {
      "cell_type": "code",
      "execution_count": 20,
      "metadata": {
        "colab": {
          "base_uri": "https://localhost:8080/"
        },
        "id": "K0rB5JIZ8xMM",
        "outputId": "97c6be3c-8b1e-4254-fdf7-d845ba37604c"
      },
      "outputs": [
        {
          "output_type": "execute_result",
          "data": {
            "text/plain": [
              "{'Juan', 'Maria', 'Miguel'}"
            ]
          },
          "metadata": {},
          "execution_count": 20
        }
      ],
      "source": [
        "list_duplicates = [\"Miguel\", \"Juan\", \"Maria\", \"Miguel\", \"Juan\"]\n",
        "{ element for element in list_duplicates }"
      ]
    },
    {
      "cell_type": "markdown",
      "metadata": {
        "id": "dp2nbvpH8xMM"
      },
      "source": [
        "### Control de errores/excepciones - try, except\n"
      ]
    },
    {
      "cell_type": "markdown",
      "metadata": {
        "id": "k17woB-28xMM"
      },
      "source": [
        "Al igual que en otros lenguajes de programación (Java, C++...), los errores en Python se generan en forma de excepciones (objetos en los que se incluye tanto el detalle del error como la pila de llamadas que han generado dicho error). Es importante realizar una buena gestión de excepciones de forma que los errores estén siempre controlados de forma que los programas creados sean robustos (no paren su ejecución de forma prematura por errores no controlados) y claros (presenten a los potenciales usuarios información \"entendible\" y no los errores internos de Python)."
      ]
    },
    {
      "cell_type": "code",
      "execution_count": 21,
      "metadata": {
        "colab": {
          "base_uri": "https://localhost:8080/",
          "height": 166
        },
        "id": "Yee5S2Fq8xMM",
        "outputId": "be34094d-ff7a-4abe-894c-1663fb241d1c"
      },
      "outputs": [
        {
          "output_type": "error",
          "ename": "ValueError",
          "evalue": "could not convert string to float: '123.5hola'",
          "traceback": [
            "\u001b[0;31m---------------------------------------------------------------------------\u001b[0m",
            "\u001b[0;31mValueError\u001b[0m                                Traceback (most recent call last)",
            "\u001b[0;32m<ipython-input-21-7f2d3fd5e5aa>\u001b[0m in \u001b[0;36m<cell line: 2>\u001b[0;34m()\u001b[0m\n\u001b[1;32m      1\u001b[0m \u001b[0mcadena\u001b[0m \u001b[0;34m=\u001b[0m \u001b[0;34m\"123.5hola\"\u001b[0m\u001b[0;34m\u001b[0m\u001b[0;34m\u001b[0m\u001b[0m\n\u001b[0;32m----> 2\u001b[0;31m \u001b[0mnumero\u001b[0m \u001b[0;34m=\u001b[0m \u001b[0mfloat\u001b[0m\u001b[0;34m(\u001b[0m\u001b[0mcadena\u001b[0m\u001b[0;34m)\u001b[0m\u001b[0;34m\u001b[0m\u001b[0;34m\u001b[0m\u001b[0m\n\u001b[0m",
            "\u001b[0;31mValueError\u001b[0m: could not convert string to float: '123.5hola'"
          ]
        }
      ],
      "source": [
        "cadena = \"123.5hola\"\n",
        "numero = float(cadena)"
      ]
    },
    {
      "cell_type": "markdown",
      "metadata": {
        "id": "rbhsnMxi8xMM"
      },
      "source": [
        "Se pueden controlar todos los errores de forma genérica."
      ]
    },
    {
      "cell_type": "code",
      "execution_count": 22,
      "metadata": {
        "colab": {
          "base_uri": "https://localhost:8080/"
        },
        "id": "nbAW3wsk8xMM",
        "outputId": "173e2034-73ec-4033-95da-5bca95ce1a60"
      },
      "outputs": [
        {
          "output_type": "stream",
          "name": "stdout",
          "text": [
            "Se produjo un error\n"
          ]
        }
      ],
      "source": [
        "try:\n",
        "    cadena = \"123.5hola\"\n",
        "    numero = float(cadena)\n",
        "except:\n",
        "    print (\"Se produjo un error\")"
      ]
    },
    {
      "cell_type": "code",
      "execution_count": 23,
      "metadata": {
        "colab": {
          "base_uri": "https://localhost:8080/"
        },
        "id": "FgduvP_d8xMM",
        "outputId": "4f3514c5-4184-435c-9c7d-99f3761720f0"
      },
      "outputs": [
        {
          "output_type": "stream",
          "name": "stdout",
          "text": [
            "could not convert string to float: '123.5hola'\n",
            "Se produjo un error\n"
          ]
        }
      ],
      "source": [
        "try:\n",
        "    cadena = \"123.5hola\"\n",
        "    numero = float(cadena)\n",
        "except Exception as e:\n",
        "    print (e)\n",
        "    print (\"Se produjo un error\")"
      ]
    },
    {
      "cell_type": "markdown",
      "metadata": {
        "id": "2_TZY2FX8xMM"
      },
      "source": [
        "O realizar un control detallado por tipo de error."
      ]
    },
    {
      "cell_type": "code",
      "execution_count": 24,
      "metadata": {
        "colab": {
          "base_uri": "https://localhost:8080/"
        },
        "id": "MrlEM97P8xMM",
        "outputId": "f12e0c36-d8fa-47d5-f3dd-c71acecd6ee9"
      },
      "outputs": [
        {
          "output_type": "stream",
          "name": "stdout",
          "text": [
            "Formato numérico incorrecto\n"
          ]
        }
      ],
      "source": [
        "try:\n",
        "    cadena = \"123.5hola\"\n",
        "    numero = float(cadena)\n",
        "except RuntimeError as e:\n",
        "    print (\"Se produjo un error de ejecución\")\n",
        "except ValueError as e:\n",
        "    print (\"Formato numérico incorrecto\")\n",
        "except Exception as e:\n",
        "    print (\"Se produjo un error desconocido\")"
      ]
    }
  ],
  "metadata": {
    "kernelspec": {
      "display_name": "Python 3",
      "language": "python",
      "name": "python3"
    },
    "language_info": {
      "codemirror_mode": {
        "name": "ipython",
        "version": 3
      },
      "file_extension": ".py",
      "mimetype": "text/x-python",
      "name": "python",
      "nbconvert_exporter": "python",
      "pygments_lexer": "ipython3",
      "version": "3.8.8"
    },
    "colab": {
      "provenance": []
    }
  },
  "nbformat": 4,
  "nbformat_minor": 0
}