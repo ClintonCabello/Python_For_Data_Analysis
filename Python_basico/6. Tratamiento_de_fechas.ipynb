{
  "cells": [
    {
      "cell_type": "markdown",
      "metadata": {
        "id": "g4YrcRofOZmf"
      },
      "source": [
        "---\n",
        "<font size=\"6\">Tratamiento de fechas</font>\n",
        "\n",
        "Es imprescindible, en cualquier lenguaje de programación, aprender a cómo utilizar las fechas tal y como queremos. \\\n",
        "Para ello, en este módulo aprenderemos a utilizar el paquete de funciones incorporadas en **`datetime`**.\n",
        "\n",
        "---\n"
      ]
    },
    {
      "cell_type": "markdown",
      "metadata": {
        "id": "Ub_8Zzc31rm9"
      },
      "source": [
        "# **Objetos en `datetime`**\n",
        "Dispondremos de muchos objetos en los cuales se hará hincapié en las clases de fechas siguientes:\n",
        "* **date**: Objeto de fecha\n",
        "* **time**: Objeto de tiempo\n",
        "* **datetime**: Objeto que engloba a ambas\n",
        "* **timedelta**: Objeto operador de fechas\n",
        "\n",
        "Empecemos importando el paquete y viendo sus atributos."
      ]
    },
    {
      "cell_type": "code",
      "execution_count": 1,
      "metadata": {
        "id": "Fipjo9KAReaQ",
        "colab": {
          "base_uri": "https://localhost:8080/"
        },
        "outputId": "9e57977f-bf8a-47ea-cec5-6ff732edf9e0"
      },
      "outputs": [
        {
          "output_type": "execute_result",
          "data": {
            "text/plain": [
              "['MAXYEAR',\n",
              " 'MINYEAR',\n",
              " '__all__',\n",
              " '__builtins__',\n",
              " '__cached__',\n",
              " '__doc__',\n",
              " '__file__',\n",
              " '__loader__',\n",
              " '__name__',\n",
              " '__package__',\n",
              " '__spec__',\n",
              " 'date',\n",
              " 'datetime',\n",
              " 'datetime_CAPI',\n",
              " 'sys',\n",
              " 'time',\n",
              " 'timedelta',\n",
              " 'timezone',\n",
              " 'tzinfo']"
            ]
          },
          "metadata": {},
          "execution_count": 1
        }
      ],
      "source": [
        "import datetime\n",
        "dir(datetime)"
      ]
    },
    {
      "cell_type": "markdown",
      "metadata": {
        "id": "BwSOzwhuX5fL"
      },
      "source": [
        "Como se peude observar, vemos las clases `date`, `datetime`, `time` y `timedelta`, las cuales veremos más en detalle a continuación."
      ]
    },
    {
      "cell_type": "markdown",
      "metadata": {
        "id": "MPHiHGbcYikT"
      },
      "source": [
        "## **`.date`**\n",
        "Con esta clase podemos crear objetos tipo `date` el cual representa una fecha de tipo (año, mes y día). Además, como atributo más interesante, está el poder extraer el día de hoy con el método `.today()`."
      ]
    },
    {
      "cell_type": "code",
      "execution_count": 2,
      "metadata": {
        "id": "NJNZXPlwYGuh",
        "colab": {
          "base_uri": "https://localhost:8080/"
        },
        "outputId": "d26d8ac9-cf8d-444a-b191-f2892334d47a"
      },
      "outputs": [
        {
          "output_type": "execute_result",
          "data": {
            "text/plain": [
              "['__add__',\n",
              " '__class__',\n",
              " '__delattr__',\n",
              " '__dir__',\n",
              " '__doc__',\n",
              " '__eq__',\n",
              " '__format__',\n",
              " '__ge__',\n",
              " '__getattribute__',\n",
              " '__gt__',\n",
              " '__hash__',\n",
              " '__init__',\n",
              " '__init_subclass__',\n",
              " '__le__',\n",
              " '__lt__',\n",
              " '__ne__',\n",
              " '__new__',\n",
              " '__radd__',\n",
              " '__reduce__',\n",
              " '__reduce_ex__',\n",
              " '__repr__',\n",
              " '__rsub__',\n",
              " '__setattr__',\n",
              " '__sizeof__',\n",
              " '__str__',\n",
              " '__sub__',\n",
              " '__subclasshook__',\n",
              " 'ctime',\n",
              " 'day',\n",
              " 'fromisocalendar',\n",
              " 'fromisoformat',\n",
              " 'fromordinal',\n",
              " 'fromtimestamp',\n",
              " 'isocalendar',\n",
              " 'isoformat',\n",
              " 'isoweekday',\n",
              " 'max',\n",
              " 'min',\n",
              " 'month',\n",
              " 'replace',\n",
              " 'resolution',\n",
              " 'strftime',\n",
              " 'timetuple',\n",
              " 'today',\n",
              " 'toordinal',\n",
              " 'weekday',\n",
              " 'year']"
            ]
          },
          "metadata": {},
          "execution_count": 2
        }
      ],
      "source": [
        "# --\n",
        "# Atributos de datetime.date\n",
        "# --\n",
        "dir(datetime.date)"
      ]
    },
    {
      "cell_type": "code",
      "execution_count": 3,
      "metadata": {
        "id": "p2DWCKmIZ8N1"
      },
      "outputs": [],
      "source": [
        "# --\n",
        "# A partir de aquí, trabajemos únicamente importando todo el paquete date\n",
        "# para evitar poner \"datetime.\"\n",
        "# --\n",
        "from datetime import date"
      ]
    },
    {
      "cell_type": "markdown",
      "metadata": {
        "id": "U3A31cGEaUa3"
      },
      "source": [
        "### **Crear fechas**\n",
        "Para crear fechas, necesitamos los siguientes argumentos:\n",
        "* **Year**\n",
        "* **Month**\n",
        "* **Day**"
      ]
    },
    {
      "cell_type": "code",
      "execution_count": 4,
      "metadata": {
        "id": "n4XB-I7KbPN3",
        "colab": {
          "base_uri": "https://localhost:8080/"
        },
        "outputId": "2c0c2ec6-db64-4d7b-fbbf-ceca9ffa0ced"
      },
      "outputs": [
        {
          "output_type": "stream",
          "name": "stdout",
          "text": [
            "Usando datetime.date: 2019-04-13\n",
            "Usando date: 2019-04-13\n"
          ]
        }
      ],
      "source": [
        "# --\n",
        "# Creamos una fecha\n",
        "# --\n",
        "ejemplo_d_1 = datetime.date(year = 2019, month = 4, day = 13)\n",
        "print('Usando datetime.date: ' + str(ejemplo_d_1))\n",
        "\n",
        "# --\n",
        "# Equivalente a usar únicamente date\n",
        "# --\n",
        "ejemplo_d_2 = date(2019, 4, 13)\n",
        "print('Usando date: ' + str(ejemplo_d_2))"
      ]
    },
    {
      "cell_type": "markdown",
      "metadata": {
        "id": "BJpdVf_KaaPD"
      },
      "source": [
        "#### `.today()`\n",
        "Veamos cómo extraer el día actual"
      ]
    },
    {
      "cell_type": "code",
      "execution_count": 5,
      "metadata": {
        "id": "OmSiX2SeZf0U",
        "colab": {
          "base_uri": "https://localhost:8080/"
        },
        "outputId": "052ee506-d362-48c6-a700-6d49f739ad0f"
      },
      "outputs": [
        {
          "output_type": "stream",
          "name": "stdout",
          "text": [
            "Fechas de hoy: 2024-02-29\n"
          ]
        }
      ],
      "source": [
        "# --\n",
        "# Equivalente a usar directamente date.today()\n",
        "# --\n",
        "hoy = date.today()\n",
        "print('Fechas de hoy: ' + str(hoy))"
      ]
    },
    {
      "cell_type": "markdown",
      "metadata": {
        "id": "BtEIAP0bd_e9"
      },
      "source": [
        "### **Métodos asociados**\n",
        "Los métodos asociados más usuales a este objeto son:\n",
        "* **`.year`**\n",
        "* **`.month`**\n",
        "* **`.day`**\n"
      ]
    },
    {
      "cell_type": "code",
      "execution_count": 6,
      "metadata": {
        "id": "hJ403TG_K4mq",
        "colab": {
          "base_uri": "https://localhost:8080/"
        },
        "outputId": "e3a5a769-a549-4009-fc72-b92779bd305c"
      },
      "outputs": [
        {
          "output_type": "stream",
          "name": "stdout",
          "text": [
            "Año actual: 2024\n",
            "Mes actual: 2\n",
            "Día actual: 29\n"
          ]
        }
      ],
      "source": [
        "# --\n",
        "# Veamos el año, mes y día actual\n",
        "# --\n",
        "hoy = date.today()\n",
        "\n",
        "print(\"Año actual:\", hoy.year)\n",
        "print(\"Mes actual:\", hoy.month)\n",
        "print(\"Día actual:\", hoy.day)"
      ]
    },
    {
      "cell_type": "markdown",
      "metadata": {
        "id": "3U0E7sMZhCzY"
      },
      "source": [
        "Adicionalmente, peude llegar a resultar interesante el método `fromtimestamp`que convierte un número en formato $\\text{timestamp}^1$ a fecha.\n",
        "\n",
        "<font size = 2> 1.- El $\\text{timestamp}$ es el número de segundos que han transucrrido entre el 1 de enero de 1970 y la fecha que se desee."
      ]
    },
    {
      "cell_type": "code",
      "execution_count": 7,
      "metadata": {
        "id": "g02gfb68KlMI",
        "colab": {
          "base_uri": "https://localhost:8080/"
        },
        "outputId": "ad0324dd-81cb-4f08-db07-07cf7394ea8b"
      },
      "outputs": [
        {
          "output_type": "stream",
          "name": "stdout",
          "text": [
            "Fecha = 2012-01-11\n"
          ]
        }
      ],
      "source": [
        "# --\n",
        "# Veámos a qué fecha hace referencia este número\n",
        "# --\n",
        "timestamp = date.fromtimestamp(1326244364)\n",
        "print(\"Fecha =\", timestamp)"
      ]
    },
    {
      "cell_type": "markdown",
      "metadata": {
        "id": "y5syQ3_Hhguu"
      },
      "source": [
        "## **`.time`**\n",
        "Con esta clase podemos crear objetos tipo `time` el cual representa una hora de tipo (hora, minuto, segundo y microsegundo). Además, como atributo más interesante, está el poder extraer la hora actual con el método `.now()`."
      ]
    },
    {
      "cell_type": "code",
      "execution_count": 8,
      "metadata": {
        "id": "-Jw_3R_Eh-5v",
        "colab": {
          "base_uri": "https://localhost:8080/"
        },
        "outputId": "0dac060c-419e-4bde-853f-789e2a406a0a"
      },
      "outputs": [
        {
          "output_type": "execute_result",
          "data": {
            "text/plain": [
              "['__class__',\n",
              " '__delattr__',\n",
              " '__dir__',\n",
              " '__doc__',\n",
              " '__eq__',\n",
              " '__format__',\n",
              " '__ge__',\n",
              " '__getattribute__',\n",
              " '__gt__',\n",
              " '__hash__',\n",
              " '__init__',\n",
              " '__init_subclass__',\n",
              " '__le__',\n",
              " '__lt__',\n",
              " '__ne__',\n",
              " '__new__',\n",
              " '__reduce__',\n",
              " '__reduce_ex__',\n",
              " '__repr__',\n",
              " '__setattr__',\n",
              " '__sizeof__',\n",
              " '__str__',\n",
              " '__subclasshook__',\n",
              " 'dst',\n",
              " 'fold',\n",
              " 'fromisoformat',\n",
              " 'hour',\n",
              " 'isoformat',\n",
              " 'max',\n",
              " 'microsecond',\n",
              " 'min',\n",
              " 'minute',\n",
              " 'replace',\n",
              " 'resolution',\n",
              " 'second',\n",
              " 'strftime',\n",
              " 'tzinfo',\n",
              " 'tzname',\n",
              " 'utcoffset']"
            ]
          },
          "metadata": {},
          "execution_count": 8
        }
      ],
      "source": [
        "# --\n",
        "# Atributos de datetime.time\n",
        "# --\n",
        "dir(datetime.time)"
      ]
    },
    {
      "cell_type": "code",
      "execution_count": 9,
      "metadata": {
        "id": "CwiAQOkhiEt9"
      },
      "outputs": [],
      "source": [
        "# --\n",
        "# A partir de aquí, trabajemos únicamente importando todo el paquete time\n",
        "# para evitar poner \"datetime.\"\n",
        "# --\n",
        "from datetime import time"
      ]
    },
    {
      "cell_type": "markdown",
      "metadata": {
        "id": "lQW4L6p2ihtQ"
      },
      "source": [
        "### **Crear horas**\n",
        "Para crear horas, necesitamos los siguientes argumentos:\n",
        "* **Hour**\n",
        "* **Minute**\n",
        "* **Second**\n",
        "* **Microsecond**: Opcional"
      ]
    },
    {
      "cell_type": "code",
      "execution_count": 10,
      "metadata": {
        "id": "dIuphh_Gi5AO",
        "colab": {
          "base_uri": "https://localhost:8080/"
        },
        "outputId": "c1394995-beee-4306-b07c-f0d5faa9f649"
      },
      "outputs": [
        {
          "output_type": "stream",
          "name": "stdout",
          "text": [
            "Usando datetime.time: 11:34:13\n",
            "Usando date: 11:34:13\n",
            "Usando microsegundos: 11:34:56.234566\n"
          ]
        }
      ],
      "source": [
        "# --\n",
        "# Creamos una hora\n",
        "# --\n",
        "ejemplo_h_1 = datetime.time(hour = 11, minute = 34, second = 13)\n",
        "print('Usando datetime.time: ' + str(ejemplo_h_1))\n",
        "\n",
        "# --\n",
        "# Equivalente a usar únicamente date\n",
        "# --\n",
        "ejemplo_h_2 = time(11, 34, 13)\n",
        "print('Usando date: ' + str(ejemplo_h_2))\n",
        "\n",
        "# --\n",
        "# Usando la variable opcional \"microsecond\"\n",
        "# --\n",
        "ejemplo_h_3 = time(11, 34, 56, 234566)\n",
        "print(\"Usando microsegundos:\", ejemplo_h_3)"
      ]
    },
    {
      "cell_type": "markdown",
      "metadata": {
        "id": "F5jDLcWqlH6v"
      },
      "source": [
        "### **Métodos asociados**\n",
        "Los métodos asociados más usuales a este objeto son:\n",
        "* **`.hour`**\n",
        "* **`.minute`**\n",
        "* **`.second`**\n",
        "* **`.microsecond`**"
      ]
    },
    {
      "cell_type": "code",
      "execution_count": 11,
      "metadata": {
        "id": "yyN-IvTglXLh",
        "colab": {
          "base_uri": "https://localhost:8080/"
        },
        "outputId": "f6a2c874-3d7a-4346-ae19-da2766408009"
      },
      "outputs": [
        {
          "output_type": "stream",
          "name": "stdout",
          "text": [
            "Hora: 11\n",
            "Minuto: 34\n",
            "Segundo: 56\n",
            "Microsegundo: 0\n"
          ]
        }
      ],
      "source": [
        "# --\n",
        "# Veamos la hora, el minuto, el segundo y el microsegundo de la variable \"mi_hora\"\n",
        "# --\n",
        "mi_hora = time(11, 34, 56)\n",
        "\n",
        "print(\"Hora:\", mi_hora.hour)\n",
        "print(\"Minuto:\", mi_hora.minute)\n",
        "print(\"Segundo:\", mi_hora.second)\n",
        "print(\"Microsegundo:\", mi_hora.microsecond)"
      ]
    },
    {
      "cell_type": "markdown",
      "metadata": {
        "id": "VByYvj23mOyS"
      },
      "source": [
        "## **`.datetime`**\n",
        "Con esta clase podemos crear objetos tipo `datetime` el cual engloba a las dos categorías anteriores, teniendo objetos del tipo (año, mes, día, hora, minuto, segundo y microsegundo). Además, como atributo más interesante, está el poder extraer la fecha o hora actual con el método `.today()`y `.now()`."
      ]
    },
    {
      "cell_type": "code",
      "execution_count": 12,
      "metadata": {
        "id": "oOpkhF3SmqVQ",
        "colab": {
          "base_uri": "https://localhost:8080/"
        },
        "outputId": "464081fd-4452-4373-9be9-0e04c2f6bb76"
      },
      "outputs": [
        {
          "output_type": "execute_result",
          "data": {
            "text/plain": [
              "['__add__',\n",
              " '__class__',\n",
              " '__delattr__',\n",
              " '__dir__',\n",
              " '__doc__',\n",
              " '__eq__',\n",
              " '__format__',\n",
              " '__ge__',\n",
              " '__getattribute__',\n",
              " '__gt__',\n",
              " '__hash__',\n",
              " '__init__',\n",
              " '__init_subclass__',\n",
              " '__le__',\n",
              " '__lt__',\n",
              " '__ne__',\n",
              " '__new__',\n",
              " '__radd__',\n",
              " '__reduce__',\n",
              " '__reduce_ex__',\n",
              " '__repr__',\n",
              " '__rsub__',\n",
              " '__setattr__',\n",
              " '__sizeof__',\n",
              " '__str__',\n",
              " '__sub__',\n",
              " '__subclasshook__',\n",
              " 'astimezone',\n",
              " 'combine',\n",
              " 'ctime',\n",
              " 'date',\n",
              " 'day',\n",
              " 'dst',\n",
              " 'fold',\n",
              " 'fromisocalendar',\n",
              " 'fromisoformat',\n",
              " 'fromordinal',\n",
              " 'fromtimestamp',\n",
              " 'hour',\n",
              " 'isocalendar',\n",
              " 'isoformat',\n",
              " 'isoweekday',\n",
              " 'max',\n",
              " 'microsecond',\n",
              " 'min',\n",
              " 'minute',\n",
              " 'month',\n",
              " 'now',\n",
              " 'replace',\n",
              " 'resolution',\n",
              " 'second',\n",
              " 'strftime',\n",
              " 'strptime',\n",
              " 'time',\n",
              " 'timestamp',\n",
              " 'timetuple',\n",
              " 'timetz',\n",
              " 'today',\n",
              " 'toordinal',\n",
              " 'tzinfo',\n",
              " 'tzname',\n",
              " 'utcfromtimestamp',\n",
              " 'utcnow',\n",
              " 'utcoffset',\n",
              " 'utctimetuple',\n",
              " 'weekday',\n",
              " 'year']"
            ]
          },
          "metadata": {},
          "execution_count": 12
        }
      ],
      "source": [
        "import datetime\n",
        "# --\n",
        "# Atributos de datetime.time\n",
        "# --\n",
        "dir(datetime.datetime)"
      ]
    },
    {
      "cell_type": "code",
      "execution_count": 13,
      "metadata": {
        "id": "TZf9cFPwm-TD"
      },
      "outputs": [],
      "source": [
        "# --\n",
        "# A partir de aquí, trabajemos únicamente importando todo el paquete datetime\n",
        "# para evitar poner \"datetime.\"\n",
        "# --\n",
        "from datetime import datetime"
      ]
    },
    {
      "cell_type": "markdown",
      "metadata": {
        "id": "qTdPpjbjnH54"
      },
      "source": [
        "### **Crear objetos datetime**\n",
        "Para crear este tipo de objetos, necesitamos los siguientes argumentos:\n",
        "* **Year**\n",
        "* **Month**\n",
        "* **Day**\n",
        "* **Hour**: Opcional. Defecto: Hour = 0\n",
        "* **Minute**: Opcional. Defecto: Minute = 0\n",
        "* **Second**: Opcional. Defecto: Second = 0\n",
        "* **Microsecond**: Opcional. Defecto: Microsecond = 0"
      ]
    },
    {
      "cell_type": "code",
      "execution_count": 14,
      "metadata": {
        "id": "fNHs18wfLRjL",
        "colab": {
          "base_uri": "https://localhost:8080/"
        },
        "outputId": "5c775b57-08c4-4763-dbe9-580fc7e426d0"
      },
      "outputs": [
        {
          "output_type": "stream",
          "name": "stdout",
          "text": [
            "Fecha utilizando datetime: 2018-11-28 00:00:00\n",
            "Fecha y hora utilizando datetime: 2017-11-28 23:55:59.342380\n"
          ]
        }
      ],
      "source": [
        "# --\n",
        "# Creamos una fecha\n",
        "# --\n",
        "mi_fecha_1 = datetime(2018, 11, 28)\n",
        "print(\"Fecha utilizando datetime: \" + str(mi_fecha_1))\n",
        "\n",
        "# --\n",
        "# Creamos una fecha con hora\n",
        "# --\n",
        "mi_fecha_2 = datetime(2017, 11, 28, 23, 55, 59, 342380)\n",
        "print(\"Fecha y hora utilizando datetime: \" + str(mi_fecha_2))"
      ]
    },
    {
      "cell_type": "markdown",
      "metadata": {
        "id": "Cf1DQdMMoKhS"
      },
      "source": [
        "#### `.today()` o `.now()`\n",
        "Veamos cómo extraer el día y hora actual usando datetime."
      ]
    },
    {
      "cell_type": "code",
      "execution_count": 15,
      "metadata": {
        "id": "asdYezZvoKhc",
        "colab": {
          "base_uri": "https://localhost:8080/"
        },
        "outputId": "c9e32be6-aaaf-4a3e-eafe-ece000e0b36d"
      },
      "outputs": [
        {
          "output_type": "stream",
          "name": "stdout",
          "text": [
            "Fecha de hoy: 2024-02-29 17:43:51.150073\n",
            "Hora actual: 2024-02-29 17:43:51.151226\n"
          ]
        }
      ],
      "source": [
        "# --\n",
        "# Extraemos la fecha actual usando .today()\n",
        "# --\n",
        "hoy = datetime.today()\n",
        "print('Fecha de hoy: ' + str(hoy))\n",
        "\n",
        "# --\n",
        "# Extraemos la fecha actual usando .now()\n",
        "# --\n",
        "ahora = datetime.now()\n",
        "print('Hora actual: ' + str(ahora))"
      ]
    },
    {
      "cell_type": "markdown",
      "metadata": {
        "id": "0R6r_niarJPu"
      },
      "source": [
        "### **Métodos asociados**\n",
        "Los métodos asociados más usuales a este objeto son:\n",
        "* **`.year`**\n",
        "* **`.month`**\n",
        "* **`.day`**\n",
        "* **`.hour`**\n",
        "* **`.minute`**\n",
        "* **`.second`**\n",
        "* **`.microsecond`**\n",
        "* **`.timestamp`**\n"
      ]
    },
    {
      "cell_type": "code",
      "execution_count": 16,
      "metadata": {
        "id": "vuWZ2anvLcO7",
        "colab": {
          "base_uri": "https://localhost:8080/"
        },
        "outputId": "080e334c-df0c-49cf-ac59-522685baa52c"
      },
      "outputs": [
        {
          "output_type": "stream",
          "name": "stdout",
          "text": [
            "year = 2017\n",
            "month = 11\n",
            "hour = 23\n",
            "minute = 55\n",
            "timestamp = 1511913359.34238\n"
          ]
        }
      ],
      "source": [
        "# --\n",
        "# Veamos el año, mes, hora, minuto y timestamp de una fecha\"\n",
        "# --\n",
        "fecha = datetime(2017, 11, 28, 23, 55, 59, 342380)\n",
        "print(\"year =\", fecha.year)\n",
        "print(\"month =\", fecha.month)\n",
        "print(\"hour =\", fecha.hour)\n",
        "print(\"minute =\", fecha.minute)\n",
        "print(\"timestamp =\", fecha.timestamp())"
      ]
    },
    {
      "cell_type": "markdown",
      "metadata": {
        "id": "nTpUnthGsQsZ"
      },
      "source": [
        "## **`.timedelta`**\n",
        "Con esta clase podemos crear objetos tipo `timedelta` representa la diferencia entre dos fechas u horas."
      ]
    },
    {
      "cell_type": "code",
      "execution_count": 17,
      "metadata": {
        "id": "HoFbWnhPt1xI",
        "colab": {
          "base_uri": "https://localhost:8080/"
        },
        "outputId": "940e8c43-c2fe-4c5e-fc52-9e2d10ec9844"
      },
      "outputs": [
        {
          "output_type": "execute_result",
          "data": {
            "text/plain": [
              "['__abs__',\n",
              " '__add__',\n",
              " '__bool__',\n",
              " '__class__',\n",
              " '__delattr__',\n",
              " '__dir__',\n",
              " '__divmod__',\n",
              " '__doc__',\n",
              " '__eq__',\n",
              " '__floordiv__',\n",
              " '__format__',\n",
              " '__ge__',\n",
              " '__getattribute__',\n",
              " '__gt__',\n",
              " '__hash__',\n",
              " '__init__',\n",
              " '__init_subclass__',\n",
              " '__le__',\n",
              " '__lt__',\n",
              " '__mod__',\n",
              " '__mul__',\n",
              " '__ne__',\n",
              " '__neg__',\n",
              " '__new__',\n",
              " '__pos__',\n",
              " '__radd__',\n",
              " '__rdivmod__',\n",
              " '__reduce__',\n",
              " '__reduce_ex__',\n",
              " '__repr__',\n",
              " '__rfloordiv__',\n",
              " '__rmod__',\n",
              " '__rmul__',\n",
              " '__rsub__',\n",
              " '__rtruediv__',\n",
              " '__setattr__',\n",
              " '__sizeof__',\n",
              " '__str__',\n",
              " '__sub__',\n",
              " '__subclasshook__',\n",
              " '__truediv__',\n",
              " 'days',\n",
              " 'max',\n",
              " 'microseconds',\n",
              " 'min',\n",
              " 'resolution',\n",
              " 'seconds',\n",
              " 'total_seconds']"
            ]
          },
          "metadata": {},
          "execution_count": 17
        }
      ],
      "source": [
        "from datetime import timedelta\n",
        "dir(timedelta)"
      ]
    },
    {
      "cell_type": "markdown",
      "metadata": {
        "id": "J3f63ukxzxLs"
      },
      "source": [
        "### **Crear objetos timedelta**\n",
        "Para crear este tipo de objetos, necesitamos los siguientes argumentos:\n",
        "* **Weeks**: Opcional. Defecto: Weeks = 0\n",
        "* **Days**: Opcional. Defecto: Day = 0\n",
        "* **Hours**: Opcional. Defecto: Hour = 0\n",
        "* **Minutes**: Opcional. Defecto: Minute = 0\n",
        "* **Seconds**: Opcional. Defecto: Second = 0\n",
        "* **Microseconds**: Opcional. Defecto: Microsecond = 0\n",
        "* **Miliseconds**: Opcional. Defecto: Microsecond = 0"
      ]
    },
    {
      "cell_type": "code",
      "execution_count": 18,
      "metadata": {
        "id": "_XXF_NpYLk_r",
        "colab": {
          "base_uri": "https://localhost:8080/"
        },
        "outputId": "ac2fec4e-7228-481c-d4a6-f464fc8a8252"
      },
      "outputs": [
        {
          "output_type": "stream",
          "name": "stdout",
          "text": [
            "Diferencia = 14 days, 13:55:39\n"
          ]
        }
      ],
      "source": [
        "# --\n",
        "# Creamos un par de objetos timedelta y los restamos\n",
        "# --\n",
        "t1 = timedelta(weeks = 2, days = 5, hours = 1, seconds = 33)\n",
        "t2 = timedelta(days = 4, hours = 11, minutes = 4, seconds = 54)\n",
        "t3 = t1 - t2\n",
        "\n",
        "print(\"Diferencia =\", t3)"
      ]
    },
    {
      "cell_type": "markdown",
      "metadata": {
        "id": "d-BU7mQPuIj5"
      },
      "source": [
        "Para crear un objeto `timedelta` no hace falta inicalizarlo, pues basta con hacer una operación de resta como la siguiente."
      ]
    },
    {
      "cell_type": "code",
      "execution_count": 19,
      "metadata": {
        "id": "PLK-LlUZLeLq",
        "colab": {
          "base_uri": "https://localhost:8080/"
        },
        "outputId": "05f3a6a2-823e-4eab-b258-755387289115"
      },
      "outputs": [
        {
          "output_type": "stream",
          "name": "stdout",
          "text": [
            "t3 = 201 days, 0:00:00\n",
            "t6 = -333 days, 1:14:20\n",
            "Tipo de t3 = <class 'datetime.timedelta'>\n",
            "Tipo de t6 = <class 'datetime.timedelta'>\n"
          ]
        }
      ],
      "source": [
        "# --\n",
        "# Ejemplo de resta de fechas tipo date\n",
        "# --\n",
        "t1 = date(year = 2018, month = 7, day = 12)\n",
        "t2 = date(year = 2017, month = 12, day = 23)\n",
        "t3 = t1 - t2\n",
        "print(\"t3 =\", t3)\n",
        "\n",
        "t4 = datetime(year = 2018, month = 7, day = 12, hour = 7, minute = 9, second = 33)\n",
        "t5 = datetime(year = 2019, month = 6, day = 10, hour = 5, minute = 55, second = 13)\n",
        "t6 = t4 - t5\n",
        "print(\"t6 =\", t6)\n",
        "\n",
        "print(\"Tipo de t3 =\", type(t3))\n",
        "print(\"Tipo de t6 =\", type(t6))"
      ]
    },
    {
      "cell_type": "markdown",
      "metadata": {
        "id": "09J2YlvF0lKW"
      },
      "source": [
        "### Dias y segundos\n",
        "Para calcular el número de días o número de segundos transcurridos entre dos fechas, usamos el método `.days` o `.total_seconds`"
      ]
    },
    {
      "cell_type": "code",
      "execution_count": 20,
      "metadata": {
        "id": "0VgTT-f2L40K",
        "colab": {
          "base_uri": "https://localhost:8080/"
        },
        "outputId": "270cdc7b-0460-4bd4-84ee-0cb4beb6a789"
      },
      "outputs": [
        {
          "output_type": "stream",
          "name": "stdout",
          "text": [
            "Días en t: 5\n",
            "Segundos en t = 435633.233423\n"
          ]
        }
      ],
      "source": [
        "# --\n",
        "# Si queremos saber el número de días en una variable timedelta\n",
        "# --\n",
        "t = timedelta(days = 5, hours = 1, seconds = 33, microseconds = 233423)\n",
        "print('Días en t:', t.days)\n",
        "\n",
        "# --\n",
        "# Si queremos saber el número de segundos en una variable timedelta\n",
        "# --\n",
        "t = timedelta(days = 5, hours = 1, seconds = 33, microseconds = 233423)\n",
        "print(\"Segundos en t =\", t.total_seconds())"
      ]
    },
    {
      "cell_type": "markdown",
      "metadata": {
        "id": "jr0wPybC2C99"
      },
      "source": [
        "# **Formatos asociados**\n",
        "La manera en la que la fecha y la hora es representada puede ser diferente dependiendo del lugar donde tomamos el dato. \\\n",
        "Para ello, usaremos los métodos `.strftime()` y `.strptime` para poder tratar este problema."
      ]
    },
    {
      "cell_type": "markdown",
      "metadata": {
        "id": "oKLupN5_32cI"
      },
      "source": [
        "## **Cambiar el formato de un datetime**\n",
        "Una vez que ya tenemos un objeto datetime, para mostrarlo por pantalla en diferentes formatos utilizaremos el comando `.strftime`.\n",
        "\n",
        "El input puede ser cualquiera de la lista que aparece en la documentación de este [link](https://www.programiz.com/python-programming/datetime/strftime)\n"
      ]
    },
    {
      "cell_type": "code",
      "execution_count": 21,
      "metadata": {
        "id": "bvPxVTu1MG2e",
        "colab": {
          "base_uri": "https://localhost:8080/"
        },
        "outputId": "3ab637d9-0d68-4d0c-c135-0b1ffac69848"
      },
      "outputs": [
        {
          "output_type": "stream",
          "name": "stdout",
          "text": [
            "Hora actual: 17:43:51\n",
            "Fecha_1: 29/02/2024\n",
            "Fecha_2: 02-29-2024\n"
          ]
        }
      ],
      "source": [
        "# --\n",
        "# Veamos diferentes formas de expresar la fecha y hora actual\n",
        "# --\n",
        "ahora = datetime.now()\n",
        "\n",
        "# --\n",
        "# Únicamente la hora\n",
        "# --\n",
        "t = ahora.strftime(\"%H:%M:%S\")\n",
        "print(\"Hora actual:\", t)\n",
        "\n",
        "# --\n",
        "# Fecha en formato dd/mm/YY\n",
        "# --\n",
        "s1 = ahora.strftime(\"%d/%m/%Y\")\n",
        "print(\"Fecha_1:\", s1)\n",
        "\n",
        "# --\n",
        "# Fecha en formato mm-dd-YY\n",
        "# --\n",
        "s1 = ahora.strftime(\"%m-%d-%Y\")\n",
        "print(\"Fecha_2:\", s1)"
      ]
    },
    {
      "cell_type": "markdown",
      "metadata": {
        "id": "rjwMcplh4twq"
      },
      "source": [
        "## **Pasar de string a datetime**\n",
        "Desde casi cualquier formato conocido, se puede pasar a formato datetime con el comando `.strptime`."
      ]
    },
    {
      "cell_type": "code",
      "execution_count": 22,
      "metadata": {
        "id": "jq4zh7BFM4x9",
        "colab": {
          "base_uri": "https://localhost:8080/"
        },
        "outputId": "199e49be-13dc-4463-b91d-0444463e408f"
      },
      "outputs": [
        {
          "output_type": "stream",
          "name": "stdout",
          "text": [
            "Fecha en string = 21 jun, 2018\n",
            "Objeto datetime = 2018-06-21 00:00:00\n"
          ]
        }
      ],
      "source": [
        "# --\n",
        "# Veamos un ejemplo complicado\n",
        "# --\n",
        "fecha_string = \"21 jun, 2018\" #<-- meses en inglés\n",
        "print(\"Fecha en string =\", fecha_string)\n",
        "\n",
        "fecha_datetime = datetime.strptime(fecha_string, \"%d %b, %Y\")\n",
        "print(\"Objeto datetime =\", fecha_datetime)"
      ]
    },
    {
      "cell_type": "markdown",
      "metadata": {
        "id": "ARr0mhsu6dSF"
      },
      "source": [
        "## **Zonas horarias**\n",
        "También podemos trabajar con diferentes zonas horarias. Para ello, usaremos el paquete `pytz` que tiene incorporado los siguientes usos horarios:"
      ]
    },
    {
      "cell_type": "code",
      "execution_count": 23,
      "metadata": {
        "id": "j4-7S1C87MDO",
        "scrolled": true,
        "colab": {
          "base_uri": "https://localhost:8080/"
        },
        "outputId": "7b29271d-03f2-47fb-c33f-21f8ab7b95c1"
      },
      "outputs": [
        {
          "output_type": "execute_result",
          "data": {
            "text/plain": [
              "['Africa/Abidjan', 'Africa/Accra', 'Africa/Addis_Ababa', 'Africa/Algiers', 'Africa/Asmara', 'Africa/Asmera', 'Africa/Bamako', 'Africa/Bangui', 'Africa/Banjul', 'Africa/Bissau', 'Africa/Blantyre', 'Africa/Brazzaville', 'Africa/Bujumbura', 'Africa/Cairo', 'Africa/Casablanca', 'Africa/Ceuta', 'Africa/Conakry', 'Africa/Dakar', 'Africa/Dar_es_Salaam', 'Africa/Djibouti', 'Africa/Douala', 'Africa/El_Aaiun', 'Africa/Freetown', 'Africa/Gaborone', 'Africa/Harare', 'Africa/Johannesburg', 'Africa/Juba', 'Africa/Kampala', 'Africa/Khartoum', 'Africa/Kigali', 'Africa/Kinshasa', 'Africa/Lagos', 'Africa/Libreville', 'Africa/Lome', 'Africa/Luanda', 'Africa/Lubumbashi', 'Africa/Lusaka', 'Africa/Malabo', 'Africa/Maputo', 'Africa/Maseru', 'Africa/Mbabane', 'Africa/Mogadishu', 'Africa/Monrovia', 'Africa/Nairobi', 'Africa/Ndjamena', 'Africa/Niamey', 'Africa/Nouakchott', 'Africa/Ouagadougou', 'Africa/Porto-Novo', 'Africa/Sao_Tome', 'Africa/Timbuktu', 'Africa/Tripoli', 'Africa/Tunis', 'Africa/Windhoek', 'America/Adak', 'America/Anchorage', 'America/Anguilla', 'America/Antigua', 'America/Araguaina', 'America/Argentina/Buenos_Aires', 'America/Argentina/Catamarca', 'America/Argentina/ComodRivadavia', 'America/Argentina/Cordoba', 'America/Argentina/Jujuy', 'America/Argentina/La_Rioja', 'America/Argentina/Mendoza', 'America/Argentina/Rio_Gallegos', 'America/Argentina/Salta', 'America/Argentina/San_Juan', 'America/Argentina/San_Luis', 'America/Argentina/Tucuman', 'America/Argentina/Ushuaia', 'America/Aruba', 'America/Asuncion', 'America/Atikokan', 'America/Atka', 'America/Bahia', 'America/Bahia_Banderas', 'America/Barbados', 'America/Belem', 'America/Belize', 'America/Blanc-Sablon', 'America/Boa_Vista', 'America/Bogota', 'America/Boise', 'America/Buenos_Aires', 'America/Cambridge_Bay', 'America/Campo_Grande', 'America/Cancun', 'America/Caracas', 'America/Catamarca', 'America/Cayenne', 'America/Cayman', 'America/Chicago', 'America/Chihuahua', 'America/Ciudad_Juarez', 'America/Coral_Harbour', 'America/Cordoba', 'America/Costa_Rica', 'America/Creston', 'America/Cuiaba', 'America/Curacao', 'America/Danmarkshavn', 'America/Dawson', 'America/Dawson_Creek', 'America/Denver', 'America/Detroit', 'America/Dominica', 'America/Edmonton', 'America/Eirunepe', 'America/El_Salvador', 'America/Ensenada', 'America/Fort_Nelson', 'America/Fort_Wayne', 'America/Fortaleza', 'America/Glace_Bay', 'America/Godthab', 'America/Goose_Bay', 'America/Grand_Turk', 'America/Grenada', 'America/Guadeloupe', 'America/Guatemala', 'America/Guayaquil', 'America/Guyana', 'America/Halifax', 'America/Havana', 'America/Hermosillo', 'America/Indiana/Indianapolis', 'America/Indiana/Knox', 'America/Indiana/Marengo', 'America/Indiana/Petersburg', 'America/Indiana/Tell_City', 'America/Indiana/Vevay', 'America/Indiana/Vincennes', 'America/Indiana/Winamac', 'America/Indianapolis', 'America/Inuvik', 'America/Iqaluit', 'America/Jamaica', 'America/Jujuy', 'America/Juneau', 'America/Kentucky/Louisville', 'America/Kentucky/Monticello', 'America/Knox_IN', 'America/Kralendijk', 'America/La_Paz', 'America/Lima', 'America/Los_Angeles', 'America/Louisville', 'America/Lower_Princes', 'America/Maceio', 'America/Managua', 'America/Manaus', 'America/Marigot', 'America/Martinique', 'America/Matamoros', 'America/Mazatlan', 'America/Mendoza', 'America/Menominee', 'America/Merida', 'America/Metlakatla', 'America/Mexico_City', 'America/Miquelon', 'America/Moncton', 'America/Monterrey', 'America/Montevideo', 'America/Montreal', 'America/Montserrat', 'America/Nassau', 'America/New_York', 'America/Nipigon', 'America/Nome', 'America/Noronha', 'America/North_Dakota/Beulah', 'America/North_Dakota/Center', 'America/North_Dakota/New_Salem', 'America/Nuuk', 'America/Ojinaga', 'America/Panama', 'America/Pangnirtung', 'America/Paramaribo', 'America/Phoenix', 'America/Port-au-Prince', 'America/Port_of_Spain', 'America/Porto_Acre', 'America/Porto_Velho', 'America/Puerto_Rico', 'America/Punta_Arenas', 'America/Rainy_River', 'America/Rankin_Inlet', 'America/Recife', 'America/Regina', 'America/Resolute', 'America/Rio_Branco', 'America/Rosario', 'America/Santa_Isabel', 'America/Santarem', 'America/Santiago', 'America/Santo_Domingo', 'America/Sao_Paulo', 'America/Scoresbysund', 'America/Shiprock', 'America/Sitka', 'America/St_Barthelemy', 'America/St_Johns', 'America/St_Kitts', 'America/St_Lucia', 'America/St_Thomas', 'America/St_Vincent', 'America/Swift_Current', 'America/Tegucigalpa', 'America/Thule', 'America/Thunder_Bay', 'America/Tijuana', 'America/Toronto', 'America/Tortola', 'America/Vancouver', 'America/Virgin', 'America/Whitehorse', 'America/Winnipeg', 'America/Yakutat', 'America/Yellowknife', 'Antarctica/Casey', 'Antarctica/Davis', 'Antarctica/DumontDUrville', 'Antarctica/Macquarie', 'Antarctica/Mawson', 'Antarctica/McMurdo', 'Antarctica/Palmer', 'Antarctica/Rothera', 'Antarctica/South_Pole', 'Antarctica/Syowa', 'Antarctica/Troll', 'Antarctica/Vostok', 'Arctic/Longyearbyen', 'Asia/Aden', 'Asia/Almaty', 'Asia/Amman', 'Asia/Anadyr', 'Asia/Aqtau', 'Asia/Aqtobe', 'Asia/Ashgabat', 'Asia/Ashkhabad', 'Asia/Atyrau', 'Asia/Baghdad', 'Asia/Bahrain', 'Asia/Baku', 'Asia/Bangkok', 'Asia/Barnaul', 'Asia/Beirut', 'Asia/Bishkek', 'Asia/Brunei', 'Asia/Calcutta', 'Asia/Chita', 'Asia/Choibalsan', 'Asia/Chongqing', 'Asia/Chungking', 'Asia/Colombo', 'Asia/Dacca', 'Asia/Damascus', 'Asia/Dhaka', 'Asia/Dili', 'Asia/Dubai', 'Asia/Dushanbe', 'Asia/Famagusta', 'Asia/Gaza', 'Asia/Harbin', 'Asia/Hebron', 'Asia/Ho_Chi_Minh', 'Asia/Hong_Kong', 'Asia/Hovd', 'Asia/Irkutsk', 'Asia/Istanbul', 'Asia/Jakarta', 'Asia/Jayapura', 'Asia/Jerusalem', 'Asia/Kabul', 'Asia/Kamchatka', 'Asia/Karachi', 'Asia/Kashgar', 'Asia/Kathmandu', 'Asia/Katmandu', 'Asia/Khandyga', 'Asia/Kolkata', 'Asia/Krasnoyarsk', 'Asia/Kuala_Lumpur', 'Asia/Kuching', 'Asia/Kuwait', 'Asia/Macao', 'Asia/Macau', 'Asia/Magadan', 'Asia/Makassar', 'Asia/Manila', 'Asia/Muscat', 'Asia/Nicosia', 'Asia/Novokuznetsk', 'Asia/Novosibirsk', 'Asia/Omsk', 'Asia/Oral', 'Asia/Phnom_Penh', 'Asia/Pontianak', 'Asia/Pyongyang', 'Asia/Qatar', 'Asia/Qostanay', 'Asia/Qyzylorda', 'Asia/Rangoon', 'Asia/Riyadh', 'Asia/Saigon', 'Asia/Sakhalin', 'Asia/Samarkand', 'Asia/Seoul', 'Asia/Shanghai', 'Asia/Singapore', 'Asia/Srednekolymsk', 'Asia/Taipei', 'Asia/Tashkent', 'Asia/Tbilisi', 'Asia/Tehran', 'Asia/Tel_Aviv', 'Asia/Thimbu', 'Asia/Thimphu', 'Asia/Tokyo', 'Asia/Tomsk', 'Asia/Ujung_Pandang', 'Asia/Ulaanbaatar', 'Asia/Ulan_Bator', 'Asia/Urumqi', 'Asia/Ust-Nera', 'Asia/Vientiane', 'Asia/Vladivostok', 'Asia/Yakutsk', 'Asia/Yangon', 'Asia/Yekaterinburg', 'Asia/Yerevan', 'Atlantic/Azores', 'Atlantic/Bermuda', 'Atlantic/Canary', 'Atlantic/Cape_Verde', 'Atlantic/Faeroe', 'Atlantic/Faroe', 'Atlantic/Jan_Mayen', 'Atlantic/Madeira', 'Atlantic/Reykjavik', 'Atlantic/South_Georgia', 'Atlantic/St_Helena', 'Atlantic/Stanley', 'Australia/ACT', 'Australia/Adelaide', 'Australia/Brisbane', 'Australia/Broken_Hill', 'Australia/Canberra', 'Australia/Currie', 'Australia/Darwin', 'Australia/Eucla', 'Australia/Hobart', 'Australia/LHI', 'Australia/Lindeman', 'Australia/Lord_Howe', 'Australia/Melbourne', 'Australia/NSW', 'Australia/North', 'Australia/Perth', 'Australia/Queensland', 'Australia/South', 'Australia/Sydney', 'Australia/Tasmania', 'Australia/Victoria', 'Australia/West', 'Australia/Yancowinna', 'Brazil/Acre', 'Brazil/DeNoronha', 'Brazil/East', 'Brazil/West', 'CET', 'CST6CDT', 'Canada/Atlantic', 'Canada/Central', 'Canada/Eastern', 'Canada/Mountain', 'Canada/Newfoundland', 'Canada/Pacific', 'Canada/Saskatchewan', 'Canada/Yukon', 'Chile/Continental', 'Chile/EasterIsland', 'Cuba', 'EET', 'EST', 'EST5EDT', 'Egypt', 'Eire', 'Etc/GMT', 'Etc/GMT+0', 'Etc/GMT+1', 'Etc/GMT+10', 'Etc/GMT+11', 'Etc/GMT+12', 'Etc/GMT+2', 'Etc/GMT+3', 'Etc/GMT+4', 'Etc/GMT+5', 'Etc/GMT+6', 'Etc/GMT+7', 'Etc/GMT+8', 'Etc/GMT+9', 'Etc/GMT-0', 'Etc/GMT-1', 'Etc/GMT-10', 'Etc/GMT-11', 'Etc/GMT-12', 'Etc/GMT-13', 'Etc/GMT-14', 'Etc/GMT-2', 'Etc/GMT-3', 'Etc/GMT-4', 'Etc/GMT-5', 'Etc/GMT-6', 'Etc/GMT-7', 'Etc/GMT-8', 'Etc/GMT-9', 'Etc/GMT0', 'Etc/Greenwich', 'Etc/UCT', 'Etc/UTC', 'Etc/Universal', 'Etc/Zulu', 'Europe/Amsterdam', 'Europe/Andorra', 'Europe/Astrakhan', 'Europe/Athens', 'Europe/Belfast', 'Europe/Belgrade', 'Europe/Berlin', 'Europe/Bratislava', 'Europe/Brussels', 'Europe/Bucharest', 'Europe/Budapest', 'Europe/Busingen', 'Europe/Chisinau', 'Europe/Copenhagen', 'Europe/Dublin', 'Europe/Gibraltar', 'Europe/Guernsey', 'Europe/Helsinki', 'Europe/Isle_of_Man', 'Europe/Istanbul', 'Europe/Jersey', 'Europe/Kaliningrad', 'Europe/Kiev', 'Europe/Kirov', 'Europe/Kyiv', 'Europe/Lisbon', 'Europe/Ljubljana', 'Europe/London', 'Europe/Luxembourg', 'Europe/Madrid', 'Europe/Malta', 'Europe/Mariehamn', 'Europe/Minsk', 'Europe/Monaco', 'Europe/Moscow', 'Europe/Nicosia', 'Europe/Oslo', 'Europe/Paris', 'Europe/Podgorica', 'Europe/Prague', 'Europe/Riga', 'Europe/Rome', 'Europe/Samara', 'Europe/San_Marino', 'Europe/Sarajevo', 'Europe/Saratov', 'Europe/Simferopol', 'Europe/Skopje', 'Europe/Sofia', 'Europe/Stockholm', 'Europe/Tallinn', 'Europe/Tirane', 'Europe/Tiraspol', 'Europe/Ulyanovsk', 'Europe/Uzhgorod', 'Europe/Vaduz', 'Europe/Vatican', 'Europe/Vienna', 'Europe/Vilnius', 'Europe/Volgograd', 'Europe/Warsaw', 'Europe/Zagreb', 'Europe/Zaporozhye', 'Europe/Zurich', 'GB', 'GB-Eire', 'GMT', 'GMT+0', 'GMT-0', 'GMT0', 'Greenwich', 'HST', 'Hongkong', 'Iceland', 'Indian/Antananarivo', 'Indian/Chagos', 'Indian/Christmas', 'Indian/Cocos', 'Indian/Comoro', 'Indian/Kerguelen', 'Indian/Mahe', 'Indian/Maldives', 'Indian/Mauritius', 'Indian/Mayotte', 'Indian/Reunion', 'Iran', 'Israel', 'Jamaica', 'Japan', 'Kwajalein', 'Libya', 'MET', 'MST', 'MST7MDT', 'Mexico/BajaNorte', 'Mexico/BajaSur', 'Mexico/General', 'NZ', 'NZ-CHAT', 'Navajo', 'PRC', 'PST8PDT', 'Pacific/Apia', 'Pacific/Auckland', 'Pacific/Bougainville', 'Pacific/Chatham', 'Pacific/Chuuk', 'Pacific/Easter', 'Pacific/Efate', 'Pacific/Enderbury', 'Pacific/Fakaofo', 'Pacific/Fiji', 'Pacific/Funafuti', 'Pacific/Galapagos', 'Pacific/Gambier', 'Pacific/Guadalcanal', 'Pacific/Guam', 'Pacific/Honolulu', 'Pacific/Johnston', 'Pacific/Kanton', 'Pacific/Kiritimati', 'Pacific/Kosrae', 'Pacific/Kwajalein', 'Pacific/Majuro', 'Pacific/Marquesas', 'Pacific/Midway', 'Pacific/Nauru', 'Pacific/Niue', 'Pacific/Norfolk', 'Pacific/Noumea', 'Pacific/Pago_Pago', 'Pacific/Palau', 'Pacific/Pitcairn', 'Pacific/Pohnpei', 'Pacific/Ponape', 'Pacific/Port_Moresby', 'Pacific/Rarotonga', 'Pacific/Saipan', 'Pacific/Samoa', 'Pacific/Tahiti', 'Pacific/Tarawa', 'Pacific/Tongatapu', 'Pacific/Truk', 'Pacific/Wake', 'Pacific/Wallis', 'Pacific/Yap', 'Poland', 'Portugal', 'ROC', 'ROK', 'Singapore', 'Turkey', 'UCT', 'US/Alaska', 'US/Aleutian', 'US/Arizona', 'US/Central', 'US/East-Indiana', 'US/Eastern', 'US/Hawaii', 'US/Indiana-Starke', 'US/Michigan', 'US/Mountain', 'US/Pacific', 'US/Samoa', 'UTC', 'Universal', 'W-SU', 'WET', 'Zulu']"
            ]
          },
          "metadata": {},
          "execution_count": 23
        }
      ],
      "source": [
        "import pytz\n",
        "pytz.all_timezones"
      ]
    },
    {
      "cell_type": "code",
      "execution_count": 24,
      "metadata": {
        "id": "HxwEV2OEM-KM",
        "colab": {
          "base_uri": "https://localhost:8080/"
        },
        "outputId": "5001b1ec-0895-47c4-fb40-86675a7b421e"
      },
      "outputs": [
        {
          "output_type": "stream",
          "name": "stdout",
          "text": [
            "Local: 29/02/2024, 17:43:51\n",
            "NY: 29/02/2024, 12:43:51\n",
            "Madrid: 29/02/2024, 18:43:51\n"
          ]
        }
      ],
      "source": [
        "# --\n",
        "# Ejemplos de cómo usarlo\n",
        "# --\n",
        "\n",
        "# --\n",
        "# Fecha actual local\n",
        "# --\n",
        "local = datetime.now()\n",
        "print(\"Local:\", local.strftime(\"%d/%m/%Y, %H:%M:%S\"))\n",
        "\n",
        "# --\n",
        "# Fecha actual para America/New_York\n",
        "# --\n",
        "tz_NY = pytz.timezone('America/New_York')\n",
        "datetime_NY = datetime.now(tz_NY)\n",
        "print(\"NY:\", datetime_NY.strftime(\"%d/%m/%Y, %H:%M:%S\"))\n",
        "\n",
        "# --\n",
        "# Fecha actual para Europe/London\n",
        "# --\n",
        "tz_Madrid = pytz.timezone('Europe/Madrid')\n",
        "datetime_Madrid = datetime.now(tz_Madrid)\n",
        "print(\"Madrid:\", datetime_Madrid.strftime(\"%d/%m/%Y, %H:%M:%S\"))"
      ]
    }
  ],
  "metadata": {
    "colab": {
      "provenance": []
    },
    "kernelspec": {
      "display_name": "Python 3",
      "language": "python",
      "name": "python3"
    },
    "language_info": {
      "codemirror_mode": {
        "name": "ipython",
        "version": 3
      },
      "file_extension": ".py",
      "mimetype": "text/x-python",
      "name": "python",
      "nbconvert_exporter": "python",
      "pygments_lexer": "ipython3",
      "version": "3.8.8"
    }
  },
  "nbformat": 4,
  "nbformat_minor": 0
}