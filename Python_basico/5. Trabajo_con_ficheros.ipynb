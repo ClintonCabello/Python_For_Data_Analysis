{
  "cells": [
    {
      "cell_type": "markdown",
      "metadata": {
        "id": "7jxnZAYp9CWW"
      },
      "source": [
        "# Introducción a Python - Trabajo con ficheros"
      ]
    },
    {
      "cell_type": "markdown",
      "metadata": {
        "id": "j9x3_XUn9CWX"
      },
      "source": [
        "De forma muy testimonial, vamos a revisar algunos conceptos de trabajo con **ficheros de texto plano**."
      ]
    },
    {
      "cell_type": "markdown",
      "metadata": {
        "id": "1Q1z_pKo9CWX"
      },
      "source": [
        "### Escritura de ficheros de texto plano"
      ]
    },
    {
      "cell_type": "markdown",
      "metadata": {
        "id": "_jvukRje9CWX"
      },
      "source": [
        "A la hora de escribir ficheros, como en otros lenguajes de programación, los puntos clave son: el modo de apertura (\"w\" para sobreescritura y \"a\" para continuación) y el cierre del fichero una vez se ha finalizado el trabajo con el mismo."
      ]
    },
    {
      "cell_type": "code",
      "execution_count": 1,
      "metadata": {
        "id": "A4MrPlOu9CWX"
      },
      "outputs": [],
      "source": [
        "fichero = open(\"prueba.txt\", \"w\")\n",
        "fichero.write(\"Esto\\n\")\n",
        "fichero.write(\"es\\n\")\n",
        "fichero.write(\"una\\n\")\n",
        "fichero.write(\"prueba\\n\")\n",
        "fichero.close()"
      ]
    },
    {
      "cell_type": "code",
      "execution_count": 2,
      "metadata": {
        "id": "12AuY0Lc9CWY"
      },
      "outputs": [],
      "source": [
        "fichero = open(\"prueba.txt\", \"w\")\n",
        "fichero.write(\"Esto\\n\")\n",
        "fichero.write(\"es\\n\")\n",
        "fichero.write(\"otra\\n\")\n",
        "fichero.write(\"prueba\\n\")\n",
        "fichero.close()"
      ]
    },
    {
      "cell_type": "code",
      "execution_count": 3,
      "metadata": {
        "id": "Xaowzjly9CWY"
      },
      "outputs": [],
      "source": [
        "fichero = open(\"prueba.txt\", \"a\")\n",
        "fichero.write(\"más\\n\")\n",
        "fichero.close()"
      ]
    },
    {
      "cell_type": "markdown",
      "metadata": {
        "id": "gO0OSFY_9CWY"
      },
      "source": [
        "### Lectura de ficheros de texto plano"
      ]
    },
    {
      "cell_type": "markdown",
      "metadata": {
        "id": "iSLUuU_j9CWY"
      },
      "source": [
        "De nuevo, a la hora de leer ficheros, los puntos clave serán de nuevo: el modo de apertura (\"r\" para lectura y \"r+\" para lectura y escritura) y el cierre del fichero una vez se ha finalizado el trabajo con el mismo."
      ]
    },
    {
      "cell_type": "code",
      "execution_count": 4,
      "metadata": {
        "colab": {
          "base_uri": "https://localhost:8080/"
        },
        "id": "vqEGgz3w9CWY",
        "outputId": "240780f8-43b6-4a2e-c8a9-9d4c4582e3a3"
      },
      "outputs": [
        {
          "output_type": "stream",
          "name": "stdout",
          "text": [
            "Esto\n",
            "es\n",
            "otra\n",
            "prueba\n",
            "más\n",
            "\n"
          ]
        }
      ],
      "source": [
        "fichero = open(\"prueba.txt\", \"r\")\n",
        "contenido = fichero.read()\n",
        "print(contenido)\n",
        "fichero.close()"
      ]
    },
    {
      "cell_type": "code",
      "execution_count": 5,
      "metadata": {
        "colab": {
          "base_uri": "https://localhost:8080/"
        },
        "id": "oXAfmm7W9CWY",
        "outputId": "314099ca-698a-4f47-9e4b-673c2a9a8086"
      },
      "outputs": [
        {
          "output_type": "stream",
          "name": "stdout",
          "text": [
            "Esto\n",
            "\n",
            "es\n",
            "\n",
            "otra\n",
            "\n",
            "prueba\n",
            "\n",
            "más\n",
            "\n"
          ]
        }
      ],
      "source": [
        "fichero = open(\"prueba.txt\", \"r\")\n",
        "for linea in fichero:\n",
        "    print(linea)\n",
        "fichero.close()"
      ]
    }
  ],
  "metadata": {
    "kernelspec": {
      "display_name": "Python 3",
      "language": "python",
      "name": "python3"
    },
    "language_info": {
      "codemirror_mode": {
        "name": "ipython",
        "version": 3
      },
      "file_extension": ".py",
      "mimetype": "text/x-python",
      "name": "python",
      "nbconvert_exporter": "python",
      "pygments_lexer": "ipython3",
      "version": "3.8.8"
    },
    "colab": {
      "provenance": []
    }
  },
  "nbformat": 4,
  "nbformat_minor": 0
}