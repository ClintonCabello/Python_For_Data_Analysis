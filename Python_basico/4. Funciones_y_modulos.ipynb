{
  "cells": [
    {
      "cell_type": "markdown",
      "metadata": {
        "id": "_kNKVrjq9BIT"
      },
      "source": [
        "# Introducción a Python - Funciones y módulos"
      ]
    },
    {
      "cell_type": "markdown",
      "metadata": {
        "id": "EBoijtsy9BIV"
      },
      "source": [
        "Con todo lo visto en los anteriores notebooks deberíamos ser capaces de crear cualquier programa. En este apartado vamos a ver cómo se puede (y debe) estrucurar el código de los programas Python de forma que se asegure su reusabilidad y se minimice los posibles puntos de error de los mismos."
      ]
    },
    {
      "cell_type": "markdown",
      "metadata": {
        "id": "PW67RuZ29BIV"
      },
      "source": [
        "### Funciones"
      ]
    },
    {
      "cell_type": "markdown",
      "metadata": {
        "id": "dR4Uwxn99BIV"
      },
      "source": [
        "<ul>\n",
        "<li>Puede entenderse como un nombre asignado a un bloque de código que permite su posterior invocación.</li>\n",
        "<li>Dispone de un conjunto de parámetros de entrada (opcionales) sobre los que trabajará el bloque de código interno.</li>\n",
        "<li>Ofrecen un resultado de salida (opcional) que podrá ser utilizado por el código que invocó a la función.</li>\n",
        "<li>Permiten encapsular código de forma que pueda ser reutilizado en varios puntos de un programa.</li>\n",
        "<li>Evitan la necesidad de copiar y pegar código.</li>\n",
        "<li>Facilita el mantenimiento y reduce los posibles puntos de error.</li>\n",
        "<li>Permiten \"generalizar\" código al trabajar sobre unos parámetros de entrada que pueden ser \"variables\".</li>\n",
        "</ul>"
      ]
    },
    {
      "cell_type": "code",
      "execution_count": 1,
      "metadata": {
        "id": "AtI4eN9p9BIV",
        "outputId": "30e6051f-bd79-44ab-b302-88d9f447e29a",
        "colab": {
          "base_uri": "https://localhost:8080/"
        }
      },
      "outputs": [
        {
          "output_type": "stream",
          "name": "stdout",
          "text": [
            "['CUATRO', 'CINCO']\n"
          ]
        }
      ],
      "source": [
        "list_1 = [\"uno\", \"dos\", \"tres\", \"cuatro\", \"cinco\", \"treinta\"]\n",
        "list_C = []\n",
        "for element in list_1:\n",
        "    if element[0] == \"c\":\n",
        "        list_C.append(element.upper())\n",
        "print (list_C)"
      ]
    },
    {
      "cell_type": "markdown",
      "metadata": {
        "id": "KbiBIGAD9BIW"
      },
      "source": [
        "¿Qué pasa si quisiésemos usar una lista distina? ¿Qué pasa si queremos seleccionar sólo los elementos que empiezan por \"t\"? ¿Qué pasa si queremos devolver los elementos en minúscula? Tendríamos que replicar varias veces el mismo código. Aquí es donde las funciones muestran su potencial."
      ]
    },
    {
      "cell_type": "code",
      "execution_count": 2,
      "metadata": {
        "id": "Yng12xSF9BIW"
      },
      "outputs": [],
      "source": [
        "def mi_funcion(lista, inicial, a_mayuscula):\n",
        "    list_out = []\n",
        "    for element in lista:\n",
        "        if element[0] == inicial:\n",
        "            if a_mayuscula:\n",
        "                list_out.append(element.upper())\n",
        "            else:\n",
        "                list_out.append(element.lower())\n",
        "    return list_out"
      ]
    },
    {
      "cell_type": "code",
      "execution_count": 3,
      "metadata": {
        "id": "jLeI8F7d9BIW",
        "outputId": "637ee966-1ec2-414d-b1e5-8b997a93520c",
        "colab": {
          "base_uri": "https://localhost:8080/"
        }
      },
      "outputs": [
        {
          "output_type": "stream",
          "name": "stdout",
          "text": [
            "['CUATRO', 'CINCO']\n",
            "['uno']\n",
            "['TRES', 'TREINTA']\n"
          ]
        }
      ],
      "source": [
        "list_1 = [\"uno\", \"dos\", \"tres\", \"cuatro\", \"cinco\", \"treinta\"]\n",
        "print (mi_funcion(list_1, \"c\", True))\n",
        "print (mi_funcion(list_1, \"u\", False))\n",
        "print (mi_funcion(list_1, \"t\", True))"
      ]
    },
    {
      "cell_type": "markdown",
      "metadata": {
        "id": "z18CO3Ff9BIW"
      },
      "source": [
        "#### Variables internas y globales"
      ]
    },
    {
      "cell_type": "markdown",
      "metadata": {
        "id": "OTxzjf319BIW"
      },
      "source": [
        "Hay que señalizar que las variables que se van usando a lo largo de la función sólo existen dentro de la función, de manera que si queremos tener acceso a alguna de estas variables internas, en principio no se podría"
      ]
    },
    {
      "cell_type": "code",
      "execution_count": 4,
      "metadata": {
        "scrolled": true,
        "id": "EswOTd769BIW",
        "outputId": "3b84c2d3-a0f1-44d5-872b-448203f86259",
        "colab": {
          "base_uri": "https://localhost:8080/"
        }
      },
      "outputs": [
        {
          "output_type": "stream",
          "name": "stdout",
          "text": [
            "treinta\n"
          ]
        }
      ],
      "source": [
        "print(element)"
      ]
    },
    {
      "cell_type": "markdown",
      "metadata": {
        "id": "QpGX0eoG9BIW"
      },
      "source": [
        "Para poder extraer alguna variable, hay que retocar el código y declarar aquellas variables que sean **globales**. Una vez hagamos esto y ejecutemos la función (al menos) 1 vez, ya tendremos disponible esta variable"
      ]
    },
    {
      "cell_type": "code",
      "execution_count": 5,
      "metadata": {
        "id": "smyutt4G9BIX"
      },
      "outputs": [],
      "source": [
        "def mi_funcion(lista, inicial, a_mayuscula=True):\n",
        "    global list_out\n",
        "    list_out = []\n",
        "    for element in lista:\n",
        "        if element[0] == inicial:\n",
        "            if a_mayuscula:\n",
        "                list_out.append(element.upper())\n",
        "            else:\n",
        "                list_out.append(element.lower())\n",
        "    return list_out"
      ]
    },
    {
      "cell_type": "code",
      "execution_count": 6,
      "metadata": {
        "id": "SxaIOjMR9BIX",
        "outputId": "ffe29eb0-e47a-4fad-e56c-99847b68c9d7",
        "colab": {
          "base_uri": "https://localhost:8080/"
        }
      },
      "outputs": [
        {
          "output_type": "execute_result",
          "data": {
            "text/plain": [
              "['CUATRO', 'CINCO']"
            ]
          },
          "metadata": {},
          "execution_count": 6
        }
      ],
      "source": [
        "mi_funcion(list_1,'c')"
      ]
    },
    {
      "cell_type": "code",
      "execution_count": 7,
      "metadata": {
        "id": "dnS4Xubq9BIX",
        "outputId": "f989c377-c055-47aa-f2a5-0eea06ac96d5",
        "colab": {
          "base_uri": "https://localhost:8080/"
        }
      },
      "outputs": [
        {
          "output_type": "stream",
          "name": "stdout",
          "text": [
            "treinta\n"
          ]
        }
      ],
      "source": [
        "print(element)"
      ]
    },
    {
      "cell_type": "markdown",
      "metadata": {
        "id": "3YtnjIFv9BIX"
      },
      "source": [
        "#### Argumentos opcionales"
      ]
    },
    {
      "cell_type": "markdown",
      "metadata": {
        "id": "oHRiSuWv9BIX"
      },
      "source": [
        "Podemos asignar valores por defecto a los parámetros de la función."
      ]
    },
    {
      "cell_type": "code",
      "execution_count": 8,
      "metadata": {
        "id": "XW2_Rijz9BIX",
        "outputId": "381b1966-edf1-4a90-b509-ae0085710b30",
        "colab": {
          "base_uri": "https://localhost:8080/"
        }
      },
      "outputs": [
        {
          "output_type": "stream",
          "name": "stdout",
          "text": [
            "['CUATRO', 'CINCO']\n",
            "['uno']\n",
            "['TRES', 'TREINTA']\n"
          ]
        }
      ],
      "source": [
        "def mi_funcion(lista, inicial, a_mayuscula=True):\n",
        "    list_out = []\n",
        "    for element in lista:\n",
        "        if element[0] == inicial:\n",
        "            if a_mayuscula:\n",
        "                list_out.append(element.upper())\n",
        "            else:\n",
        "                list_out.append(element.lower())\n",
        "    return list_out\n",
        "\n",
        "list_1 = [\"uno\", \"dos\", \"tres\", \"cuatro\", \"cinco\", \"treinta\"]\n",
        "print (mi_funcion(list_1, \"c\"))\n",
        "print (mi_funcion(list_1, \"u\", False))\n",
        "print (mi_funcion(list_1, \"t\", True))"
      ]
    },
    {
      "cell_type": "markdown",
      "metadata": {
        "id": "8o_N6oKH9BIX"
      },
      "source": [
        "#### Especificar el nombre de los argumentos en la llamada"
      ]
    },
    {
      "cell_type": "markdown",
      "metadata": {
        "id": "hVadnGMf9BIX"
      },
      "source": [
        "Se puede especificar el nombre de los argumentos de entrada en la llamada, eliminando la necesidad de mantener su orden (funcionamiento por defecto si no se especifica nombre)."
      ]
    },
    {
      "cell_type": "code",
      "execution_count": 9,
      "metadata": {
        "id": "lFnm6wFH9BIX",
        "outputId": "b08f264d-ec6e-497e-82bd-d59746ba3a2b",
        "colab": {
          "base_uri": "https://localhost:8080/"
        }
      },
      "outputs": [
        {
          "output_type": "stream",
          "name": "stdout",
          "text": [
            "['CUATRO', 'CINCO']\n",
            "['CUATRO', 'CINCO']\n"
          ]
        }
      ],
      "source": [
        "list_1 = [\"uno\", \"dos\", \"tres\", \"cuatro\", \"cinco\", \"treinta\"]\n",
        "print (mi_funcion(inicial=\"c\", lista=list_1))\n",
        "print (mi_funcion(a_mayuscula = True, inicial=\"c\", lista=list_1))"
      ]
    },
    {
      "cell_type": "markdown",
      "metadata": {
        "id": "Rv37vN719BIY"
      },
      "source": [
        "#### Retorno de múltiples elementos"
      ]
    },
    {
      "cell_type": "markdown",
      "metadata": {
        "id": "T_2Km2CK9BIY"
      },
      "source": [
        "Aunque, en general, el retorno de las funciones será único (un único valor que se podrá asignar a una variable en el código que invoca), sería posible devolver una secuencia y recoger los resultados en diferentes variables (por las propiedades vistas en la presentación de secuencias)."
      ]
    },
    {
      "cell_type": "code",
      "execution_count": 10,
      "metadata": {
        "id": "V9A-_LJ-9BIY"
      },
      "outputs": [],
      "source": [
        "def mi_funcion(lista, inicial, a_mayuscula=True):\n",
        "    list_out = []\n",
        "    for element in lista:\n",
        "        if element[0] == inicial:\n",
        "            if a_mayuscula:\n",
        "                list_out.append(element.upper())\n",
        "            else:\n",
        "                list_out.append(element.lower())\n",
        "    return (len(list_out), list_out)"
      ]
    },
    {
      "cell_type": "code",
      "execution_count": 11,
      "metadata": {
        "id": "s-3pjWy_9BIY"
      },
      "outputs": [],
      "source": [
        "long_lista, la_lista = mi_funcion(list_1,\"c\")"
      ]
    },
    {
      "cell_type": "code",
      "execution_count": 12,
      "metadata": {
        "scrolled": true,
        "id": "SGftvVsY9BIY",
        "outputId": "7749459d-6f7f-4308-911f-ab59f84e0c31",
        "colab": {
          "base_uri": "https://localhost:8080/"
        }
      },
      "outputs": [
        {
          "output_type": "stream",
          "name": "stdout",
          "text": [
            "2\n",
            "['CUATRO', 'CINCO']\n"
          ]
        }
      ],
      "source": [
        "print(long_lista)\n",
        "print(la_lista)"
      ]
    },
    {
      "cell_type": "markdown",
      "metadata": {
        "id": "IYVHX7JY9BIY"
      },
      "source": [
        "### Módulos / Paquetes"
      ]
    },
    {
      "cell_type": "markdown",
      "metadata": {
        "id": "AQhh9FCG9BIY"
      },
      "source": [
        "<ul>\n",
        "    <li>Por defecto, en un script de Python tienes acceso a todas las variables y funciones definidas en el propio fichero.</li>\n",
        "    <li>Es posible acceder a elementos definidos en otros ficheros mediante la importación de módulos.</li>\n",
        "    <li>Un fichero .py es un módulo en Python cuyo nombre es el mismo que el del fichero (sin extensión).</li>\n",
        "    <li>La forma de incorporar elementos definidos en un módulo es mediante el uso de la sentencia <i>import</i>.</li>\n",
        "</ul>"
      ]
    },
    {
      "cell_type": "markdown",
      "metadata": {
        "id": "qAnCCNCZ9BIY"
      },
      "source": [
        "#### Importar el módulo completo"
      ]
    },
    {
      "cell_type": "markdown",
      "metadata": {
        "id": "NmTACjgv9BIY"
      },
      "source": [
        "Se importa todo el contenido del módulo y es necesario utilizar el alias de módulo delante de las funciones."
      ]
    },
    {
      "cell_type": "code",
      "execution_count": 13,
      "metadata": {
        "id": "Gjdg4lfa9BIY",
        "outputId": "2f9363ae-dcb0-4789-b486-24bdc08519a5",
        "colab": {
          "base_uri": "https://localhost:8080/"
        }
      },
      "outputs": [
        {
          "output_type": "stream",
          "name": "stdout",
          "text": [
            "[[1 2]\n",
            " [3 4]]\n",
            "2.5\n"
          ]
        }
      ],
      "source": [
        "import numpy\n",
        "array = numpy.array([[1, 2], [3, 4]])\n",
        "mean = numpy.mean(array)\n",
        "print (array)\n",
        "print (mean)"
      ]
    },
    {
      "cell_type": "markdown",
      "metadata": {
        "id": "qSLZUZji9BIZ"
      },
      "source": [
        "#### Conocer los atributos del módulo. `dir`"
      ]
    },
    {
      "cell_type": "markdown",
      "metadata": {
        "id": "84Ne7aGj9BIZ"
      },
      "source": [
        "Podemos tener acceso a las clases y funciones del módulo con la función `dir`.\\\n",
        "**Ojo**: No podemos directamente acceder a los atributos de estas subclases, para ello, hay que hacerlo específicamente."
      ]
    },
    {
      "cell_type": "code",
      "execution_count": 14,
      "metadata": {
        "id": "1csMI7Tx9BIZ",
        "outputId": "08a5f6e3-ea4b-418e-df69-2ef1fb6beb70",
        "colab": {
          "base_uri": "https://localhost:8080/"
        }
      },
      "outputs": [
        {
          "output_type": "execute_result",
          "data": {
            "text/plain": [
              "['ALLOW_THREADS',\n",
              " 'BUFSIZE',\n",
              " 'CLIP',\n",
              " 'DataSource',\n",
              " 'ERR_CALL',\n",
              " 'ERR_DEFAULT',\n",
              " 'ERR_IGNORE',\n",
              " 'ERR_LOG',\n",
              " 'ERR_PRINT',\n",
              " 'ERR_RAISE',\n",
              " 'ERR_WARN',\n",
              " 'FLOATING_POINT_SUPPORT',\n",
              " 'FPE_DIVIDEBYZERO',\n",
              " 'FPE_INVALID',\n",
              " 'FPE_OVERFLOW',\n",
              " 'FPE_UNDERFLOW',\n",
              " 'False_',\n",
              " 'Inf',\n",
              " 'Infinity',\n",
              " 'MAXDIMS',\n",
              " 'MAY_SHARE_BOUNDS',\n",
              " 'MAY_SHARE_EXACT',\n",
              " 'NAN',\n",
              " 'NINF',\n",
              " 'NZERO',\n",
              " 'NaN',\n",
              " 'PINF',\n",
              " 'PZERO',\n",
              " 'RAISE',\n",
              " 'RankWarning',\n",
              " 'SHIFT_DIVIDEBYZERO',\n",
              " 'SHIFT_INVALID',\n",
              " 'SHIFT_OVERFLOW',\n",
              " 'SHIFT_UNDERFLOW',\n",
              " 'ScalarType',\n",
              " 'True_',\n",
              " 'UFUNC_BUFSIZE_DEFAULT',\n",
              " 'UFUNC_PYVALS_NAME',\n",
              " 'WRAP',\n",
              " '_CopyMode',\n",
              " '_NoValue',\n",
              " '_UFUNC_API',\n",
              " '__NUMPY_SETUP__',\n",
              " '__all__',\n",
              " '__builtins__',\n",
              " '__cached__',\n",
              " '__config__',\n",
              " '__deprecated_attrs__',\n",
              " '__dir__',\n",
              " '__doc__',\n",
              " '__expired_functions__',\n",
              " '__file__',\n",
              " '__former_attrs__',\n",
              " '__future_scalars__',\n",
              " '__getattr__',\n",
              " '__git_version__',\n",
              " '__loader__',\n",
              " '__name__',\n",
              " '__package__',\n",
              " '__path__',\n",
              " '__spec__',\n",
              " '__version__',\n",
              " '_add_newdoc_ufunc',\n",
              " '_builtins',\n",
              " '_distributor_init',\n",
              " '_financial_names',\n",
              " '_get_promotion_state',\n",
              " '_globals',\n",
              " '_int_extended_msg',\n",
              " '_mat',\n",
              " '_no_nep50_warning',\n",
              " '_pyinstaller_hooks_dir',\n",
              " '_pytesttester',\n",
              " '_set_promotion_state',\n",
              " '_specific_msg',\n",
              " '_typing',\n",
              " '_using_numpy2_behavior',\n",
              " '_utils',\n",
              " '_version',\n",
              " 'abs',\n",
              " 'absolute',\n",
              " 'add',\n",
              " 'add_docstring',\n",
              " 'add_newdoc',\n",
              " 'add_newdoc_ufunc',\n",
              " 'all',\n",
              " 'allclose',\n",
              " 'alltrue',\n",
              " 'amax',\n",
              " 'amin',\n",
              " 'angle',\n",
              " 'any',\n",
              " 'append',\n",
              " 'apply_along_axis',\n",
              " 'apply_over_axes',\n",
              " 'arange',\n",
              " 'arccos',\n",
              " 'arccosh',\n",
              " 'arcsin',\n",
              " 'arcsinh',\n",
              " 'arctan',\n",
              " 'arctan2',\n",
              " 'arctanh',\n",
              " 'argmax',\n",
              " 'argmin',\n",
              " 'argpartition',\n",
              " 'argsort',\n",
              " 'argwhere',\n",
              " 'around',\n",
              " 'array',\n",
              " 'array2string',\n",
              " 'array_equal',\n",
              " 'array_equiv',\n",
              " 'array_repr',\n",
              " 'array_split',\n",
              " 'array_str',\n",
              " 'asanyarray',\n",
              " 'asarray',\n",
              " 'asarray_chkfinite',\n",
              " 'ascontiguousarray',\n",
              " 'asfarray',\n",
              " 'asfortranarray',\n",
              " 'asmatrix',\n",
              " 'atleast_1d',\n",
              " 'atleast_2d',\n",
              " 'atleast_3d',\n",
              " 'average',\n",
              " 'bartlett',\n",
              " 'base_repr',\n",
              " 'binary_repr',\n",
              " 'bincount',\n",
              " 'bitwise_and',\n",
              " 'bitwise_not',\n",
              " 'bitwise_or',\n",
              " 'bitwise_xor',\n",
              " 'blackman',\n",
              " 'block',\n",
              " 'bmat',\n",
              " 'bool_',\n",
              " 'broadcast',\n",
              " 'broadcast_arrays',\n",
              " 'broadcast_shapes',\n",
              " 'broadcast_to',\n",
              " 'busday_count',\n",
              " 'busday_offset',\n",
              " 'busdaycalendar',\n",
              " 'byte',\n",
              " 'byte_bounds',\n",
              " 'bytes_',\n",
              " 'c_',\n",
              " 'can_cast',\n",
              " 'cast',\n",
              " 'cbrt',\n",
              " 'cdouble',\n",
              " 'ceil',\n",
              " 'cfloat',\n",
              " 'char',\n",
              " 'character',\n",
              " 'chararray',\n",
              " 'choose',\n",
              " 'clip',\n",
              " 'clongdouble',\n",
              " 'clongfloat',\n",
              " 'column_stack',\n",
              " 'common_type',\n",
              " 'compare_chararrays',\n",
              " 'compat',\n",
              " 'complex128',\n",
              " 'complex256',\n",
              " 'complex64',\n",
              " 'complex_',\n",
              " 'complexfloating',\n",
              " 'compress',\n",
              " 'concatenate',\n",
              " 'conj',\n",
              " 'conjugate',\n",
              " 'convolve',\n",
              " 'copy',\n",
              " 'copysign',\n",
              " 'copyto',\n",
              " 'corrcoef',\n",
              " 'correlate',\n",
              " 'cos',\n",
              " 'cosh',\n",
              " 'count_nonzero',\n",
              " 'cov',\n",
              " 'cross',\n",
              " 'csingle',\n",
              " 'ctypeslib',\n",
              " 'cumprod',\n",
              " 'cumproduct',\n",
              " 'cumsum',\n",
              " 'datetime64',\n",
              " 'datetime_as_string',\n",
              " 'datetime_data',\n",
              " 'deg2rad',\n",
              " 'degrees',\n",
              " 'delete',\n",
              " 'deprecate',\n",
              " 'deprecate_with_doc',\n",
              " 'diag',\n",
              " 'diag_indices',\n",
              " 'diag_indices_from',\n",
              " 'diagflat',\n",
              " 'diagonal',\n",
              " 'diff',\n",
              " 'digitize',\n",
              " 'disp',\n",
              " 'divide',\n",
              " 'divmod',\n",
              " 'dot',\n",
              " 'double',\n",
              " 'dsplit',\n",
              " 'dstack',\n",
              " 'dtype',\n",
              " 'dtypes',\n",
              " 'e',\n",
              " 'ediff1d',\n",
              " 'einsum',\n",
              " 'einsum_path',\n",
              " 'emath',\n",
              " 'empty',\n",
              " 'empty_like',\n",
              " 'equal',\n",
              " 'errstate',\n",
              " 'euler_gamma',\n",
              " 'exceptions',\n",
              " 'exp',\n",
              " 'exp2',\n",
              " 'expand_dims',\n",
              " 'expm1',\n",
              " 'extract',\n",
              " 'eye',\n",
              " 'fabs',\n",
              " 'fastCopyAndTranspose',\n",
              " 'fft',\n",
              " 'fill_diagonal',\n",
              " 'find_common_type',\n",
              " 'finfo',\n",
              " 'fix',\n",
              " 'flatiter',\n",
              " 'flatnonzero',\n",
              " 'flexible',\n",
              " 'flip',\n",
              " 'fliplr',\n",
              " 'flipud',\n",
              " 'float128',\n",
              " 'float16',\n",
              " 'float32',\n",
              " 'float64',\n",
              " 'float_',\n",
              " 'float_power',\n",
              " 'floating',\n",
              " 'floor',\n",
              " 'floor_divide',\n",
              " 'fmax',\n",
              " 'fmin',\n",
              " 'fmod',\n",
              " 'format_float_positional',\n",
              " 'format_float_scientific',\n",
              " 'format_parser',\n",
              " 'frexp',\n",
              " 'from_dlpack',\n",
              " 'frombuffer',\n",
              " 'fromfile',\n",
              " 'fromfunction',\n",
              " 'fromiter',\n",
              " 'frompyfunc',\n",
              " 'fromregex',\n",
              " 'fromstring',\n",
              " 'full',\n",
              " 'full_like',\n",
              " 'gcd',\n",
              " 'generic',\n",
              " 'genfromtxt',\n",
              " 'geomspace',\n",
              " 'get_array_wrap',\n",
              " 'get_include',\n",
              " 'get_printoptions',\n",
              " 'getbufsize',\n",
              " 'geterr',\n",
              " 'geterrcall',\n",
              " 'geterrobj',\n",
              " 'gradient',\n",
              " 'greater',\n",
              " 'greater_equal',\n",
              " 'half',\n",
              " 'hamming',\n",
              " 'hanning',\n",
              " 'heaviside',\n",
              " 'histogram',\n",
              " 'histogram2d',\n",
              " 'histogram_bin_edges',\n",
              " 'histogramdd',\n",
              " 'hsplit',\n",
              " 'hstack',\n",
              " 'hypot',\n",
              " 'i0',\n",
              " 'identity',\n",
              " 'iinfo',\n",
              " 'imag',\n",
              " 'in1d',\n",
              " 'index_exp',\n",
              " 'indices',\n",
              " 'inexact',\n",
              " 'inf',\n",
              " 'info',\n",
              " 'infty',\n",
              " 'inner',\n",
              " 'insert',\n",
              " 'int16',\n",
              " 'int32',\n",
              " 'int64',\n",
              " 'int8',\n",
              " 'int_',\n",
              " 'intc',\n",
              " 'integer',\n",
              " 'interp',\n",
              " 'intersect1d',\n",
              " 'intp',\n",
              " 'invert',\n",
              " 'is_busday',\n",
              " 'isclose',\n",
              " 'iscomplex',\n",
              " 'iscomplexobj',\n",
              " 'isfinite',\n",
              " 'isfortran',\n",
              " 'isin',\n",
              " 'isinf',\n",
              " 'isnan',\n",
              " 'isnat',\n",
              " 'isneginf',\n",
              " 'isposinf',\n",
              " 'isreal',\n",
              " 'isrealobj',\n",
              " 'isscalar',\n",
              " 'issctype',\n",
              " 'issubclass_',\n",
              " 'issubdtype',\n",
              " 'issubsctype',\n",
              " 'iterable',\n",
              " 'ix_',\n",
              " 'kaiser',\n",
              " 'kernel_version',\n",
              " 'kron',\n",
              " 'lcm',\n",
              " 'ldexp',\n",
              " 'left_shift',\n",
              " 'less',\n",
              " 'less_equal',\n",
              " 'lexsort',\n",
              " 'lib',\n",
              " 'linalg',\n",
              " 'linspace',\n",
              " 'little_endian',\n",
              " 'load',\n",
              " 'loadtxt',\n",
              " 'log',\n",
              " 'log10',\n",
              " 'log1p',\n",
              " 'log2',\n",
              " 'logaddexp',\n",
              " 'logaddexp2',\n",
              " 'logical_and',\n",
              " 'logical_not',\n",
              " 'logical_or',\n",
              " 'logical_xor',\n",
              " 'logspace',\n",
              " 'longcomplex',\n",
              " 'longdouble',\n",
              " 'longfloat',\n",
              " 'longlong',\n",
              " 'lookfor',\n",
              " 'ma',\n",
              " 'mask_indices',\n",
              " 'mat',\n",
              " 'matmul',\n",
              " 'matrix',\n",
              " 'max',\n",
              " 'maximum',\n",
              " 'maximum_sctype',\n",
              " 'may_share_memory',\n",
              " 'mean',\n",
              " 'median',\n",
              " 'memmap',\n",
              " 'meshgrid',\n",
              " 'mgrid',\n",
              " 'min',\n",
              " 'min_scalar_type',\n",
              " 'minimum',\n",
              " 'mintypecode',\n",
              " 'mod',\n",
              " 'modf',\n",
              " 'moveaxis',\n",
              " 'msort',\n",
              " 'multiply',\n",
              " 'nan',\n",
              " 'nan_to_num',\n",
              " 'nanargmax',\n",
              " 'nanargmin',\n",
              " 'nancumprod',\n",
              " 'nancumsum',\n",
              " 'nanmax',\n",
              " 'nanmean',\n",
              " 'nanmedian',\n",
              " 'nanmin',\n",
              " 'nanpercentile',\n",
              " 'nanprod',\n",
              " 'nanquantile',\n",
              " 'nanstd',\n",
              " 'nansum',\n",
              " 'nanvar',\n",
              " 'nbytes',\n",
              " 'ndarray',\n",
              " 'ndenumerate',\n",
              " 'ndim',\n",
              " 'ndindex',\n",
              " 'nditer',\n",
              " 'negative',\n",
              " 'nested_iters',\n",
              " 'newaxis',\n",
              " 'nextafter',\n",
              " 'nonzero',\n",
              " 'not_equal',\n",
              " 'numarray',\n",
              " 'number',\n",
              " 'obj2sctype',\n",
              " 'object_',\n",
              " 'ogrid',\n",
              " 'oldnumeric',\n",
              " 'ones',\n",
              " 'ones_like',\n",
              " 'outer',\n",
              " 'packbits',\n",
              " 'pad',\n",
              " 'partition',\n",
              " 'percentile',\n",
              " 'pi',\n",
              " 'piecewise',\n",
              " 'place',\n",
              " 'poly',\n",
              " 'poly1d',\n",
              " 'polyadd',\n",
              " 'polyder',\n",
              " 'polydiv',\n",
              " 'polyfit',\n",
              " 'polyint',\n",
              " 'polymul',\n",
              " 'polynomial',\n",
              " 'polysub',\n",
              " 'polyval',\n",
              " 'positive',\n",
              " 'power',\n",
              " 'printoptions',\n",
              " 'prod',\n",
              " 'product',\n",
              " 'promote_types',\n",
              " 'ptp',\n",
              " 'put',\n",
              " 'put_along_axis',\n",
              " 'putmask',\n",
              " 'quantile',\n",
              " 'r_',\n",
              " 'rad2deg',\n",
              " 'radians',\n",
              " 'random',\n",
              " 'ravel',\n",
              " 'ravel_multi_index',\n",
              " 'real',\n",
              " 'real_if_close',\n",
              " 'rec',\n",
              " 'recarray',\n",
              " 'recfromcsv',\n",
              " 'recfromtxt',\n",
              " 'reciprocal',\n",
              " 'record',\n",
              " 'remainder',\n",
              " 'repeat',\n",
              " 'require',\n",
              " 'reshape',\n",
              " 'resize',\n",
              " 'result_type',\n",
              " 'right_shift',\n",
              " 'rint',\n",
              " 'roll',\n",
              " 'rollaxis',\n",
              " 'roots',\n",
              " 'rot90',\n",
              " 'round',\n",
              " 'round_',\n",
              " 'row_stack',\n",
              " 's_',\n",
              " 'safe_eval',\n",
              " 'save',\n",
              " 'savetxt',\n",
              " 'savez',\n",
              " 'savez_compressed',\n",
              " 'sctype2char',\n",
              " 'sctypeDict',\n",
              " 'sctypes',\n",
              " 'searchsorted',\n",
              " 'select',\n",
              " 'set_numeric_ops',\n",
              " 'set_printoptions',\n",
              " 'set_string_function',\n",
              " 'setbufsize',\n",
              " 'setdiff1d',\n",
              " 'seterr',\n",
              " 'seterrcall',\n",
              " 'seterrobj',\n",
              " 'setxor1d',\n",
              " 'shape',\n",
              " 'shares_memory',\n",
              " 'short',\n",
              " 'show_config',\n",
              " 'show_runtime',\n",
              " 'sign',\n",
              " 'signbit',\n",
              " 'signedinteger',\n",
              " 'sin',\n",
              " 'sinc',\n",
              " 'single',\n",
              " 'singlecomplex',\n",
              " 'sinh',\n",
              " 'size',\n",
              " 'sometrue',\n",
              " 'sort',\n",
              " 'sort_complex',\n",
              " 'source',\n",
              " 'spacing',\n",
              " 'split',\n",
              " 'sqrt',\n",
              " 'square',\n",
              " 'squeeze',\n",
              " 'stack',\n",
              " 'std',\n",
              " 'str_',\n",
              " 'string_',\n",
              " 'subtract',\n",
              " 'sum',\n",
              " 'swapaxes',\n",
              " 'take',\n",
              " 'take_along_axis',\n",
              " 'tan',\n",
              " 'tanh',\n",
              " 'tensordot',\n",
              " 'test',\n",
              " 'testing',\n",
              " 'tile',\n",
              " 'timedelta64',\n",
              " 'trace',\n",
              " 'tracemalloc_domain',\n",
              " 'transpose',\n",
              " 'trapz',\n",
              " 'tri',\n",
              " 'tril',\n",
              " 'tril_indices',\n",
              " 'tril_indices_from',\n",
              " 'trim_zeros',\n",
              " 'triu',\n",
              " 'triu_indices',\n",
              " 'triu_indices_from',\n",
              " 'true_divide',\n",
              " 'trunc',\n",
              " 'typecodes',\n",
              " 'typename',\n",
              " 'ubyte',\n",
              " 'ufunc',\n",
              " 'uint',\n",
              " 'uint16',\n",
              " 'uint32',\n",
              " 'uint64',\n",
              " 'uint8',\n",
              " 'uintc',\n",
              " 'uintp',\n",
              " 'ulonglong',\n",
              " 'unicode_',\n",
              " 'union1d',\n",
              " 'unique',\n",
              " 'unpackbits',\n",
              " 'unravel_index',\n",
              " 'unsignedinteger',\n",
              " 'unwrap',\n",
              " 'ushort',\n",
              " 'vander',\n",
              " 'var',\n",
              " 'vdot',\n",
              " 'vectorize',\n",
              " 'version',\n",
              " 'void',\n",
              " 'vsplit',\n",
              " 'vstack',\n",
              " 'where',\n",
              " 'who',\n",
              " 'zeros',\n",
              " 'zeros_like']"
            ]
          },
          "metadata": {},
          "execution_count": 14
        }
      ],
      "source": [
        "import numpy\n",
        "dir(numpy)"
      ]
    },
    {
      "cell_type": "markdown",
      "metadata": {
        "id": "cXA8Lhcu9BIZ"
      },
      "source": [
        "#### Importar todo el contenido del módulo"
      ]
    },
    {
      "cell_type": "markdown",
      "metadata": {
        "id": "aiHnmP199BIZ"
      },
      "source": [
        "Se importa todo el contenido del módulo y se incorporan sus funciones al entorno de trabajo actual, por lo que no es necesario especificar un alias. CUIDADO: esto sobreescribiría cualquier función de mismo nombre del entorno de trabajo."
      ]
    },
    {
      "cell_type": "code",
      "execution_count": 15,
      "metadata": {
        "id": "g7QCmsCk9BIZ",
        "outputId": "00e24f74-5e11-4687-8320-a6eced19faa2",
        "colab": {
          "base_uri": "https://localhost:8080/"
        }
      },
      "outputs": [
        {
          "output_type": "stream",
          "name": "stdout",
          "text": [
            "[[1 2]\n",
            " [3 4]]\n",
            "2.5\n"
          ]
        }
      ],
      "source": [
        "from numpy import *\n",
        "array = array([[1, 2], [3, 4]])\n",
        "media = mean(array)\n",
        "print (array)\n",
        "print (media)"
      ]
    },
    {
      "cell_type": "markdown",
      "metadata": {
        "id": "ThilDOmu9BIZ"
      },
      "source": [
        "#### Importar un elemento específico el módulo"
      ]
    },
    {
      "cell_type": "markdown",
      "metadata": {
        "id": "jdOMKrxC9BIZ"
      },
      "source": [
        "Se importa únicamente el elemento seleccionado, aunque también hay peligro de sobreescritura."
      ]
    },
    {
      "cell_type": "code",
      "execution_count": 16,
      "metadata": {
        "id": "_OUlAVcA9BIa",
        "outputId": "9428d4ec-ac4c-44af-9c37-f4b9b17f6a49",
        "colab": {
          "base_uri": "https://localhost:8080/"
        }
      },
      "outputs": [
        {
          "output_type": "stream",
          "name": "stdout",
          "text": [
            "[[1 2]\n",
            " [3 4]]\n",
            "2.5\n"
          ]
        }
      ],
      "source": [
        "from numpy import array\n",
        "array = array([[1, 2], [3, 4]])\n",
        "media2 = mean(array)\n",
        "print (array)\n",
        "print(media2)"
      ]
    },
    {
      "cell_type": "markdown",
      "metadata": {
        "id": "K-iJOQC_9BIa"
      },
      "source": [
        "#### Importar con alias"
      ]
    },
    {
      "cell_type": "markdown",
      "metadata": {
        "id": "eWm2vmQp9BIa"
      },
      "source": [
        "Se puede especifcar un alias a los elementos importados de forma que asegures que no hay sobreescritura."
      ]
    },
    {
      "cell_type": "code",
      "execution_count": 17,
      "metadata": {
        "id": "dGnjdugt9BIa",
        "outputId": "99ad7aa5-ae54-4815-f838-7d5f8608fc45",
        "colab": {
          "base_uri": "https://localhost:8080/"
        }
      },
      "outputs": [
        {
          "output_type": "stream",
          "name": "stdout",
          "text": [
            "[[1 2]\n",
            " [3 4]]\n"
          ]
        }
      ],
      "source": [
        "from numpy import array as array_de_numpy\n",
        "array = array_de_numpy([[1, 2], [3, 4]])\n",
        "print (array)"
      ]
    },
    {
      "cell_type": "markdown",
      "metadata": {
        "id": "itloYWUI9BIa"
      },
      "source": [
        "### Instalación de módulos"
      ]
    },
    {
      "cell_type": "markdown",
      "metadata": {
        "id": "CyopI0TE9BIa"
      },
      "source": [
        "Al contrario que en R, en Python no se dispone de una función para instalar módulos directamente desde el intérprete y se debe hacer desde la consola. La herramienta básica para la gestión de paquetes es *pip*."
      ]
    },
    {
      "cell_type": "markdown",
      "metadata": {
        "id": "STTHMQj09BIa"
      },
      "source": [
        "#### Herramienta: pip"
      ]
    },
    {
      "cell_type": "markdown",
      "metadata": {
        "id": "71KXQcQN9BIa"
      },
      "source": [
        "pip instala paquetes disponibles en el repositorio PyPI (índice de paquetes de Python). Los comandos más comunes son:<br/>\n",
        "<ul>\n",
        "<li>list: Listado de paquetes actualmente instalados en el entorno.</li>\n",
        "<li>search &lt;search_string&gt;: Búsqueda de paquetes en el repositorio.</li>\n",
        "<li>install &lt;package&gt;: Instalación de paquetes no disponibles.</li>\n",
        "<li>update &lt;package&gt;: Actualización del paquete a la última versión disponible.</li>\n",
        "</ul>"
      ]
    }
  ],
  "metadata": {
    "kernelspec": {
      "display_name": "Python 3",
      "language": "python",
      "name": "python3"
    },
    "language_info": {
      "codemirror_mode": {
        "name": "ipython",
        "version": 3
      },
      "file_extension": ".py",
      "mimetype": "text/x-python",
      "name": "python",
      "nbconvert_exporter": "python",
      "pygments_lexer": "ipython3",
      "version": "3.8.8"
    },
    "colab": {
      "provenance": []
    }
  },
  "nbformat": 4,
  "nbformat_minor": 0
}