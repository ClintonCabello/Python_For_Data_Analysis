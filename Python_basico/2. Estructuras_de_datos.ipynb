{
  "cells": [
    {
      "cell_type": "markdown",
      "metadata": {
        "id": "l_Vx1o507AGt"
      },
      "source": [
        "# Introducción a Python - Estructuras de datos"
      ]
    },
    {
      "cell_type": "markdown",
      "metadata": {
        "id": "YRWV0mlQ7AGw"
      },
      "source": [
        "En este apartado vamos a revisar las estructuras de datos (colecciones) básicas de Python, sus propiedades y las operaciones básicas que se pueden realizar con y sobre ellos. En concreto, en Python tenemos tres estructuras básicas de datos.\n",
        "\n",
        "<ul>\n",
        "<li>Secuencias</li>\n",
        "<li>Diccionarios</li>\n",
        "<li>Conjuntos</li>\n",
        "</ul>"
      ]
    },
    {
      "cell_type": "markdown",
      "metadata": {
        "id": "Jfq_ZEhl7AGx"
      },
      "source": [
        "## Secuencias"
      ]
    },
    {
      "cell_type": "markdown",
      "metadata": {
        "id": "Fvmlatld7AGx"
      },
      "source": [
        "Una secuencia es un listado unidimensional y ordenado de valores que pueden ser de cualquier tipo, incluso otras estructuras de datos anidadas. Existen tres tipos bien diferenciados\n",
        "\n",
        "<ul>\n",
        "    <li><b>Tuplas</b>: listados inmutables.</li>\n",
        "    <li><b>Listas</b>: listados ordenados mutables.</li>\n",
        "    <li><b>Cadenas de caracteres</b>: inmutables y cuyos elementos son siempre caracteres.</li>\n",
        "</ul>\n",
        "\n",
        "Casi todas las operaciones disponibles se pueden aplicar sobre cualquier tipo de secuencia (excepto las que implican modificación que, lógicamente, sólo se pueden aplicar sobre listas)."
      ]
    },
    {
      "cell_type": "markdown",
      "metadata": {
        "id": "yWqTwS8w7AGx"
      },
      "source": [
        "##### <b>Creación de secuencias</b>"
      ]
    },
    {
      "cell_type": "markdown",
      "metadata": {
        "id": "442IktVC7AGy"
      },
      "source": [
        "* **Tuplas**: Secuencia que va entre paréntesis\n",
        "* **Listas**: Secuencia que va entre corchetes\n",
        "* **Cadena de caracteres**: Secuencia que va entre comillas"
      ]
    },
    {
      "cell_type": "code",
      "execution_count": 1,
      "metadata": {
        "id": "PmndAnGp7AGy"
      },
      "outputs": [],
      "source": [
        "tuple_1 = (1, 2, 3, 4)\n",
        "list_1 = [1, 2, 3, 4]\n",
        "str_1 = \"esto es una cadena\""
      ]
    },
    {
      "cell_type": "code",
      "execution_count": 2,
      "metadata": {
        "colab": {
          "base_uri": "https://localhost:8080/"
        },
        "id": "axlshR7V7AGz",
        "outputId": "ab7bb9d6-6c39-4ece-ee5d-9fcbd5c507f1"
      },
      "outputs": [
        {
          "output_type": "stream",
          "name": "stdout",
          "text": [
            "Variable   Type     Data/Info\n",
            "-----------------------------\n",
            "list_1     list     n=4\n",
            "str_1      str      esto es una cadena\n",
            "tuple_1    tuple    n=4\n"
          ]
        }
      ],
      "source": [
        "%whos"
      ]
    },
    {
      "cell_type": "markdown",
      "metadata": {
        "id": "3iJeMF-47AGz"
      },
      "source": [
        "#### Acceso a elementos"
      ]
    },
    {
      "cell_type": "markdown",
      "metadata": {
        "id": "KUGYHQUS7AGz"
      },
      "source": [
        "* Para acceder a un elemento de la secuencia es necesario poner la ubicación que queremos, teniendo en cuenta que **Python es un lenguaje que comienza a contar en 0**.\n",
        "\n",
        "* Podemos modificar dicho elemento por otro cualquiera siempre que estemos ante una lista, nunca ante una cadena de caracteres o ante tuplas.\n"
      ]
    },
    {
      "cell_type": "code",
      "execution_count": 3,
      "metadata": {
        "colab": {
          "base_uri": "https://localhost:8080/"
        },
        "id": "0asm44bQ7AGz",
        "outputId": "a7a46f28-3c28-44fc-bc86-cc410a05df59"
      },
      "outputs": [
        {
          "output_type": "stream",
          "name": "stdout",
          "text": [
            "Definimos la lista\n",
            "[1, 2, 3, 4]\n",
            "--------------------------------\n",
            "Acceso al primer elemento de la lista\n",
            "1\n",
            "--------------------------------\n",
            "Modificación del primer elemento de la lista\n",
            "[2, 2, 3, 4]\n"
          ]
        }
      ],
      "source": [
        "print(\"Definimos la lista\")\n",
        "list_1 = [1,2,3,4]\n",
        "print(list_1)\n",
        "\n",
        "print(\"--------------------------------\")\n",
        "\n",
        "print(\"Acceso al primer elemento de la lista\")\n",
        "print(list_1[0])\n",
        "\n",
        "print(\"--------------------------------\")\n",
        "\n",
        "print(\"Modificación del primer elemento de la lista\")\n",
        "list_1[0] = 2\n",
        "print(list_1)"
      ]
    },
    {
      "cell_type": "code",
      "execution_count": 4,
      "metadata": {
        "colab": {
          "base_uri": "https://localhost:8080/"
        },
        "id": "GBJR_Y_D7AG0",
        "outputId": "9c6a835f-6cf1-4287-bcb8-65b3739a2709"
      },
      "outputs": [
        {
          "output_type": "stream",
          "name": "stdout",
          "text": [
            "Definimos la cadena\n",
            "esto es una cadena\n",
            "--------------------------------\n",
            "Acceso al segundo elemento de la cadena\n",
            "s\n",
            "--------------------------------\n"
          ]
        }
      ],
      "source": [
        "print(\"Definimos la cadena\")\n",
        "str_1 = \"esto es una cadena\"\n",
        "print(str_1)\n",
        "\n",
        "print(\"--------------------------------\")\n",
        "\n",
        "print(\"Acceso al segundo elemento de la cadena\")\n",
        "print(str_1[1])\n",
        "\n",
        "print(\"--------------------------------\")\n"
      ]
    },
    {
      "cell_type": "code",
      "execution_count": 5,
      "metadata": {
        "colab": {
          "base_uri": "https://localhost:8080/"
        },
        "id": "8L3hO9-77AG0",
        "outputId": "746ee7c5-049c-4130-8960-8f167571d088"
      },
      "outputs": [
        {
          "output_type": "stream",
          "name": "stdout",
          "text": [
            "Definimos la tupla\n",
            "(1, 2, 3, 4)\n",
            "--------------------------------\n",
            "Acceso al tercer elemento de la tupla\n",
            "3\n",
            "--------------------------------\n"
          ]
        }
      ],
      "source": [
        "print(\"Definimos la tupla\")\n",
        "tuple_1 = (1, 2, 3, 4)\n",
        "print(tuple_1)\n",
        "\n",
        "print(\"--------------------------------\")\n",
        "\n",
        "print(\"Acceso al tercer elemento de la tupla\")\n",
        "print(tuple_1[2])\n",
        "\n",
        "print(\"--------------------------------\")\n"
      ]
    },
    {
      "cell_type": "markdown",
      "metadata": {
        "id": "swOw12Uz7AG0"
      },
      "source": [
        "* Podemos acceder a un elemento de la secuencia contando desde atrás, es decir, podemos informar de la posición que ocupa desde el final de la secuencia. En este caso, el último elemento ocuparía la posición -1."
      ]
    },
    {
      "cell_type": "code",
      "execution_count": 6,
      "metadata": {
        "colab": {
          "base_uri": "https://localhost:8080/"
        },
        "id": "dUobFaAb7AG0",
        "outputId": "049f825b-b27b-48ec-8f6f-f6662119f997"
      },
      "outputs": [
        {
          "output_type": "stream",
          "name": "stdout",
          "text": [
            "4\n",
            "2\n",
            "a\n"
          ]
        }
      ],
      "source": [
        "tuple_1 = (1, 2, 3, 4)\n",
        "list_1 = [1, 2, 3, 4]\n",
        "str_1 = \"esto es una cadena\"\n",
        "\n",
        "print (tuple_1[-1])\n",
        "print (list_1[-3])\n",
        "print (str_1[-5])"
      ]
    },
    {
      "cell_type": "markdown",
      "metadata": {
        "id": "ops3EbaV7AG0"
      },
      "source": [
        "###### <b>Conversión/casting entre tipos de secuencia</b>"
      ]
    },
    {
      "cell_type": "code",
      "execution_count": 7,
      "metadata": {
        "id": "jHDgKuLY7AG0"
      },
      "outputs": [],
      "source": [
        "tuple_1 = (1, 2, 3, 4)\n",
        "list_1 = [1, 2, 3, 4]\n",
        "str_1 = \"esto es una cadena\"\n",
        "\n",
        "tuple_2 = tuple(list_1)\n",
        "list_2 = list(tuple_1)\n",
        "tuple_3 = tuple(str_1)\n"
      ]
    },
    {
      "cell_type": "code",
      "execution_count": 8,
      "metadata": {
        "colab": {
          "base_uri": "https://localhost:8080/"
        },
        "id": "d115A0lF7AG0",
        "outputId": "5a6f2359-8e76-4c6a-f2ee-83923dfce8c7"
      },
      "outputs": [
        {
          "output_type": "stream",
          "name": "stdout",
          "text": [
            "(1, 2, 3, 4)\n",
            "[1, 2, 3, 4]\n",
            "('e', 's', 't', 'o', ' ', 'e', 's', ' ', 'u', 'n', 'a', ' ', 'c', 'a', 'd', 'e', 'n', 'a')\n",
            "<class 'tuple'>\n",
            "<class 'list'>\n",
            "<class 'tuple'>\n"
          ]
        }
      ],
      "source": [
        "print (tuple_2)\n",
        "print (list_2)\n",
        "print (tuple_3)\n",
        "\n",
        "print (type(tuple_2))\n",
        "print (type(list_2))\n",
        "print (type(tuple_3))"
      ]
    },
    {
      "cell_type": "markdown",
      "metadata": {
        "id": "l5-aehWZ7AG1"
      },
      "source": [
        "###### Creación de secuencias anidadas"
      ]
    },
    {
      "cell_type": "code",
      "execution_count": 9,
      "metadata": {
        "colab": {
          "base_uri": "https://localhost:8080/"
        },
        "id": "HovXd2UQ7AG1",
        "outputId": "82302cf7-46e8-48a1-9e1e-60268c2b34d5"
      },
      "outputs": [
        {
          "output_type": "stream",
          "name": "stdout",
          "text": [
            "(1, 2, (3, 4), [1, 2, 3])\n",
            "[1, 2, 3, [4, 5], 'prueba', (1, 2, 3)]\n"
          ]
        }
      ],
      "source": [
        "tuple_1 = (1, 2, (3, 4), [1, 2, 3])\n",
        "list_1 = [1, 2, 3, [4, 5], \"prueba\", (1, 2, 3)]\n",
        "print (tuple_1)\n",
        "print (list_1)"
      ]
    },
    {
      "cell_type": "markdown",
      "metadata": {
        "id": "Spukpdo77AG1"
      },
      "source": [
        "###### Concatenación de secuencias"
      ]
    },
    {
      "cell_type": "code",
      "execution_count": 10,
      "metadata": {
        "colab": {
          "base_uri": "https://localhost:8080/"
        },
        "id": "Jgr_0Qtk7AG1",
        "outputId": "92f29574-db59-432b-9ca8-be4ebddfa730"
      },
      "outputs": [
        {
          "output_type": "stream",
          "name": "stdout",
          "text": [
            "(1, 2, 3, 4, 5, 6, 7, 8)\n",
            "[1, 2, 3, 4, 5, 6, 7, 8]\n",
            "esto es una cadenaesto es otra cadena\n"
          ]
        }
      ],
      "source": [
        "tuple_1 = (1, 2, 3, 4)\n",
        "list_1 = [1, 2, 3, 4]\n",
        "str_1 = \"esto es una cadena\"\n",
        "\n",
        "tuple_2 = (5, 6, 7, 8)\n",
        "list_2 = [5, 6, 7, 8]\n",
        "str_2 = \"esto es otra cadena\"\n",
        "\n",
        "tuple_3 = tuple_1 + tuple_2\n",
        "list_3 = list_1 + list_2\n",
        "str_3 = str_1 + str_2\n",
        "\n",
        "print (tuple_3)\n",
        "print (list_3)\n",
        "print (str_3)"
      ]
    },
    {
      "cell_type": "markdown",
      "metadata": {
        "id": "Rewq7YSZ7AG1"
      },
      "source": [
        "Para concatenar cadenas de texto con números antes hay que cambiar el tipo de dato de número a texto con el comando `str`. Recordemos que si utilizamos la función `input` el valor recibido ya es un texto."
      ]
    },
    {
      "cell_type": "code",
      "execution_count": 11,
      "metadata": {
        "colab": {
          "base_uri": "https://localhost:8080/"
        },
        "id": "6-9gQ2cS7AG1",
        "outputId": "6177516c-fdee-4280-8fbf-d53f81ab677c"
      },
      "outputs": [
        {
          "output_type": "stream",
          "name": "stdout",
          "text": [
            "Has escrito el número 2\n"
          ]
        }
      ],
      "source": [
        "numero = 2\n",
        "str_numero = \"Has escrito el número \" + str(numero)\n",
        "print(str_numero)"
      ]
    },
    {
      "cell_type": "code",
      "execution_count": 12,
      "metadata": {
        "colab": {
          "base_uri": "https://localhost:8080/"
        },
        "id": "nMOm5Em57AG1",
        "outputId": "298a3e28-9244-41cc-89f1-c0613c6593ce"
      },
      "outputs": [
        {
          "output_type": "stream",
          "name": "stdout",
          "text": [
            "Escribe tu input -->5\n",
            "Has escrito el número 5\n"
          ]
        }
      ],
      "source": [
        "a = input(\"Escribe tu input -->\")\n",
        "print('Has escrito el número ' + a)"
      ]
    },
    {
      "cell_type": "markdown",
      "metadata": {
        "id": "2sOLD0ju7AG1"
      },
      "source": [
        "###### Multiplicación de secuencias por enteros"
      ]
    },
    {
      "cell_type": "code",
      "execution_count": 13,
      "metadata": {
        "colab": {
          "base_uri": "https://localhost:8080/"
        },
        "id": "nHsb8JJk7AG1",
        "outputId": "949640da-88a7-4f92-d5a2-da9b0780eacb"
      },
      "outputs": [
        {
          "output_type": "stream",
          "name": "stdout",
          "text": [
            "[1, 2, 3, 1, 2, 3]\n"
          ]
        }
      ],
      "source": [
        "list_1 = [1, 2, 3]\n",
        "list_2 = list_1 * 2\n",
        "print (list_2)"
      ]
    },
    {
      "cell_type": "code",
      "execution_count": 14,
      "metadata": {
        "colab": {
          "base_uri": "https://localhost:8080/"
        },
        "id": "4XBW3uOx7AG1",
        "outputId": "f0e45705-4152-4fb4-c8d4-7aed6bd37034"
      },
      "outputs": [
        {
          "output_type": "stream",
          "name": "stdout",
          "text": [
            "aaaaaaaaaa\n"
          ]
        }
      ],
      "source": [
        "letra = 'a'\n",
        "letra_10 = letra * 10\n",
        "print(letra_10)"
      ]
    },
    {
      "cell_type": "code",
      "execution_count": 15,
      "metadata": {
        "colab": {
          "base_uri": "https://localhost:8080/"
        },
        "id": "31r6LcBQ7AG1",
        "outputId": "6b838c86-daf4-4b59-9134-1d8dea29b4e5"
      },
      "outputs": [
        {
          "output_type": "stream",
          "name": "stdout",
          "text": [
            "('hola', 'mundo', 'hola', 'mundo')\n",
            "pruebaprueba\n"
          ]
        }
      ],
      "source": [
        "tuple_1 = (\"hola\", \"mundo\")\n",
        "tuple_2 = tuple_1 * 2\n",
        "print (tuple_2)\n",
        "\n",
        "\n",
        "str_1 = \"prueba\"\n",
        "str_2 = str_1 * 2\n",
        "print (str_2)"
      ]
    },
    {
      "cell_type": "markdown",
      "metadata": {
        "id": "MbOtvLFL7AG1"
      },
      "source": [
        "##### Comprobación de si un elemento existe en la secuencia. `in`"
      ]
    },
    {
      "cell_type": "code",
      "execution_count": 16,
      "metadata": {
        "colab": {
          "base_uri": "https://localhost:8080/"
        },
        "id": "TX72B1rb7AG2",
        "outputId": "d60d35b8-e628-4cf5-f369-945a9ae4be0a"
      },
      "outputs": [
        {
          "output_type": "stream",
          "name": "stdout",
          "text": [
            "True\n",
            "True\n",
            "True\n",
            "True\n",
            "True\n",
            "True\n",
            "True\n"
          ]
        }
      ],
      "source": [
        "tuple_1 = (1, 2, 3, 4)\n",
        "list_1 = [1, 2, 3, 4]\n",
        "str_1 = \"esto es una cadena\"\n",
        "\n",
        "print (4 in tuple_1)\n",
        "print (5 not in tuple_1)\n",
        "print (4 in list_1)\n",
        "print (5 not in list_1)\n",
        "print (\"e\" in str_1)\n",
        "print (\"esto\" in str_1) # también pueden buscarse palabras enteras\n",
        "print (\"z\" not in str_1)"
      ]
    },
    {
      "cell_type": "markdown",
      "metadata": {
        "id": "MUqKsxXx7AG2"
      },
      "source": [
        "##### Slicing de secuencias"
      ]
    },
    {
      "cell_type": "markdown",
      "metadata": {
        "id": "kHFJ58WL7AG2"
      },
      "source": [
        "<ul>\n",
        "<li>Selección (mediante copia, no referencia) de un conjunto ordenado de elementos de una secuencia.</li>\n",
        "<li>Se realiza mediante la notación secuencia[a:b:c]. Donde:\n",
        "<ul>\n",
        "<li>a: Índice del primer elemento a extrar (en base 0). Si se omite se extrae desde el principio de la secuencia.</li>\n",
        "<li>b: Índice del primero elemento que NO se extrae (en base 0). Si se omite se extrae hasta el final de la secuencia.</li>\n",
        "<li>c: Tamaño del salto a aplicar en la extracción. Si se omite se asume 1.\n",
        "</ul>\n",
        "</ul>"
      ]
    },
    {
      "cell_type": "code",
      "execution_count": 17,
      "metadata": {
        "colab": {
          "base_uri": "https://localhost:8080/"
        },
        "id": "vvzLwwHU7AG2",
        "outputId": "5d0e8d09-e20b-46ee-85f7-ac6f6625d6fe"
      },
      "outputs": [
        {
          "output_type": "stream",
          "name": "stdout",
          "text": [
            "Lista original\n",
            "--------------\n",
            "a = 0. Extrae desde el primero hasta el último.\n",
            "list_1[0:]\n",
            "['uno', 'dos', 'tres', 'cuatro']\n",
            "list_1[:]\n",
            "['uno', 'dos', 'tres', 'cuatro']\n",
            "--------------\n",
            "a = 2. Extrae desde el tercero hasta el último.\n",
            "list_1[2:]\n",
            "['tres', 'cuatro']\n",
            "--------------\n",
            "b = 3. Extrae desde el primero hasta el cuarto no incluido.\n",
            "list_1[:3]\n",
            "['uno', 'dos', 'tres']\n",
            "--------------\n",
            "a = 2; b = 3. Extrae desde el tercero hasta el cuarto no incluido.\n",
            "list_1[2:3]\n",
            "['tres']\n",
            "--------------\n",
            "b = -3. Extrae desde el primero hasta el tercero por detrás no incluido.\n",
            "list_1[:-3]\n",
            "['uno']\n",
            "--------------\n",
            "c = 2. Extrae desde el primero hasta el último de 2 en 2.\n",
            "list_1[::2]\n",
            "['uno', 'tres']\n",
            "--------------\n",
            "c = 2. Extrae desde el primero hasta el último de 1 en 1 desde atrás.\n",
            "list_1[::-1]\n",
            "['cuatro', 'tres', 'dos', 'uno']\n"
          ]
        }
      ],
      "source": [
        "print(\"Lista original\")\n",
        "list_1 = [\"uno\", \"dos\", \"tres\", \"cuatro\"]\n",
        "print(\"--------------\")\n",
        "print(\"a = 0. Extrae desde el primero hasta el último.\")\n",
        "print (\"list_1[0:]\")\n",
        "print (list_1[0:])\n",
        "print (\"list_1[:]\")\n",
        "print (list_1[:])\n",
        "print(\"--------------\")\n",
        "print(\"a = 2. Extrae desde el tercero hasta el último.\")\n",
        "print (\"list_1[2:]\")\n",
        "print (list_1[2:])\n",
        "print(\"--------------\")\n",
        "print(\"b = 3. Extrae desde el primero hasta el cuarto no incluido.\")\n",
        "print (\"list_1[:3]\")\n",
        "print (list_1[:3])\n",
        "print(\"--------------\")\n",
        "print(\"a = 2; b = 3. Extrae desde el tercero hasta el cuarto no incluido.\")\n",
        "print (\"list_1[2:3]\")\n",
        "print (list_1[2:3])\n",
        "print(\"--------------\")\n",
        "print(\"b = -3. Extrae desde el primero hasta el tercero por detrás no incluido.\")\n",
        "print(\"list_1[:-3]\")\n",
        "print(list_1[:-3])\n",
        "print(\"--------------\")\n",
        "print(\"c = 2. Extrae desde el primero hasta el último de 2 en 2.\")\n",
        "print (\"list_1[::2]\")\n",
        "print (list_1[::2])\n",
        "print(\"--------------\")\n",
        "print(\"c = 2. Extrae desde el primero hasta el último de 1 en 1 desde atrás.\")\n",
        "print (\"list_1[::-1]\")\n",
        "print (list_1[::-1])"
      ]
    },
    {
      "cell_type": "code",
      "execution_count": 18,
      "metadata": {
        "colab": {
          "base_uri": "https://localhost:8080/"
        },
        "id": "Vi_5CcOz7AG2",
        "outputId": "a7b39264-fe22-4185-ea37-c0f692286fb0"
      },
      "outputs": [
        {
          "output_type": "stream",
          "name": "stdout",
          "text": [
            "['uno', 'dos', 'tres', 'cuatro']\n",
            "[25, 'dos', 'tres']\n"
          ]
        }
      ],
      "source": [
        "list_2 = list_1[:3]\n",
        "list_2[0] = 25\n",
        "print (list_1)\n",
        "print (list_2)"
      ]
    },
    {
      "cell_type": "markdown",
      "metadata": {
        "id": "lkaPcHLu7AG2"
      },
      "source": [
        "##### Longitud de secuencias. `len`"
      ]
    },
    {
      "cell_type": "code",
      "execution_count": 19,
      "metadata": {
        "colab": {
          "base_uri": "https://localhost:8080/"
        },
        "id": "Fu4Or8KV7AG2",
        "outputId": "9629ed34-fe01-433a-a1eb-3a75ee5bea4c"
      },
      "outputs": [
        {
          "output_type": "stream",
          "name": "stdout",
          "text": [
            "4\n",
            "4\n",
            "18\n"
          ]
        }
      ],
      "source": [
        "tuple_1 = (1, 2, 3, 4)\n",
        "list_1 = [1, 2, 3, 4]\n",
        "str_1 = \"esto es una cadena\"\n",
        "\n",
        "print (len(tuple_1))\n",
        "print (len(list_1))\n",
        "print (len(str_1))"
      ]
    },
    {
      "cell_type": "markdown",
      "metadata": {
        "id": "sUXuAN2e7AG2"
      },
      "source": [
        "##### Obtención del número de repeticiones de un elemento. `count`"
      ]
    },
    {
      "cell_type": "code",
      "execution_count": 20,
      "metadata": {
        "colab": {
          "base_uri": "https://localhost:8080/"
        },
        "id": "LqfsJrl17AG2",
        "outputId": "a31782aa-b73b-4569-9002-95f38504c792"
      },
      "outputs": [
        {
          "output_type": "stream",
          "name": "stdout",
          "text": [
            "6\n",
            "6\n",
            "3\n"
          ]
        }
      ],
      "source": [
        "tuple_1 = (1,2,3,4,1,1,1,1,1)\n",
        "print(tuple_1.count(1))\n",
        "\n",
        "list_1 = [1,2,3,4,1,1,1,1,1]\n",
        "print(list_1.count(1))\n",
        "\n",
        "str_1 = \"esto es una cadena\"\n",
        "print(str_1.count(\"e\"))"
      ]
    },
    {
      "cell_type": "markdown",
      "metadata": {
        "id": "VyGfmtOz7AG6"
      },
      "source": [
        "##### Mezcla ordenada de secuencias. `zip`"
      ]
    },
    {
      "cell_type": "code",
      "execution_count": 21,
      "metadata": {
        "colab": {
          "base_uri": "https://localhost:8080/"
        },
        "id": "q3sgVqN47AG6",
        "outputId": "a776edcf-3e71-4153-98e1-8991084fae99"
      },
      "outputs": [
        {
          "output_type": "execute_result",
          "data": {
            "text/plain": [
              "[(1, 'uno'), (2, 'dos'), (3, 'tres'), (4, 'cuatro'), (5, 'cinco')]"
            ]
          },
          "metadata": {},
          "execution_count": 21
        }
      ],
      "source": [
        "tuple_1 = (1, 2, 3, 4, 5)\n",
        "list_1 = [\"uno\", \"dos\", \"tres\", \"cuatro\", \"cinco\"]\n",
        "tuple_list = zip(tuple_1, list_1)\n",
        "list(tuple_list)"
      ]
    },
    {
      "cell_type": "markdown",
      "metadata": {
        "id": "eR7ctrxj7AG6"
      },
      "source": [
        "El resultado es un \"objeto iterable\", por lo que para ver la mezcla hay que convertirla a lista previamente tal y como se ha hecho en la celda anterior"
      ]
    },
    {
      "cell_type": "markdown",
      "metadata": {
        "id": "VY4A87Xh7AG6"
      },
      "source": [
        "##### Creación de secuencias numéricas. `range`"
      ]
    },
    {
      "cell_type": "markdown",
      "metadata": {
        "id": "zT5sQR_l7AG6"
      },
      "source": [
        "El comando `range` genera una lista numérica que sigue el siguiente patrón `range(a,b,c)`:\n",
        "* **a**: Primer número que queremos que aparezca\n",
        "* **b**: Primero número que queremos que no aparezca\n",
        "* **c**: salto. En caso de omisión éste sería 1.\n",
        "\n",
        "En caso de utilizar sólo una variable, ésta actuaría como **b**, haciendoq ue la secuencia comience en 0 y termine en dicho valor."
      ]
    },
    {
      "cell_type": "code",
      "execution_count": 22,
      "metadata": {
        "colab": {
          "base_uri": "https://localhost:8080/"
        },
        "id": "FBmdBmsD7AG6",
        "outputId": "90e76608-347a-442e-8ec7-94c292eca3a9"
      },
      "outputs": [
        {
          "output_type": "stream",
          "name": "stdout",
          "text": [
            "[5, 6, 7, 8, 9]\n",
            "[0, 2, 4, 6, 8, 10, 12, 14, 16, 18, 20, 22, 24, 26, 28, 30, 32, 34, 36, 38, 40, 42, 44, 46, 48, 50, 52, 54, 56, 58, 60, 62, 64, 66, 68, 70, 72, 74, 76, 78, 80, 82, 84, 86, 88, 90, 92, 94, 96, 98]\n"
          ]
        }
      ],
      "source": [
        "list_2 = range(5, 10)\n",
        "print (list(list_2))\n",
        "\n",
        "list_3 = range(0, 100, 2)\n",
        "print (list(list_3))"
      ]
    },
    {
      "cell_type": "code",
      "execution_count": 23,
      "metadata": {
        "scrolled": true,
        "colab": {
          "base_uri": "https://localhost:8080/"
        },
        "id": "MxZgUDSL7AG6",
        "outputId": "5fa7269d-0929-43b3-e58c-f84bd6a3df78"
      },
      "outputs": [
        {
          "output_type": "stream",
          "name": "stdout",
          "text": [
            "[0, 1, 2, 3, 4, 5, 6, 7, 8, 9]\n"
          ]
        }
      ],
      "source": [
        "list_1 = range(10)\n",
        "print (list(list_1))"
      ]
    },
    {
      "cell_type": "markdown",
      "metadata": {
        "id": "dT5S48JE7AG6"
      },
      "source": [
        "El resultado es un objeto rango, por lo que para visualizarlo hay que utilizar la función `list` como hemos hecho anteriormente"
      ]
    },
    {
      "cell_type": "code",
      "execution_count": 24,
      "metadata": {
        "colab": {
          "base_uri": "https://localhost:8080/"
        },
        "id": "dpZaNHRC7AG6",
        "outputId": "9dce5b77-843b-4ae7-adfc-c437d47c53f5"
      },
      "outputs": [
        {
          "output_type": "stream",
          "name": "stdout",
          "text": [
            "range(0, 10)\n",
            "[0, 1, 2, 3, 4, 5, 6, 7, 8, 9]\n"
          ]
        }
      ],
      "source": [
        "list_1 = range(10)\n",
        "print (list_1)\n",
        "print(list(list_1))"
      ]
    },
    {
      "cell_type": "markdown",
      "metadata": {
        "id": "k-3P1-sn7AG6"
      },
      "source": [
        "###### Adición de elementos a una lista (por el final) - SÓLO LISTAS. `append`"
      ]
    },
    {
      "cell_type": "markdown",
      "metadata": {
        "id": "4CNQFcfA7AG7"
      },
      "source": [
        "Si bien es cierto que podemos añadir elementos al final de la lista con `+`, ésta no altera la lista directamente, sino que sólo lo alterraría bajo asignación; sin embargo, con el comando `append` alteramos la lista con este elemento nuevo sin necesidad de reasignarla."
      ]
    },
    {
      "cell_type": "code",
      "execution_count": 25,
      "metadata": {
        "colab": {
          "base_uri": "https://localhost:8080/"
        },
        "id": "-N_g5G1H7AG7",
        "outputId": "52927b32-a9b3-4ece-d1b1-74069b1cedc7"
      },
      "outputs": [
        {
          "output_type": "stream",
          "name": "stdout",
          "text": [
            "Ejemplo con +\n",
            "lista_2: ['uno', 'dos', 'tres', 'Tres']\n",
            "lista_1: ['uno', 'dos', 'tres']\n"
          ]
        }
      ],
      "source": [
        "print(\"Ejemplo con +\")\n",
        "lista_1 = [\"uno\",\"dos\",\"tres\"]\n",
        "lista_2 = lista_1 + ['Tres']\n",
        "print(\"lista_2: \" + str(lista_2))\n",
        "print(\"lista_1: \" + str(lista_1))"
      ]
    },
    {
      "cell_type": "code",
      "execution_count": 26,
      "metadata": {
        "colab": {
          "base_uri": "https://localhost:8080/"
        },
        "id": "GGc3omBt7AG7",
        "outputId": "80273989-30f8-4203-beb4-61961c472a8c"
      },
      "outputs": [
        {
          "output_type": "stream",
          "name": "stdout",
          "text": [
            "Ejemplo con append\n",
            "lista_1_pre: ['uno', 'dos']\n",
            "lista_1_pos: ['uno', 'dos', 'tres']\n"
          ]
        }
      ],
      "source": [
        "print(\"Ejemplo con append\")\n",
        "lista_1 = [\"uno\", \"dos\"]\n",
        "print (\"lista_1_pre: \" + str(lista_1))\n",
        "lista_1.append(\"tres\")\n",
        "print (\"lista_1_pos: \" + str(lista_1))"
      ]
    },
    {
      "cell_type": "markdown",
      "metadata": {
        "id": "wsHqTOVy7AG7"
      },
      "source": [
        "###### Inserción un elemento en una posición específica - SÓLO LISTAS. `insert`"
      ]
    },
    {
      "cell_type": "code",
      "execution_count": 27,
      "metadata": {
        "colab": {
          "base_uri": "https://localhost:8080/"
        },
        "id": "U97fWokS7AG7",
        "outputId": "0c4fdf67-4aa7-4340-e34d-b27b64b3bdec"
      },
      "outputs": [
        {
          "output_type": "stream",
          "name": "stdout",
          "text": [
            "['uno', 'dos', 'tres']\n"
          ]
        }
      ],
      "source": [
        "list_1 = [\"dos\", \"tres\"]\n",
        "list_1.insert(0, \"uno\")\n",
        "print (list_1)"
      ]
    },
    {
      "cell_type": "markdown",
      "metadata": {
        "id": "I2k6qliB7AG7"
      },
      "source": [
        "###### Eliminación del primer elemento coincidente - SÓLO LISTAS. `remove`"
      ]
    },
    {
      "cell_type": "code",
      "execution_count": 28,
      "metadata": {
        "colab": {
          "base_uri": "https://localhost:8080/"
        },
        "id": "4ak5YKQU7AG7",
        "outputId": "821ba67b-bddf-4bb4-ca9f-5029f678e4db"
      },
      "outputs": [
        {
          "output_type": "stream",
          "name": "stdout",
          "text": [
            "[1, 2, 3]\n"
          ]
        }
      ],
      "source": [
        "list_1 = [1, 2, 3, [4, 5]]\n",
        "list_1.remove([4, 5])\n",
        "print (list_1)"
      ]
    },
    {
      "cell_type": "markdown",
      "metadata": {
        "id": "bwzCGmII7AG7"
      },
      "source": [
        "En caso de existir 2 elementos, se elimina el primero"
      ]
    },
    {
      "cell_type": "code",
      "execution_count": 29,
      "metadata": {
        "colab": {
          "base_uri": "https://localhost:8080/"
        },
        "id": "_sDKFHQ17AG7",
        "outputId": "738928d1-51c7-4f4f-f191-6993e27c506a"
      },
      "outputs": [
        {
          "output_type": "stream",
          "name": "stdout",
          "text": [
            "[2, 1]\n"
          ]
        }
      ],
      "source": [
        "lista_1 = [1,2,1]\n",
        "lista_1.remove(1)\n",
        "print(lista_1)"
      ]
    },
    {
      "cell_type": "markdown",
      "metadata": {
        "id": "zsvWJD7R7AG8"
      },
      "source": [
        "##### Eliminación de posiciones - SÓLO LISTAS. `del`"
      ]
    },
    {
      "cell_type": "code",
      "execution_count": 30,
      "metadata": {
        "colab": {
          "base_uri": "https://localhost:8080/"
        },
        "id": "DX7vDd1G7AG8",
        "outputId": "d364de22-4b26-42a0-fbc7-26f81cd05c47"
      },
      "outputs": [
        {
          "output_type": "stream",
          "name": "stdout",
          "text": [
            "[1, 2, 4, 5]\n"
          ]
        }
      ],
      "source": [
        "list_1 = [1, 2, 3, 4, 5]\n",
        "del list_1[2]\n",
        "print (list_1)"
      ]
    },
    {
      "cell_type": "markdown",
      "metadata": {
        "id": "QZhmH6To7AG8"
      },
      "source": [
        "##### Ordenación de elementos - SÓLO LISTAS. `sort`"
      ]
    },
    {
      "cell_type": "code",
      "execution_count": 31,
      "metadata": {
        "colab": {
          "base_uri": "https://localhost:8080/"
        },
        "id": "wvKjTYkl7AG8",
        "outputId": "29aeac96-f690-49a4-a320-3ba33891a793"
      },
      "outputs": [
        {
          "output_type": "stream",
          "name": "stdout",
          "text": [
            "[1, 2, 3, 4, 5]\n",
            "[5, 4, 3, 2, 1]\n"
          ]
        }
      ],
      "source": [
        "list_1 = [1, 3, 4, 2, 5]\n",
        "list_1.sort()\n",
        "print (list_1)\n",
        "\n",
        "list_1.sort(reverse=True)\n",
        "print (list_1)"
      ]
    },
    {
      "cell_type": "markdown",
      "metadata": {
        "id": "KPeXFbK27AG8"
      },
      "source": [
        "##### Recuperación inversa de elementos - SÓLO LISTAS. `reverse`"
      ]
    },
    {
      "cell_type": "code",
      "execution_count": 32,
      "metadata": {
        "colab": {
          "base_uri": "https://localhost:8080/"
        },
        "id": "1r6RytNu7AG8",
        "outputId": "174c7eb8-9c86-49a8-a674-14388c946648"
      },
      "outputs": [
        {
          "output_type": "stream",
          "name": "stdout",
          "text": [
            "[5, 2, 4, 3, 1]\n"
          ]
        }
      ],
      "source": [
        "list_1 = [1, 3, 4, 2, 5]\n",
        "list_1.reverse()\n",
        "print (list_1)"
      ]
    },
    {
      "cell_type": "markdown",
      "metadata": {
        "id": "3ekKRX4N7AG8"
      },
      "source": [
        "##### Fusionar listas - SOLO LISTAS. `extend`"
      ]
    },
    {
      "cell_type": "markdown",
      "metadata": {
        "id": "toQaALMH7AG8"
      },
      "source": [
        "Podemos concatenar 2 listas usando `+`, pero esta operación necesitaría reasignación. Si queremos alterar la lista original sin reasignarla, usaremos `extend`."
      ]
    },
    {
      "cell_type": "code",
      "execution_count": 33,
      "metadata": {
        "colab": {
          "base_uri": "https://localhost:8080/"
        },
        "id": "Pz_G5ZwG7AG8",
        "outputId": "6b35bf11-1f68-4028-93cd-6362bbcc75b4"
      },
      "outputs": [
        {
          "output_type": "stream",
          "name": "stdout",
          "text": [
            "[1, 3, 4, 2, 5, 7, 8]\n",
            "[7, 8]\n"
          ]
        }
      ],
      "source": [
        "list_1 = [1, 3, 4, 2, 5]\n",
        "list_2 = [7,8]\n",
        "list_1.extend(list_2)\n",
        "print(list_1)\n",
        "print(list_2)"
      ]
    },
    {
      "cell_type": "code",
      "execution_count": 34,
      "metadata": {
        "colab": {
          "base_uri": "https://localhost:8080/"
        },
        "id": "Jyg7WfA37AG8",
        "outputId": "e758c135-b904-423e-bc28-66ca1052adf7"
      },
      "outputs": [
        {
          "output_type": "stream",
          "name": "stdout",
          "text": [
            "[1, 3, 4, 2, 5]\n",
            "[7, 8]\n",
            "[1, 3, 4, 2, 5, 7, 8]\n"
          ]
        }
      ],
      "source": [
        "list_1 = [1, 3, 4, 2, 5]\n",
        "list_2 = [7,8]\n",
        "final_list = list_1 + list_2\n",
        "print(list_1)\n",
        "print(list_2)\n",
        "print(final_list)"
      ]
    },
    {
      "cell_type": "markdown",
      "metadata": {
        "id": "LnMCfAf17AG9"
      },
      "source": [
        "##### Conversión a mayúsculas/minúsculas - SÓLO CADENAS. `upper`/`lower`"
      ]
    },
    {
      "cell_type": "code",
      "execution_count": 35,
      "metadata": {
        "colab": {
          "base_uri": "https://localhost:8080/"
        },
        "id": "WGgJADFa7AG9",
        "outputId": "5484089d-3e88-4922-dec1-bbbf013cfc90"
      },
      "outputs": [
        {
          "output_type": "stream",
          "name": "stdout",
          "text": [
            "ESTO ES UNA PRUEBA\n",
            "esto es una prueba\n"
          ]
        }
      ],
      "source": [
        "str_1 = \"esto es una prueba\"\n",
        "print (str_1.upper())\n",
        "\n",
        "str_2 = \"ESTO ES UNA PRUEBA\"\n",
        "print (str_2.lower())"
      ]
    },
    {
      "cell_type": "markdown",
      "metadata": {
        "id": "QRVtuip47AG9"
      },
      "source": [
        "##### Segmentación por carácter - SÓLO CADENAS. `split`"
      ]
    },
    {
      "cell_type": "code",
      "execution_count": 36,
      "metadata": {
        "colab": {
          "base_uri": "https://localhost:8080/"
        },
        "id": "fwJn9MLJ7AG9",
        "outputId": "40dbe55d-a8c2-4bb2-c91b-6095418a513e"
      },
      "outputs": [
        {
          "output_type": "stream",
          "name": "stdout",
          "text": [
            "['esto', 'es', 'una', 'prueba']\n"
          ]
        }
      ],
      "source": [
        "str_1 = \"esto es una prueba\"\n",
        "print (str_1.split(\" \"))"
      ]
    },
    {
      "cell_type": "markdown",
      "metadata": {
        "id": "MVpVH69U7AG9"
      },
      "source": [
        "##### Reemplazo en cadenas - SÓLO CADENAS. `replace`"
      ]
    },
    {
      "cell_type": "code",
      "execution_count": 37,
      "metadata": {
        "colab": {
          "base_uri": "https://localhost:8080/"
        },
        "id": "IQzguQD47AG9",
        "outputId": "6f6eb982-9fc2-4925-bcbf-dac75e6f0b60"
      },
      "outputs": [
        {
          "output_type": "stream",
          "name": "stdout",
          "text": [
            "esto es otra prueba otra\n",
            "esto es otra prueba una\n"
          ]
        }
      ],
      "source": [
        "str_1 = \"esto es una prueba una\"\n",
        "print (str_1.replace(\"una\", \"otra\"))\n",
        "print (str_1.replace(\"una\", \"otra\",1))"
      ]
    },
    {
      "cell_type": "markdown",
      "metadata": {
        "id": "QiL19Wex7AG9"
      },
      "source": [
        "## Diccionarios (dict)"
      ]
    },
    {
      "cell_type": "markdown",
      "metadata": {
        "id": "QDYrEKWf7AG9"
      },
      "source": [
        "Un diccionario es una estructura que:\n",
        "<ul>\n",
        "<li>Contiene un listado de pares clave-valor.</li>\n",
        "<li>También se puede llamar array asociativo o <i>hash map</i>.</li>\n",
        "<li>Sin orden</li>\n",
        "<li>Cuyas claves son cadenas de caracteres o valores numéricos.</li>\n",
        "<li>Cuyos valores son valores o secuencias (anidadas).</li>\n",
        "</ul>"
      ]
    },
    {
      "cell_type": "markdown",
      "metadata": {
        "id": "oQCVX8RB7AG9"
      },
      "source": [
        "##### Creación de un diccionario"
      ]
    },
    {
      "cell_type": "code",
      "execution_count": 38,
      "metadata": {
        "colab": {
          "base_uri": "https://localhost:8080/"
        },
        "id": "f9CbuNT-7AG9",
        "outputId": "aa96e20c-13b5-4920-9a1c-7eb698dfe679"
      },
      "outputs": [
        {
          "output_type": "stream",
          "name": "stdout",
          "text": [
            "{'clave_1': 1, 'clave_2': 'prueba'}\n",
            "{10: 1, 2: 2}\n"
          ]
        }
      ],
      "source": [
        "dict_1 = {\"clave_1\": 1, \"clave_2\": \"prueba\"}\n",
        "print (dict_1)\n",
        "\n",
        "dict_2 = {10:1, 2:2}\n",
        "print (dict_2)"
      ]
    },
    {
      "cell_type": "markdown",
      "metadata": {
        "id": "mRDilOw37AG9"
      },
      "source": [
        "##### Creación de diccionarios anidados"
      ]
    },
    {
      "cell_type": "code",
      "execution_count": 39,
      "metadata": {
        "colab": {
          "base_uri": "https://localhost:8080/"
        },
        "id": "fGWUeIdf7AG9",
        "outputId": "f4447054-4bf4-4dc3-e3a1-449ef1407d40"
      },
      "outputs": [
        {
          "output_type": "stream",
          "name": "stdout",
          "text": [
            "{'clave_1': 1, 'clave_2': {'clave_21': [1, 2, 3], 'clave_22': 'prueba'}}\n"
          ]
        }
      ],
      "source": [
        "dict_1 = {\"clave_1\": 1, \"clave_2\": {\"clave_21\": [1, 2, 3], \"clave_22\": \"prueba\"}}\n",
        "print (dict_1)"
      ]
    },
    {
      "cell_type": "markdown",
      "metadata": {
        "id": "YZ4hAnHl7AG-"
      },
      "source": [
        "##### Creación de diccionarios desde tuplas clave-valor"
      ]
    },
    {
      "cell_type": "code",
      "execution_count": 40,
      "metadata": {
        "colab": {
          "base_uri": "https://localhost:8080/"
        },
        "id": "zRYbzwDR7AG-",
        "outputId": "026e9b24-dc06-4d9c-9e8e-5938f20de85b"
      },
      "outputs": [
        {
          "output_type": "stream",
          "name": "stdout",
          "text": [
            "{'uno': 1, 'dos': 2, 'tres': 3, 'cuatro': 4, 'cinco': 5}\n"
          ]
        }
      ],
      "source": [
        "list_1 = [\"uno\", \"dos\", \"tres\", \"cuatro\", \"cinco\"]\n",
        "tuple_1 = (1, 2, 3, 4, 5)\n",
        "\n",
        "dict_1 = dict(zip(list_1, tuple_1))\n",
        "print (dict_1)"
      ]
    },
    {
      "cell_type": "markdown",
      "metadata": {
        "id": "RRmCWgpf7AG-"
      },
      "source": [
        "##### Unión de dos diccionarios"
      ]
    },
    {
      "cell_type": "code",
      "execution_count": 41,
      "metadata": {
        "colab": {
          "base_uri": "https://localhost:8080/"
        },
        "id": "Z7DXxCaq7AG-",
        "outputId": "75de7dfe-5c1d-4f4a-bccb-81df05bbef27"
      },
      "outputs": [
        {
          "output_type": "stream",
          "name": "stdout",
          "text": [
            "{'clave_1': 1, 'clave_2': 2, 'clave_3': 3, 'clave_4': 4}\n"
          ]
        }
      ],
      "source": [
        "dict_1 = {\"clave_1\": 1, \"clave_2\": 2}\n",
        "dict_2 = {\"clave_3\": 3, \"clave_4\": 4}\n",
        "dict_1.update(dict_2)\n",
        "print (dict_1)"
      ]
    },
    {
      "cell_type": "markdown",
      "metadata": {
        "id": "kCA2tDcK7AG-"
      },
      "source": [
        "##### Inserción (o modificación) de un elemento del diccionario por clave"
      ]
    },
    {
      "cell_type": "code",
      "execution_count": 42,
      "metadata": {
        "colab": {
          "base_uri": "https://localhost:8080/"
        },
        "id": "Ab6sL_1c7AG-",
        "outputId": "2e40f134-e2ed-4ea8-ad05-cc6259000e27"
      },
      "outputs": [
        {
          "output_type": "stream",
          "name": "stdout",
          "text": [
            "{'clave_1': 50, 'clave_2': 2, 'clave_3': 'prueba'}\n"
          ]
        }
      ],
      "source": [
        "dict_1 = {\"clave_1\": 1, \"clave_2\": 2}\n",
        "dict_1[\"clave_3\"] = \"prueba\"\n",
        "dict_1[\"clave_1\"] = 50\n",
        "print (dict_1)"
      ]
    },
    {
      "cell_type": "markdown",
      "metadata": {
        "id": "Cgr-DmrW7AG-"
      },
      "source": [
        "##### Comprobación de si un elemento existe en el diccionario. `in`"
      ]
    },
    {
      "cell_type": "code",
      "execution_count": 43,
      "metadata": {
        "colab": {
          "base_uri": "https://localhost:8080/"
        },
        "id": "LIo05YMP7AG-",
        "outputId": "db8d5075-466e-4e6c-e6e6-82d8d495c987"
      },
      "outputs": [
        {
          "output_type": "stream",
          "name": "stdout",
          "text": [
            "True\n",
            "False\n"
          ]
        }
      ],
      "source": [
        "dict_1 = {\"clave_1\": 1, \"clave_2\": \"prueba\"}\n",
        "print (\"clave_1\" in dict_1)\n",
        "print (1 in dict_1)"
      ]
    },
    {
      "cell_type": "markdown",
      "metadata": {
        "id": "QCgyza3y7AG-"
      },
      "source": [
        "##### Eliminación de un elemento de un diccionario. `del`"
      ]
    },
    {
      "cell_type": "code",
      "execution_count": 44,
      "metadata": {
        "colab": {
          "base_uri": "https://localhost:8080/"
        },
        "id": "Muq3FgNM7AG-",
        "outputId": "c230690b-4432-46b2-d2be-46b2c579d8dd"
      },
      "outputs": [
        {
          "output_type": "stream",
          "name": "stdout",
          "text": [
            "{'clave_2': 'prueba'}\n"
          ]
        }
      ],
      "source": [
        "dict_1 = {\"clave_1\": 1, \"clave_2\": \"prueba\"}\n",
        "del dict_1[\"clave_1\"]\n",
        "print (dict_1)"
      ]
    },
    {
      "cell_type": "markdown",
      "metadata": {
        "id": "mA1aMKnP7AG-"
      },
      "source": [
        "##### Eliminación de todos los elementos de un diccionario. `clear`"
      ]
    },
    {
      "cell_type": "code",
      "execution_count": 45,
      "metadata": {
        "colab": {
          "base_uri": "https://localhost:8080/"
        },
        "id": "uiZVNpEJ7AG-",
        "outputId": "ef9a3058-f2f5-480b-cf9b-e07841d97930"
      },
      "outputs": [
        {
          "output_type": "stream",
          "name": "stdout",
          "text": [
            "{}\n"
          ]
        }
      ],
      "source": [
        "dict_1 = {\"clave_1\": 1, \"clave_2\": \"prueba\"}\n",
        "dict_1.clear()\n",
        "print (dict_1)"
      ]
    },
    {
      "cell_type": "markdown",
      "metadata": {
        "id": "xa187IVp7AG_"
      },
      "source": [
        "##### Acceso a un elemento por clave"
      ]
    },
    {
      "cell_type": "code",
      "execution_count": 46,
      "metadata": {
        "colab": {
          "base_uri": "https://localhost:8080/"
        },
        "id": "DAEQYe2F7AG_",
        "outputId": "ba66efa5-71ba-4722-cc66-8c542fb9eb1e"
      },
      "outputs": [
        {
          "output_type": "stream",
          "name": "stdout",
          "text": [
            "1\n"
          ]
        }
      ],
      "source": [
        "dict_1 = {\"clave_1\": 1, \"clave_2\": \"prueba\"}\n",
        "print (dict_1[\"clave_1\"])"
      ]
    },
    {
      "cell_type": "markdown",
      "metadata": {
        "id": "Fs6aBHty7AG_"
      },
      "source": [
        "##### Recuperación de elementos como una lista. `.items()`"
      ]
    },
    {
      "cell_type": "code",
      "execution_count": 47,
      "metadata": {
        "colab": {
          "base_uri": "https://localhost:8080/"
        },
        "id": "Xd5yls0n7AG_",
        "outputId": "c5fb2840-9612-4ad9-e9b9-0acfa35d685e"
      },
      "outputs": [
        {
          "output_type": "stream",
          "name": "stdout",
          "text": [
            "[('clave_1', 1), ('clave_2', 2), ('clave_3', 3)]\n"
          ]
        }
      ],
      "source": [
        "dict_1 = {\"clave_1\": 1, \"clave_2\": 2, \"clave_3\": 3}\n",
        "print (list(dict_1.items()))"
      ]
    },
    {
      "cell_type": "markdown",
      "metadata": {
        "id": "LbH726207AG_"
      },
      "source": [
        "##### Recuperación de claves como una lista `.keys()`"
      ]
    },
    {
      "cell_type": "code",
      "execution_count": 48,
      "metadata": {
        "colab": {
          "base_uri": "https://localhost:8080/"
        },
        "id": "HF_hQclh7AG_",
        "outputId": "dd79bc2e-e8bf-4691-ebfd-c782edcb57c3"
      },
      "outputs": [
        {
          "output_type": "stream",
          "name": "stdout",
          "text": [
            "['clave_1', 'clave_2', 'clave_3']\n"
          ]
        }
      ],
      "source": [
        "dict_1 = {\"clave_1\": 1, \"clave_2\": 2, \"clave_3\": 3}\n",
        "print (list(dict_1.keys()))"
      ]
    },
    {
      "cell_type": "markdown",
      "metadata": {
        "id": "j0WJln0B7AG_"
      },
      "source": [
        "##### Recuperación de valores como una lista"
      ]
    },
    {
      "cell_type": "code",
      "execution_count": 49,
      "metadata": {
        "colab": {
          "base_uri": "https://localhost:8080/"
        },
        "id": "uiRMJ6X_7AG_",
        "outputId": "ce18ef43-c759-4bb2-e11e-73be5b2e3099"
      },
      "outputs": [
        {
          "output_type": "stream",
          "name": "stdout",
          "text": [
            "[1, 2, 3]\n"
          ]
        }
      ],
      "source": [
        "dict_1 = {\"clave_1\": 1, \"clave_2\": 2, \"clave_3\": 3}\n",
        "print (list(dict_1.values()))"
      ]
    },
    {
      "cell_type": "markdown",
      "metadata": {
        "id": "Ws8GqcJw7AG_"
      },
      "source": [
        "## Conjuntos (set)"
      ]
    },
    {
      "cell_type": "markdown",
      "metadata": {
        "id": "wDtqJt9M7AG_"
      },
      "source": [
        "Un conjunto es una secuencia:\n",
        "<ul>\n",
        "<li>Unidimensional (de un único nivel)</li>\n",
        "<li>Mutable</li>\n",
        "<li>De tamaño variable (al ser mutable es obvio)</li>\n",
        "<li>Desordenada</li>\n",
        "<li>Cuyos elementos son valores o secuencias</li>\n",
        "<li>Cuyos elementos son únicos (no hay elementos repetidos)</li>\n",
        "</ul>"
      ]
    },
    {
      "cell_type": "markdown",
      "metadata": {
        "id": "j0uySmGv7AG_"
      },
      "source": [
        "##### Cración de un conjunto"
      ]
    },
    {
      "cell_type": "code",
      "execution_count": 50,
      "metadata": {
        "colab": {
          "base_uri": "https://localhost:8080/"
        },
        "id": "hILThwCb7AG_",
        "outputId": "33ef942c-58fb-43b8-96c6-0f5a26cfd1e1"
      },
      "outputs": [
        {
          "output_type": "stream",
          "name": "stdout",
          "text": [
            "{1, 2, 3, 4, 5}\n"
          ]
        }
      ],
      "source": [
        "set_1 = {1, 2, 3, 4, 5}\n",
        "print (set_1)"
      ]
    },
    {
      "cell_type": "markdown",
      "metadata": {
        "id": "85h1cn4C7AHA"
      },
      "source": [
        "##### Conversión/casting a conjunto"
      ]
    },
    {
      "cell_type": "code",
      "execution_count": 51,
      "metadata": {
        "colab": {
          "base_uri": "https://localhost:8080/"
        },
        "id": "HddEMlGl7AHA",
        "outputId": "58fb891b-d315-4877-e144-5592924bab03"
      },
      "outputs": [
        {
          "output_type": "stream",
          "name": "stdout",
          "text": [
            "<class 'set'>\n"
          ]
        }
      ],
      "source": [
        "list_1 = [1, 2, 3, 4, 5]\n",
        "set_1 = set(list_1)\n",
        "print (type(set_1))"
      ]
    },
    {
      "cell_type": "markdown",
      "metadata": {
        "id": "ysZYH3Ej7AHA"
      },
      "source": [
        "##### Unión de conjuntos"
      ]
    },
    {
      "cell_type": "code",
      "execution_count": 52,
      "metadata": {
        "colab": {
          "base_uri": "https://localhost:8080/"
        },
        "id": "vZElXRva7AHA",
        "outputId": "2830ef3a-8e79-4d8f-98bb-e850a8d0c949"
      },
      "outputs": [
        {
          "output_type": "stream",
          "name": "stdout",
          "text": [
            "{1, 2, 3, 4, 5, 6, 7}\n"
          ]
        }
      ],
      "source": [
        "set_1 = {1, 2, 3, 4, 5}\n",
        "set_2 = {3, 4, 5, 6, 7}\n",
        "print (set_1 | set_2)"
      ]
    },
    {
      "cell_type": "markdown",
      "metadata": {
        "id": "ZKM8THAk7AHA"
      },
      "source": [
        "##### Intersección de conjuntos"
      ]
    },
    {
      "cell_type": "code",
      "execution_count": 53,
      "metadata": {
        "colab": {
          "base_uri": "https://localhost:8080/"
        },
        "id": "vaNYQ4Jc7AHA",
        "outputId": "7a5335c7-cb75-4017-bd85-e2edc624c94a"
      },
      "outputs": [
        {
          "output_type": "stream",
          "name": "stdout",
          "text": [
            "{3, 4, 5}\n"
          ]
        }
      ],
      "source": [
        "set_1 = {1, 2, 3, 4, 5}\n",
        "set_2 = {3, 4, 5, 6, 7}\n",
        "print (set_1 & set_2)"
      ]
    },
    {
      "cell_type": "markdown",
      "metadata": {
        "id": "EQx8m67G7AHA"
      },
      "source": [
        "##### Diferencia de conjuntos"
      ]
    },
    {
      "cell_type": "code",
      "execution_count": 54,
      "metadata": {
        "colab": {
          "base_uri": "https://localhost:8080/"
        },
        "id": "QPwft5NT7AHA",
        "outputId": "36df8717-6669-4dc8-d2de-fb7e5eff4188"
      },
      "outputs": [
        {
          "output_type": "stream",
          "name": "stdout",
          "text": [
            "{1, 2}\n",
            "{6, 7}\n"
          ]
        }
      ],
      "source": [
        "set_1 = {1, 2, 3, 4, 5}\n",
        "set_2 = {3, 4, 5, 6, 7}\n",
        "print (set_1 - set_2)\n",
        "print (set_2 - set_1)"
      ]
    },
    {
      "cell_type": "markdown",
      "metadata": {
        "id": "RuQ2znt67AHA"
      },
      "source": [
        "##### Diferencia simétrica de conjuntos - (Unión - Intersección)"
      ]
    },
    {
      "cell_type": "code",
      "execution_count": 55,
      "metadata": {
        "colab": {
          "base_uri": "https://localhost:8080/"
        },
        "id": "nxyMSxtT7AHA",
        "outputId": "30263b16-1faf-424f-9b54-439dccec87ed"
      },
      "outputs": [
        {
          "output_type": "stream",
          "name": "stdout",
          "text": [
            "{1, 2, 6, 7}\n",
            "{1, 2, 6, 7}\n"
          ]
        }
      ],
      "source": [
        "set_1 = {1, 2, 3, 4, 5}\n",
        "set_2 = {3, 4, 5, 6, 7}\n",
        "print (set_1 ^ set_2)\n",
        "print( set_2 ^ set_1)"
      ]
    },
    {
      "cell_type": "markdown",
      "metadata": {
        "id": "rS0F6_m_7AHB"
      },
      "source": [
        "##### Inserción de elementos en un conjunto"
      ]
    },
    {
      "cell_type": "code",
      "execution_count": 56,
      "metadata": {
        "colab": {
          "base_uri": "https://localhost:8080/"
        },
        "id": "J-djK9WQ7AHB",
        "outputId": "fa9c2d6e-2e3a-4209-cc61-a60ca80fdcbe"
      },
      "outputs": [
        {
          "output_type": "stream",
          "name": "stdout",
          "text": [
            "{1, 2, 3, 4, 5, 6}\n"
          ]
        }
      ],
      "source": [
        "set_1 = {1, 2, 3, 4, 5}\n",
        "set_1.add(6)\n",
        "print (set_1)"
      ]
    },
    {
      "cell_type": "markdown",
      "metadata": {
        "id": "k54fD2DR7AHB"
      },
      "source": [
        "##### Comprobación de existencia de un elemento en el conjunto"
      ]
    },
    {
      "cell_type": "code",
      "execution_count": 57,
      "metadata": {
        "colab": {
          "base_uri": "https://localhost:8080/"
        },
        "id": "-CStWFDP7AHB",
        "outputId": "8a42f3fc-1293-4318-e98e-77123e07cac3"
      },
      "outputs": [
        {
          "output_type": "execute_result",
          "data": {
            "text/plain": [
              "True"
            ]
          },
          "metadata": {},
          "execution_count": 57
        }
      ],
      "source": [
        "set_1 = {1, 2, 3, 4, 5}\n",
        "3 in set_1"
      ]
    },
    {
      "cell_type": "markdown",
      "metadata": {
        "id": "_o3ALXaZ7AHB"
      },
      "source": [
        "##### Comprobación de subconjunto"
      ]
    },
    {
      "cell_type": "code",
      "execution_count": 58,
      "metadata": {
        "colab": {
          "base_uri": "https://localhost:8080/"
        },
        "id": "pUvg6uH77AHB",
        "outputId": "e14f3845-b0e6-46e9-a447-9c6dd44cb7d4"
      },
      "outputs": [
        {
          "output_type": "execute_result",
          "data": {
            "text/plain": [
              "True"
            ]
          },
          "metadata": {},
          "execution_count": 58
        }
      ],
      "source": [
        "set_1 = {1, 2, 3, 4, 5}\n",
        "set_2 = {1, 2, 3}\n",
        "set_1 >= set_2"
      ]
    },
    {
      "cell_type": "markdown",
      "metadata": {
        "id": "Zc16IYYa7AHB"
      },
      "source": [
        "##### Comprobación de superconjunto"
      ]
    },
    {
      "cell_type": "code",
      "execution_count": 59,
      "metadata": {
        "colab": {
          "base_uri": "https://localhost:8080/"
        },
        "id": "FJgYX_f37AHB",
        "outputId": "5f67bd50-92b2-430c-f334-1f5881b34307"
      },
      "outputs": [
        {
          "output_type": "execute_result",
          "data": {
            "text/plain": [
              "True"
            ]
          },
          "metadata": {},
          "execution_count": 59
        }
      ],
      "source": [
        "set_1 = {1, 2, 3, 4, 5}\n",
        "set_2 = {1, 2, 3}\n",
        "set_2 <= set_1"
      ]
    },
    {
      "cell_type": "markdown",
      "metadata": {
        "id": "vMEGyFAJ7AHB"
      },
      "source": [
        "##### Eliminación de un elemento de un conjunto por valor"
      ]
    },
    {
      "cell_type": "code",
      "execution_count": 60,
      "metadata": {
        "colab": {
          "base_uri": "https://localhost:8080/"
        },
        "id": "q6SVhi6y7AHB",
        "outputId": "85b95629-b46b-4858-cfc4-cdb7e5bf320f"
      },
      "outputs": [
        {
          "output_type": "stream",
          "name": "stdout",
          "text": [
            "{1, 2, 3, 4}\n"
          ]
        }
      ],
      "source": [
        "set_1 = {1, 2, 3, 4, 5}\n",
        "set_1.remove(5)\n",
        "\n",
        "set_1.discard(6) #Elimina elemento (si no existe en el conjunto no pasa nada)\n",
        "print (set_1)"
      ]
    },
    {
      "cell_type": "markdown",
      "metadata": {
        "id": "u8vL09Bv7AHB"
      },
      "source": [
        "##### Eliminación de todos los elementos de un conjunto"
      ]
    },
    {
      "cell_type": "code",
      "execution_count": 61,
      "metadata": {
        "colab": {
          "base_uri": "https://localhost:8080/"
        },
        "id": "TzCQwLnX7AHC",
        "outputId": "da1dba9c-1124-40e5-caa3-58abd93e4913"
      },
      "outputs": [
        {
          "output_type": "stream",
          "name": "stdout",
          "text": [
            "set()\n"
          ]
        }
      ],
      "source": [
        "set_1 = {1, 2, 3, 4, 5}\n",
        "set_1.clear()\n",
        "print (set_1)"
      ]
    }
  ],
  "metadata": {
    "anaconda-cloud": {},
    "kernelspec": {
      "display_name": "Python 3",
      "language": "python",
      "name": "python3"
    },
    "language_info": {
      "codemirror_mode": {
        "name": "ipython",
        "version": 3
      },
      "file_extension": ".py",
      "mimetype": "text/x-python",
      "name": "python",
      "nbconvert_exporter": "python",
      "pygments_lexer": "ipython3",
      "version": "3.8.8"
    },
    "colab": {
      "provenance": []
    }
  },
  "nbformat": 4,
  "nbformat_minor": 0
}