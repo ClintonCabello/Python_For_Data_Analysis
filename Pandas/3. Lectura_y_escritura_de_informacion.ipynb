{
  "cells": [
    {
      "cell_type": "markdown",
      "metadata": {
        "id": "Ox0mJzbCDB8P"
      },
      "source": [
        "# Lectura y escritura de información"
      ]
    },
    {
      "cell_type": "markdown",
      "metadata": {
        "id": "q-MShqKVDB8R"
      },
      "source": [
        "Más que creando Series o DataFrames de cero, o incluso a partir de secuencias del core de Python o ndarrays, el uso más típico de pandas se basa en la carga de información desde ficheros/fuentes de información para su posterior exploración, transformación y análisis."
      ]
    },
    {
      "cell_type": "code",
      "source": [
        "from google.colab import drive\n",
        "drive.mount('/content/drive')"
      ],
      "metadata": {
        "colab": {
          "base_uri": "https://localhost:8080/"
        },
        "id": "6RRGfcz_DOS1",
        "outputId": "ea428735-13c0-4841-ca52-4439336a98cf"
      },
      "execution_count": 1,
      "outputs": [
        {
          "output_type": "stream",
          "name": "stdout",
          "text": [
            "Drive already mounted at /content/drive; to attempt to forcibly remount, call drive.mount(\"/content/drive\", force_remount=True).\n"
          ]
        }
      ]
    },
    {
      "cell_type": "code",
      "execution_count": 2,
      "metadata": {
        "id": "UTDOmAHyDB8S"
      },
      "outputs": [],
      "source": [
        "import numpy as np\n",
        "import pandas as pd"
      ]
    },
    {
      "cell_type": "markdown",
      "metadata": {
        "id": "G1g1PR-cDB8S"
      },
      "source": [
        "## Lectura de ficheros en formato texto"
      ]
    },
    {
      "cell_type": "markdown",
      "metadata": {
        "id": "pCIgVAqhDB8T"
      },
      "source": [
        "Probablemente, una de las formas más recurrentes de trabajo para el análisis de datos: fuentes de datos públicas, logs, tablas históricas de información, exportaciones desde base de datos... La librería pandas, nos ofrece funciones para trabajar con ficheros en múltiples formatos, todos ellos creando un DataFrame con la información leída:<br/>\n",
        "<ul>\n",
        "<li>Ficheros separados por coma (.csv): mediante la función <b>read_csv</b>.</li>\n",
        "<li>Ficheros separados por tabulador (.tsv): mediante la función <b>read_table</b></li>\n",
        "<li>Ficheros de ancho fijo: mediante la función <b>read_fwf</b>.</li>\n",
        "</ul>\n",
        "\n",
        "De estos tres métodos de lectura de información, el más común es el segundo, ya que, por un lado, engloba al primero permitiendo el establecimiento del carácter separador por parte del desarrollado y, por otro, porque los ficheros de ancho fijo son cada vez menos frecuentes (aunque se siguen usando).<br/>\n",
        "\n",
        "Tanto <b>read_csv</b> como <b>read_table</b> tienen un conjunto muy amplio de parámetros que permiten configurar de un modo preciso la lectura de información que se va a hacer. Los parámetros más importantes/comunes son los siguientes:<br/>\n",
        "<ul>\n",
        "<li><b>path:</b> Ruta del fichero del que se va a realizar la lectura.</li>\n",
        "<li><b>sep:</b> Carácter(es) que se utilizan como separador de campos en el fichero.</li>\n",
        "<li><b>header:</b> Índice de la fila que contiene los nombres de las columnas (None en caso de no haber).</li>\n",
        "<li><b>index_col:</b> Índice de la columna o secuencia de índices que se deben usar como índice de filas de los datos.</li>\n",
        "<li><b>skiprows:</b> Número de filas o secuencia de índices de fila que se deben ignorar en la carga.</li>\n",
        "<li><b>names:</b> Secuencia que contiene los nombres de las columnas (usado junto con header=None).</li>\n",
        "<li><b>na_values:</b> Secuencia de valores que, de encontrarse en el fichero, deben ser tratados como NaN.</li>\n",
        "<li><b>dtype:</b> Diccionario en el que las claves serán nombres de columnas y los valores serán tipos de NumPy a los que se debe convertir su contenido.</li>\n",
        "<li><b>parse_dates:</b> Flag que indica si Python debe intentar parsear datos con formato semejante a las fechas como fechas. Puede contenter un listado de nombres de columnas que deberán unirse para el parseo como fecha.</li>\n",
        "<li><b>converters:</b> Diccionario en el que las claves serán nombres de columnas y los valores funciones que se deberán aplicar al contenido de dichas columnas durante la carga.</li>\n",
        "<li><b>dayfirst:</b> Indica si al parsear fechas se debe esperar el día primero o el mes. </li>\n",
        "<li><b>nrows:</b> Número de filas a leer desde el principio del fichero.</li>\n",
        "<li><b>chunksize:</b> Tamaño a utilizar para la lectura incremental del fichero.</li>\n",
        "<li><b>skip_footer:</b> Número de filas a ignorar del final del fichero.</li>\n",
        "<li><b>enconding:</b> Codificación a esperar del fichero leído.</li>\n",
        "<li><b>squeeze:</b> Flag que indica que si los datos leídos sólo contienen una columna el resultado sea una Serie en lugar de un DataFrame.</li>\n",
        "<li><b>thousands:</b> Carácter a utilizar para detectar el separador de miles.</li>\n",
        "<li><b>decimal:</b> Carácter a utilizar para detectar el separador de decimales.</li>\n",
        "</ul>"
      ]
    },
    {
      "cell_type": "code",
      "execution_count": 3,
      "metadata": {
        "colab": {
          "base_uri": "https://localhost:8080/",
          "height": 36
        },
        "id": "Jd7TCjMyDB8T",
        "outputId": "4f29b844-a04e-44da-f72d-cfb3d04e9413"
      },
      "outputs": [
        {
          "output_type": "execute_result",
          "data": {
            "text/plain": [
              "'/content'"
            ],
            "application/vnd.google.colaboratory.intrinsic+json": {
              "type": "string"
            }
          },
          "metadata": {},
          "execution_count": 3
        }
      ],
      "source": [
        "%pwd"
      ]
    },
    {
      "cell_type": "code",
      "execution_count": 4,
      "metadata": {
        "scrolled": true,
        "colab": {
          "base_uri": "https://localhost:8080/",
          "height": 223
        },
        "id": "IKA9lJstDB8T",
        "outputId": "b98c84d2-98f5-4c18-a111-15d46b3b8b4a"
      },
      "outputs": [
        {
          "output_type": "execute_result",
          "data": {
            "text/plain": [
              "    año  id_distrito distrito  id_barrio   barrio id_uso  \\\n",
              "0  2014            1   Centro         11  PALACIO      A   \n",
              "1  2014            1   Centro         11  PALACIO      C   \n",
              "2  2014            1   Centro         11  PALACIO      E   \n",
              "3  2014            1   Centro         11  PALACIO      G   \n",
              "4  2014            1   Centro         11  PALACIO      I   \n",
              "\n",
              "                       uso  num_inmuebles  año_cons_medio  sup_cons  \\\n",
              "0  Almacén-Estacionamiento           3034          1969.0  214457.0   \n",
              "1                Comercial           1407          1921.0  223552.0   \n",
              "2                 Cultural             36          1937.0   62963.0   \n",
              "3        Ocio y Hostelería            254          1919.0  114226.0   \n",
              "4               Industrial             22          1942.0   13228.0   \n",
              "\n",
              "   sup_suelo  valor_catastral  \n",
              "0        NaN     1.295259e+08  \n",
              "1        NaN     4.076055e+08  \n",
              "2        NaN     7.582872e+07  \n",
              "3        NaN     1.954138e+08  \n",
              "4        NaN     1.180795e+07  "
            ],
            "text/html": [
              "\n",
              "  <div id=\"df-9ab70c6f-490d-4be8-a533-e562796dfbad\" class=\"colab-df-container\">\n",
              "    <div>\n",
              "<style scoped>\n",
              "    .dataframe tbody tr th:only-of-type {\n",
              "        vertical-align: middle;\n",
              "    }\n",
              "\n",
              "    .dataframe tbody tr th {\n",
              "        vertical-align: top;\n",
              "    }\n",
              "\n",
              "    .dataframe thead th {\n",
              "        text-align: right;\n",
              "    }\n",
              "</style>\n",
              "<table border=\"1\" class=\"dataframe\">\n",
              "  <thead>\n",
              "    <tr style=\"text-align: right;\">\n",
              "      <th></th>\n",
              "      <th>año</th>\n",
              "      <th>id_distrito</th>\n",
              "      <th>distrito</th>\n",
              "      <th>id_barrio</th>\n",
              "      <th>barrio</th>\n",
              "      <th>id_uso</th>\n",
              "      <th>uso</th>\n",
              "      <th>num_inmuebles</th>\n",
              "      <th>año_cons_medio</th>\n",
              "      <th>sup_cons</th>\n",
              "      <th>sup_suelo</th>\n",
              "      <th>valor_catastral</th>\n",
              "    </tr>\n",
              "  </thead>\n",
              "  <tbody>\n",
              "    <tr>\n",
              "      <th>0</th>\n",
              "      <td>2014</td>\n",
              "      <td>1</td>\n",
              "      <td>Centro</td>\n",
              "      <td>11</td>\n",
              "      <td>PALACIO</td>\n",
              "      <td>A</td>\n",
              "      <td>Almacén-Estacionamiento</td>\n",
              "      <td>3034</td>\n",
              "      <td>1969.0</td>\n",
              "      <td>214457.0</td>\n",
              "      <td>NaN</td>\n",
              "      <td>1.295259e+08</td>\n",
              "    </tr>\n",
              "    <tr>\n",
              "      <th>1</th>\n",
              "      <td>2014</td>\n",
              "      <td>1</td>\n",
              "      <td>Centro</td>\n",
              "      <td>11</td>\n",
              "      <td>PALACIO</td>\n",
              "      <td>C</td>\n",
              "      <td>Comercial</td>\n",
              "      <td>1407</td>\n",
              "      <td>1921.0</td>\n",
              "      <td>223552.0</td>\n",
              "      <td>NaN</td>\n",
              "      <td>4.076055e+08</td>\n",
              "    </tr>\n",
              "    <tr>\n",
              "      <th>2</th>\n",
              "      <td>2014</td>\n",
              "      <td>1</td>\n",
              "      <td>Centro</td>\n",
              "      <td>11</td>\n",
              "      <td>PALACIO</td>\n",
              "      <td>E</td>\n",
              "      <td>Cultural</td>\n",
              "      <td>36</td>\n",
              "      <td>1937.0</td>\n",
              "      <td>62963.0</td>\n",
              "      <td>NaN</td>\n",
              "      <td>7.582872e+07</td>\n",
              "    </tr>\n",
              "    <tr>\n",
              "      <th>3</th>\n",
              "      <td>2014</td>\n",
              "      <td>1</td>\n",
              "      <td>Centro</td>\n",
              "      <td>11</td>\n",
              "      <td>PALACIO</td>\n",
              "      <td>G</td>\n",
              "      <td>Ocio y Hostelería</td>\n",
              "      <td>254</td>\n",
              "      <td>1919.0</td>\n",
              "      <td>114226.0</td>\n",
              "      <td>NaN</td>\n",
              "      <td>1.954138e+08</td>\n",
              "    </tr>\n",
              "    <tr>\n",
              "      <th>4</th>\n",
              "      <td>2014</td>\n",
              "      <td>1</td>\n",
              "      <td>Centro</td>\n",
              "      <td>11</td>\n",
              "      <td>PALACIO</td>\n",
              "      <td>I</td>\n",
              "      <td>Industrial</td>\n",
              "      <td>22</td>\n",
              "      <td>1942.0</td>\n",
              "      <td>13228.0</td>\n",
              "      <td>NaN</td>\n",
              "      <td>1.180795e+07</td>\n",
              "    </tr>\n",
              "  </tbody>\n",
              "</table>\n",
              "</div>\n",
              "    <div class=\"colab-df-buttons\">\n",
              "\n",
              "  <div class=\"colab-df-container\">\n",
              "    <button class=\"colab-df-convert\" onclick=\"convertToInteractive('df-9ab70c6f-490d-4be8-a533-e562796dfbad')\"\n",
              "            title=\"Convert this dataframe to an interactive table.\"\n",
              "            style=\"display:none;\">\n",
              "\n",
              "  <svg xmlns=\"http://www.w3.org/2000/svg\" height=\"24px\" viewBox=\"0 -960 960 960\">\n",
              "    <path d=\"M120-120v-720h720v720H120Zm60-500h600v-160H180v160Zm220 220h160v-160H400v160Zm0 220h160v-160H400v160ZM180-400h160v-160H180v160Zm440 0h160v-160H620v160ZM180-180h160v-160H180v160Zm440 0h160v-160H620v160Z\"/>\n",
              "  </svg>\n",
              "    </button>\n",
              "\n",
              "  <style>\n",
              "    .colab-df-container {\n",
              "      display:flex;\n",
              "      gap: 12px;\n",
              "    }\n",
              "\n",
              "    .colab-df-convert {\n",
              "      background-color: #E8F0FE;\n",
              "      border: none;\n",
              "      border-radius: 50%;\n",
              "      cursor: pointer;\n",
              "      display: none;\n",
              "      fill: #1967D2;\n",
              "      height: 32px;\n",
              "      padding: 0 0 0 0;\n",
              "      width: 32px;\n",
              "    }\n",
              "\n",
              "    .colab-df-convert:hover {\n",
              "      background-color: #E2EBFA;\n",
              "      box-shadow: 0px 1px 2px rgba(60, 64, 67, 0.3), 0px 1px 3px 1px rgba(60, 64, 67, 0.15);\n",
              "      fill: #174EA6;\n",
              "    }\n",
              "\n",
              "    .colab-df-buttons div {\n",
              "      margin-bottom: 4px;\n",
              "    }\n",
              "\n",
              "    [theme=dark] .colab-df-convert {\n",
              "      background-color: #3B4455;\n",
              "      fill: #D2E3FC;\n",
              "    }\n",
              "\n",
              "    [theme=dark] .colab-df-convert:hover {\n",
              "      background-color: #434B5C;\n",
              "      box-shadow: 0px 1px 3px 1px rgba(0, 0, 0, 0.15);\n",
              "      filter: drop-shadow(0px 1px 2px rgba(0, 0, 0, 0.3));\n",
              "      fill: #FFFFFF;\n",
              "    }\n",
              "  </style>\n",
              "\n",
              "    <script>\n",
              "      const buttonEl =\n",
              "        document.querySelector('#df-9ab70c6f-490d-4be8-a533-e562796dfbad button.colab-df-convert');\n",
              "      buttonEl.style.display =\n",
              "        google.colab.kernel.accessAllowed ? 'block' : 'none';\n",
              "\n",
              "      async function convertToInteractive(key) {\n",
              "        const element = document.querySelector('#df-9ab70c6f-490d-4be8-a533-e562796dfbad');\n",
              "        const dataTable =\n",
              "          await google.colab.kernel.invokeFunction('convertToInteractive',\n",
              "                                                    [key], {});\n",
              "        if (!dataTable) return;\n",
              "\n",
              "        const docLinkHtml = 'Like what you see? Visit the ' +\n",
              "          '<a target=\"_blank\" href=https://colab.research.google.com/notebooks/data_table.ipynb>data table notebook</a>'\n",
              "          + ' to learn more about interactive tables.';\n",
              "        element.innerHTML = '';\n",
              "        dataTable['output_type'] = 'display_data';\n",
              "        await google.colab.output.renderOutput(dataTable, element);\n",
              "        const docLink = document.createElement('div');\n",
              "        docLink.innerHTML = docLinkHtml;\n",
              "        element.appendChild(docLink);\n",
              "      }\n",
              "    </script>\n",
              "  </div>\n",
              "\n",
              "\n",
              "<div id=\"df-9b011ebe-219a-4041-b637-9e6ecc60ecf9\">\n",
              "  <button class=\"colab-df-quickchart\" onclick=\"quickchart('df-9b011ebe-219a-4041-b637-9e6ecc60ecf9')\"\n",
              "            title=\"Suggest charts\"\n",
              "            style=\"display:none;\">\n",
              "\n",
              "<svg xmlns=\"http://www.w3.org/2000/svg\" height=\"24px\"viewBox=\"0 0 24 24\"\n",
              "     width=\"24px\">\n",
              "    <g>\n",
              "        <path d=\"M19 3H5c-1.1 0-2 .9-2 2v14c0 1.1.9 2 2 2h14c1.1 0 2-.9 2-2V5c0-1.1-.9-2-2-2zM9 17H7v-7h2v7zm4 0h-2V7h2v10zm4 0h-2v-4h2v4z\"/>\n",
              "    </g>\n",
              "</svg>\n",
              "  </button>\n",
              "\n",
              "<style>\n",
              "  .colab-df-quickchart {\n",
              "      --bg-color: #E8F0FE;\n",
              "      --fill-color: #1967D2;\n",
              "      --hover-bg-color: #E2EBFA;\n",
              "      --hover-fill-color: #174EA6;\n",
              "      --disabled-fill-color: #AAA;\n",
              "      --disabled-bg-color: #DDD;\n",
              "  }\n",
              "\n",
              "  [theme=dark] .colab-df-quickchart {\n",
              "      --bg-color: #3B4455;\n",
              "      --fill-color: #D2E3FC;\n",
              "      --hover-bg-color: #434B5C;\n",
              "      --hover-fill-color: #FFFFFF;\n",
              "      --disabled-bg-color: #3B4455;\n",
              "      --disabled-fill-color: #666;\n",
              "  }\n",
              "\n",
              "  .colab-df-quickchart {\n",
              "    background-color: var(--bg-color);\n",
              "    border: none;\n",
              "    border-radius: 50%;\n",
              "    cursor: pointer;\n",
              "    display: none;\n",
              "    fill: var(--fill-color);\n",
              "    height: 32px;\n",
              "    padding: 0;\n",
              "    width: 32px;\n",
              "  }\n",
              "\n",
              "  .colab-df-quickchart:hover {\n",
              "    background-color: var(--hover-bg-color);\n",
              "    box-shadow: 0 1px 2px rgba(60, 64, 67, 0.3), 0 1px 3px 1px rgba(60, 64, 67, 0.15);\n",
              "    fill: var(--button-hover-fill-color);\n",
              "  }\n",
              "\n",
              "  .colab-df-quickchart-complete:disabled,\n",
              "  .colab-df-quickchart-complete:disabled:hover {\n",
              "    background-color: var(--disabled-bg-color);\n",
              "    fill: var(--disabled-fill-color);\n",
              "    box-shadow: none;\n",
              "  }\n",
              "\n",
              "  .colab-df-spinner {\n",
              "    border: 2px solid var(--fill-color);\n",
              "    border-color: transparent;\n",
              "    border-bottom-color: var(--fill-color);\n",
              "    animation:\n",
              "      spin 1s steps(1) infinite;\n",
              "  }\n",
              "\n",
              "  @keyframes spin {\n",
              "    0% {\n",
              "      border-color: transparent;\n",
              "      border-bottom-color: var(--fill-color);\n",
              "      border-left-color: var(--fill-color);\n",
              "    }\n",
              "    20% {\n",
              "      border-color: transparent;\n",
              "      border-left-color: var(--fill-color);\n",
              "      border-top-color: var(--fill-color);\n",
              "    }\n",
              "    30% {\n",
              "      border-color: transparent;\n",
              "      border-left-color: var(--fill-color);\n",
              "      border-top-color: var(--fill-color);\n",
              "      border-right-color: var(--fill-color);\n",
              "    }\n",
              "    40% {\n",
              "      border-color: transparent;\n",
              "      border-right-color: var(--fill-color);\n",
              "      border-top-color: var(--fill-color);\n",
              "    }\n",
              "    60% {\n",
              "      border-color: transparent;\n",
              "      border-right-color: var(--fill-color);\n",
              "    }\n",
              "    80% {\n",
              "      border-color: transparent;\n",
              "      border-right-color: var(--fill-color);\n",
              "      border-bottom-color: var(--fill-color);\n",
              "    }\n",
              "    90% {\n",
              "      border-color: transparent;\n",
              "      border-bottom-color: var(--fill-color);\n",
              "    }\n",
              "  }\n",
              "</style>\n",
              "\n",
              "  <script>\n",
              "    async function quickchart(key) {\n",
              "      const quickchartButtonEl =\n",
              "        document.querySelector('#' + key + ' button');\n",
              "      quickchartButtonEl.disabled = true;  // To prevent multiple clicks.\n",
              "      quickchartButtonEl.classList.add('colab-df-spinner');\n",
              "      try {\n",
              "        const charts = await google.colab.kernel.invokeFunction(\n",
              "            'suggestCharts', [key], {});\n",
              "      } catch (error) {\n",
              "        console.error('Error during call to suggestCharts:', error);\n",
              "      }\n",
              "      quickchartButtonEl.classList.remove('colab-df-spinner');\n",
              "      quickchartButtonEl.classList.add('colab-df-quickchart-complete');\n",
              "    }\n",
              "    (() => {\n",
              "      let quickchartButtonEl =\n",
              "        document.querySelector('#df-9b011ebe-219a-4041-b637-9e6ecc60ecf9 button');\n",
              "      quickchartButtonEl.style.display =\n",
              "        google.colab.kernel.accessAllowed ? 'block' : 'none';\n",
              "    })();\n",
              "  </script>\n",
              "</div>\n",
              "\n",
              "    </div>\n",
              "  </div>\n"
            ],
            "application/vnd.google.colaboratory.intrinsic+json": {
              "type": "dataframe",
              "variable_name": "catastro",
              "summary": "{\n  \"name\": \"catastro\",\n  \"rows\": 3030,\n  \"fields\": [\n    {\n      \"column\": \"a\\u00f1o\",\n      \"properties\": {\n        \"dtype\": \"number\",\n        \"std\": 0,\n        \"min\": 2013,\n        \"max\": 2014,\n        \"num_unique_values\": 2,\n        \"samples\": [\n          2013,\n          2014\n        ],\n        \"semantic_type\": \"\",\n        \"description\": \"\"\n      }\n    },\n    {\n      \"column\": \"id_distrito\",\n      \"properties\": {\n        \"dtype\": \"number\",\n        \"std\": 5,\n        \"min\": 1,\n        \"max\": 21,\n        \"num_unique_values\": 21,\n        \"samples\": [\n          1,\n          18\n        ],\n        \"semantic_type\": \"\",\n        \"description\": \"\"\n      }\n    },\n    {\n      \"column\": \"distrito\",\n      \"properties\": {\n        \"dtype\": \"category\",\n        \"num_unique_values\": 21,\n        \"samples\": [\n          \"Centro\",\n          \"Villa de Vallecas\"\n        ],\n        \"semantic_type\": \"\",\n        \"description\": \"\"\n      }\n    },\n    {\n      \"column\": \"id_barrio\",\n      \"properties\": {\n        \"dtype\": \"number\",\n        \"std\": 58,\n        \"min\": 11,\n        \"max\": 215,\n        \"num_unique_values\": 128,\n        \"samples\": [\n          95,\n          74\n        ],\n        \"semantic_type\": \"\",\n        \"description\": \"\"\n      }\n    },\n    {\n      \"column\": \"barrio\",\n      \"properties\": {\n        \"dtype\": \"category\",\n        \"num_unique_values\": 128,\n        \"samples\": [\n          \"VALDEMAR\\u00cdN\",\n          \"ALMAGRO\"\n        ],\n        \"semantic_type\": \"\",\n        \"description\": \"\"\n      }\n    },\n    {\n      \"column\": \"id_uso\",\n      \"properties\": {\n        \"dtype\": \"category\",\n        \"num_unique_values\": 13,\n        \"samples\": [\n          \"V\",\n          \"R\"\n        ],\n        \"semantic_type\": \"\",\n        \"description\": \"\"\n      }\n    },\n    {\n      \"column\": \"uso\",\n      \"properties\": {\n        \"dtype\": \"category\",\n        \"num_unique_values\": 13,\n        \"samples\": [\n          \"Residencial\",\n          \"Religioso\"\n        ],\n        \"semantic_type\": \"\",\n        \"description\": \"\"\n      }\n    },\n    {\n      \"column\": \"num_inmuebles\",\n      \"properties\": {\n        \"dtype\": \"number\",\n        \"std\": 3845,\n        \"min\": 1,\n        \"max\": 36289,\n        \"num_unique_values\": 931,\n        \"samples\": [\n          781,\n          94\n        ],\n        \"semantic_type\": \"\",\n        \"description\": \"\"\n      }\n    },\n    {\n      \"column\": \"a\\u00f1o_cons_medio\",\n      \"properties\": {\n        \"dtype\": \"number\",\n        \"std\": 50.989195904670865,\n        \"min\": 283.0,\n        \"max\": 2013.0,\n        \"num_unique_values\": 111,\n        \"samples\": [\n          1949.0,\n          1928.0\n        ],\n        \"semantic_type\": \"\",\n        \"description\": \"\"\n      }\n    },\n    {\n      \"column\": \"sup_cons\",\n      \"properties\": {\n        \"dtype\": \"number\",\n        \"std\": 411341.40101170936,\n        \"min\": 26.0,\n        \"max\": 4511346.0,\n        \"num_unique_values\": 2168,\n        \"samples\": [\n          9997.0,\n          3022.0\n        ],\n        \"semantic_type\": \"\",\n        \"description\": \"\"\n      }\n    },\n    {\n      \"column\": \"sup_suelo\",\n      \"properties\": {\n        \"dtype\": \"number\",\n        \"std\": 3104010.1804164634,\n        \"min\": 261.0,\n        \"max\": 23970701.0,\n        \"num_unique_values\": 224,\n        \"samples\": [\n          516615.0,\n          24855.0\n        ],\n        \"semantic_type\": \"\",\n        \"description\": \"\"\n      }\n    },\n    {\n      \"column\": \"valor_catastral\",\n      \"properties\": {\n        \"dtype\": \"number\",\n        \"std\": 464089446.1509809,\n        \"min\": 16058.25,\n        \"max\": 3670798558.94,\n        \"num_unique_values\": 2434,\n        \"samples\": [\n          14439966.71,\n          57230327.66\n        ],\n        \"semantic_type\": \"\",\n        \"description\": \"\"\n      }\n    }\n  ]\n}"
            }
          },
          "metadata": {},
          "execution_count": 4
        }
      ],
      "source": [
        "catastro = pd.read_csv('/content/drive/MyDrive/PYTHON/Introduccion_a_Python/3.pandas/datos/catastro.tsv', sep = \"\\t\")\n",
        "catastro.head()"
      ]
    },
    {
      "cell_type": "code",
      "execution_count": 5,
      "metadata": {
        "colab": {
          "base_uri": "https://localhost:8080/"
        },
        "id": "BwqHz-J4DB8T",
        "outputId": "88af5c9f-a781-4341-8910-711e90ee5258"
      },
      "outputs": [
        {
          "output_type": "execute_result",
          "data": {
            "text/plain": [
              "['año',\n",
              " 'id_distrito',\n",
              " 'distrito',\n",
              " 'id_barrio',\n",
              " 'barrio',\n",
              " 'id_uso',\n",
              " 'uso',\n",
              " 'num_inmuebles',\n",
              " 'año_cons_medio',\n",
              " 'sup_cons',\n",
              " 'sup_suelo',\n",
              " 'valor_catastral']"
            ]
          },
          "metadata": {},
          "execution_count": 5
        }
      ],
      "source": [
        "col = list(catastro.columns)\n",
        "col"
      ]
    },
    {
      "cell_type": "markdown",
      "metadata": {
        "id": "vrZMe9gJDB8T"
      },
      "source": [
        "## Escritura de ficheros en formato texto"
      ]
    },
    {
      "cell_type": "markdown",
      "metadata": {
        "id": "kMmojWU8DB8U"
      },
      "source": [
        "En el caso de la escritura de estructuras de datos de pandas como ficheros de texto, las posibilidades están mucho más unificadas, existiendo una única función <b>to_csv</b>. Es importante indicar que, por defecto, el fichero seleccionado será SIEMPRE sobreescrito.<br/>\n",
        "\n",
        "Los parámetros más comunes de esta función son:<br/>\n",
        "<ul>\n",
        "<li><b>path:</b> Ruta del fichero que se utilizará para la escritura.</li>\n",
        "<li><b>sep:</b> Carácter utilizado como separador de campos.</li>\n",
        "<li><b>na_rep:</b> Cadena que se deberá utilizar para darle representación a los valores NaN.</li>\n",
        "<li><b>float_format:</b> Indicador de formato para los números en coma flotante.</li>\n",
        "<li><b>columns:</b> Secuencia de selección del conjunto de columnas que se desea volcar al fichero.</li>\n",
        "<li><b>header:</b> Flag o secuencia de cadenas que indica si se debe volcar la cabecera al fichero.</li>\n",
        "<li><b>index:</b> Flag que indica si el índice debe ser incluido o no como una columna más en el fichero.</li>\n",
        "<li><b>index_label:</b> Nombre que se le debe dar a la columna de índice en el fichero.</li>\n",
        "<li><b>mode:</b> Modo de apertura del fichero. Por defecto, \"w\".</li>\n",
        "<li><b>encoding:</b> Codificación a utilizar en la escritura del fichero.</li>\n",
        "<li><b>date_format:</b> Indicador de formato a utilizar para escribir fechas.</li>\n",
        "<li><b>decimal:</b> Carácter a utilizar como separador de decimales</li>\n",
        "</ul>"
      ]
    },
    {
      "cell_type": "code",
      "execution_count": 6,
      "metadata": {
        "id": "d4BJH4YdDB8U"
      },
      "outputs": [],
      "source": [
        "catastro.to_csv('/content/drive/MyDrive/PYTHON/Introduccion_a_Python/3.pandas/datos/catastro.tsv', sep = \"|\", index = False)"
      ]
    },
    {
      "cell_type": "markdown",
      "metadata": {
        "id": "q2lX3yAwDB8U"
      },
      "source": [
        "## Trabajo con otros formatos"
      ]
    },
    {
      "cell_type": "markdown",
      "metadata": {
        "id": "epyQ2BeQDB8U"
      },
      "source": [
        "Pandas ofrece facilidades para trabajar con otro tipo de formatos como pueden ser:<br/>\n",
        "<ul>\n",
        "<li><b>Ficheros binarios \"pickle\":</b> <i>pickle</i> es un módulo del core de Python que establece un formato binario que permite almacenar y recuperar cualquier objeto Python en disco. Todos los objetos de pandas tienen un método <b>save</b> y otro <b>load</b> que permiten almacenar y recuperar información en este formato.</li>\n",
        "<li><b>Ficheros binarios \"HDF5\":</b> HDF5 es un \"estándar\" de almacenamiento de información binaria que optimiza las lecturas y escrituras (mediante el almacenamiento de una estructura jerárquica de índices) y permite llevar a cabo diferentes niveles de compresión sobre la información (a costa de rendimiento). Pandas ofrece clases y funciones para trabajar con este tipo de ficheros.</li>\n",
        "<li><b>Ficheros Excel:</b> Pandas contiene clases y funciones que permiten llevar a cabo la carga directa de información desde hojas de ficheros Excel (que deben tener un formato tabular). Por rendimiento y consumo de memoria, siempre que sea viable, es mejor traducir estos ficheros a formatos de texto.</li>\n",
        "</ul>"
      ]
    }
  ],
  "metadata": {
    "kernelspec": {
      "display_name": "Python 3",
      "language": "python",
      "name": "python3"
    },
    "language_info": {
      "codemirror_mode": {
        "name": "ipython",
        "version": 3
      },
      "file_extension": ".py",
      "mimetype": "text/x-python",
      "name": "python",
      "nbconvert_exporter": "python",
      "pygments_lexer": "ipython3",
      "version": "3.8.8"
    },
    "colab": {
      "provenance": []
    }
  },
  "nbformat": 4,
  "nbformat_minor": 0
}